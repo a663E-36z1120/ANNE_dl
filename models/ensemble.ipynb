{
 "cells": [
  {
   "cell_type": "code",
   "execution_count": 53,
   "id": "initial_id",
   "metadata": {
    "collapsed": true,
    "ExecuteTime": {
     "end_time": "2023-12-19T07:48:06.289435954Z",
     "start_time": "2023-12-19T07:48:06.241572002Z"
    }
   },
   "outputs": [],
   "source": [
    "import torch\n",
    "from preprocessing.main import main, read_strings_from_json\n",
    "import numpy as np\n",
    "from dataloader import ANNEDataset\n",
    "from torch.utils.data import DataLoader\n",
    "from sklearn.metrics import confusion_matrix, ConfusionMatrixDisplay\n",
    "import matplotlib.pyplot as plt\n",
    "\n",
    "DATA_DIR = \"/media/a663e-36z/Common/Data/ANNE-data-expanded/\"\n",
    "\n",
    "device = torch.device(\"cuda:0\" if torch.cuda.is_available() else \"cpu\")\n",
    "# device = \"cpu\"\n",
    "\n"
   ]
  },
  {
   "cell_type": "code",
   "execution_count": 54,
   "outputs": [
    {
     "name": "stdout",
     "output_type": "stream",
     "text": [
      "Extracting EDF parameters from /media/a663e-36z/Common/Data/ANNE-data-expanded/22-07-07-21_33_44.C4179.L3806.424-annotated.edf...\n",
      "EDF file detected\n",
      "Setting channel info structure...\n",
      "Creating raw.info structure...\n"
     ]
    },
    {
     "name": "stderr",
     "output_type": "stream",
     "text": [
      "/media/a663e-36z/Common/Projects/Sunnybrook/ANNE_dl/preprocessing/main.py:113: RuntimeWarning: Physical range is not defined in following channels:\n",
      "PLM.events\n",
      "  data = mne.io.read_raw_edf(path)\n"
     ]
    },
    {
     "name": "stdout",
     "output_type": "stream",
     "text": [
      "22-07-07-21_33_44.C4179.L3806.424\n",
      "age: 66.7816563997262; sex: Female\n",
      "Extracting EDF parameters from /media/a663e-36z/Common/Data/ANNE-data-expanded/20-09-10-23_48_07.C1425.L1205.194-annotated.edf...\n",
      "EDF file detected\n",
      "Setting channel info structure...\n",
      "Creating raw.info structure...\n",
      "20-09-10-23_48_07.C1425.L1205.194\n",
      "age: 24.0711841204654; sex: Male\n",
      "Extracting EDF parameters from /media/a663e-36z/Common/Data/ANNE-data-expanded/20-02-10-20_07_16.C823.L931.7-annotated.edf...\n",
      "EDF file detected\n",
      "Setting channel info structure...\n",
      "Creating raw.info structure...\n"
     ]
    },
    {
     "name": "stderr",
     "output_type": "stream",
     "text": [
      "/media/a663e-36z/Common/Projects/Sunnybrook/ANNE_dl/preprocessing/main.py:113: RuntimeWarning: Physical range is not defined in following channels:\n",
      "PLM.events\n",
      "  data = mne.io.read_raw_edf(path)\n"
     ]
    },
    {
     "name": "stdout",
     "output_type": "stream",
     "text": [
      "20-02-10-20_07_16.C823.L931.7\n",
      "age: 62.8721195528177; sex: Female\n",
      "Extracting EDF parameters from /media/a663e-36z/Common/Data/ANNE-data-expanded/22-10-20-21_52_26.C4337.L3766.484-annotated.edf...\n",
      "EDF file detected\n",
      "Setting channel info structure...\n",
      "Creating raw.info structure...\n"
     ]
    },
    {
     "name": "stderr",
     "output_type": "stream",
     "text": [
      "/media/a663e-36z/Common/Projects/Sunnybrook/ANNE_dl/preprocessing/main.py:113: RuntimeWarning: Physical range is not defined in following channels:\n",
      "PLM.events\n",
      "  data = mne.io.read_raw_edf(path)\n"
     ]
    },
    {
     "name": "stdout",
     "output_type": "stream",
     "text": [
      "22-10-20-21_52_26.C4337.L3766.484\n",
      "age: 53.3442847364819; sex: Female\n",
      "Extracting EDF parameters from /media/a663e-36z/Common/Data/ANNE-data-expanded/21-03-15-21_16_58.C1442.L1215.258-annotated.edf...\n",
      "EDF file detected\n",
      "Setting channel info structure...\n",
      "Creating raw.info structure...\n",
      "21-03-15-21_16_58.C1442.L1215.258\n",
      "age: 24.0219028062971; sex: Female\n",
      "Extracting EDF parameters from /media/a663e-36z/Common/Data/ANNE-data-expanded/21-02-02-21_48_54.C1425.L1205.246-annotated.edf...\n",
      "EDF file detected\n",
      "Setting channel info structure...\n",
      "Creating raw.info structure...\n",
      "21-02-02-21_48_54.C1425.L1205.246\n",
      "age: 54.3436002737851; sex: Female\n",
      "Extracting EDF parameters from /media/a663e-36z/Common/Data/ANNE-data-expanded/21-01-06-22_45_53.C1425.L1205.236-annotated.edf...\n",
      "EDF file detected\n",
      "Setting channel info structure...\n",
      "Creating raw.info structure...\n",
      "21-01-06-22_45_53.C1425.L1205.236\n",
      "age: 18.9815195071869; sex: Female\n",
      "Extracting EDF parameters from /media/a663e-36z/Common/Data/ANNE-data-expanded/20-10-14-21_31_33.C1459.L1198.210-annotated.edf...\n",
      "EDF file detected\n",
      "Setting channel info structure...\n",
      "Creating raw.info structure...\n"
     ]
    },
    {
     "name": "stderr",
     "output_type": "stream",
     "text": [
      "/media/a663e-36z/Common/Projects/Sunnybrook/ANNE_dl/preprocessing/main.py:113: RuntimeWarning: Physical range is not defined in following channels:\n",
      "PLM.events\n",
      "  data = mne.io.read_raw_edf(path)\n"
     ]
    },
    {
     "name": "stdout",
     "output_type": "stream",
     "text": [
      "20-10-14-21_31_33.C1459.L1198.210\n",
      "age: 67.0088980150582; sex: Male\n",
      "Extracting EDF parameters from /media/a663e-36z/Common/Data/ANNE-data-expanded/22-10-19-21_55_39.C4337.L3766.483-annotated.edf...\n",
      "EDF file detected\n",
      "Setting channel info structure...\n",
      "Creating raw.info structure...\n",
      "22-10-19-21_55_39.C4337.L3766.483\n",
      "age: 59.0609171800137; sex: Male\n",
      "Extracting EDF parameters from /media/a663e-36z/Common/Data/ANNE-data-expanded/20-09-04-22_30_34.C1459.L1205.192-annotated.edf...\n",
      "EDF file detected\n",
      "Setting channel info structure...\n",
      "Creating raw.info structure...\n",
      "20-09-04-22_30_34.C1459.L1205.192\n",
      "age: 43.0390143737166; sex: Female\n",
      "Extracting EDF parameters from /media/a663e-36z/Common/Data/ANNE-data-expanded/22-08-03-22_41_18.C4368.L3805.441-annotated.edf...\n",
      "EDF file detected\n",
      "Setting channel info structure...\n",
      "Creating raw.info structure...\n",
      "22-08-03-22_41_18.C4368.L3805.441\n",
      "age: 73.0814510609172; sex: Female\n",
      "Extracting EDF parameters from /media/a663e-36z/Common/Data/ANNE-data-expanded/23-05-17-20_45_47.C4181.L3786.599-annotated.edf...\n",
      "EDF file detected\n",
      "Setting channel info structure...\n",
      "Creating raw.info structure...\n",
      "23-05-17-20_45_47.C4181.L3786.599\n",
      "age: 82.1984941820671; sex: Male\n",
      "Extracting EDF parameters from /media/a663e-36z/Common/Data/ANNE-data-expanded/22-03-31-21_53_00.C4151.L3562.376-annotated.edf...\n",
      "EDF file detected\n",
      "Setting channel info structure...\n",
      "Creating raw.info structure...\n"
     ]
    },
    {
     "name": "stderr",
     "output_type": "stream",
     "text": [
      "/media/a663e-36z/Common/Projects/Sunnybrook/ANNE_dl/preprocessing/main.py:113: RuntimeWarning: Physical range is not defined in following channels:\n",
      "PLM.events\n",
      "  data = mne.io.read_raw_edf(path)\n"
     ]
    },
    {
     "name": "stdout",
     "output_type": "stream",
     "text": [
      "22-03-31-21_53_00.C4151.L3562.376\n",
      "age: 60.9144421629021; sex: Female\n",
      "Extracting EDF parameters from /media/a663e-36z/Common/Data/ANNE-data-expanded/20-08-24-21_44_04.C1419.L1362.186-annotated.edf...\n",
      "EDF file detected\n",
      "Setting channel info structure...\n",
      "Creating raw.info structure...\n",
      "20-08-24-21_44_04.C1419.L1362.186\n",
      "age: 83.0855578370979; sex: Male\n",
      "Extracting EDF parameters from /media/a663e-36z/Common/Data/ANNE-data-expanded/22-06-06-21_28_35.C4179.L3806.407-annotated.edf...\n",
      "EDF file detected\n",
      "Setting channel info structure...\n",
      "Creating raw.info structure...\n",
      "22-06-06-21_28_35.C4179.L3806.407\n",
      "age: 77.7604380561259; sex: Male\n",
      "Extracting EDF parameters from /media/a663e-36z/Common/Data/ANNE-data-expanded/21-09-09-22_16_51.C1390.L3562.314-annotated.edf...\n",
      "EDF file detected\n",
      "Setting channel info structure...\n",
      "Creating raw.info structure...\n"
     ]
    },
    {
     "name": "stderr",
     "output_type": "stream",
     "text": [
      "/media/a663e-36z/Common/Projects/Sunnybrook/ANNE_dl/preprocessing/main.py:113: RuntimeWarning: Physical range is not defined in following channels:\n",
      "SpO2.events\n",
      "  data = mne.io.read_raw_edf(path)\n"
     ]
    },
    {
     "name": "stdout",
     "output_type": "stream",
     "text": [
      "21-09-09-22_16_51.C1390.L3562.314\n",
      "age: 68.1533196440794; sex: Female\n",
      "Extracting EDF parameters from /media/a663e-36z/Common/Data/ANNE-data-expanded/20-02-19-19_54_00.C823.L931.10-annotated.edf...\n",
      "EDF file detected\n",
      "Setting channel info structure...\n",
      "Creating raw.info structure...\n",
      "20-02-19-19_54_00.C823.L931.10\n",
      "age: 68.6626739676021; sex: Female\n",
      "Extracting EDF parameters from /media/a663e-36z/Common/Data/ANNE-data-expanded/20-02-18-20_05_51.C823.L931.9-annotated.edf...\n",
      "EDF file detected\n",
      "Setting channel info structure...\n",
      "Creating raw.info structure...\n"
     ]
    },
    {
     "name": "stderr",
     "output_type": "stream",
     "text": [
      "/media/a663e-36z/Common/Projects/Sunnybrook/ANNE_dl/preprocessing/main.py:113: RuntimeWarning: Physical range is not defined in following channels:\n",
      "PLM.events\n",
      "  data = mne.io.read_raw_edf(path)\n"
     ]
    },
    {
     "name": "stdout",
     "output_type": "stream",
     "text": [
      "20-02-18-20_05_51.C823.L931.9\n",
      "age: nan; sex: nan\n",
      "Extracting EDF parameters from /media/a663e-36z/Common/Data/ANNE-data-expanded/20-08-26-22_34_39.C1390.L1217.188-annotated.edf...\n",
      "EDF file detected\n",
      "Setting channel info structure...\n",
      "Creating raw.info structure...\n",
      "20-08-26-22_34_39.C1390.L1217.188\n",
      "age: 37.5906913073238; sex: Female\n",
      "Extracting EDF parameters from /media/a663e-36z/Common/Data/ANNE-data-expanded/21-01-04-21_42_22.C1459.L1198.234-annotated.edf...\n",
      "EDF file detected\n",
      "Setting channel info structure...\n",
      "Creating raw.info structure...\n"
     ]
    },
    {
     "name": "stderr",
     "output_type": "stream",
     "text": [
      "/media/a663e-36z/Common/Projects/Sunnybrook/ANNE_dl/preprocessing/main.py:113: RuntimeWarning: Physical range is not defined in following channels:\n",
      "PLM.events\n",
      "  data = mne.io.read_raw_edf(path)\n"
     ]
    },
    {
     "name": "stdout",
     "output_type": "stream",
     "text": [
      "21-01-04-21_42_22.C1459.L1198.234\n",
      "age: 21.1718001368925; sex: Male\n"
     ]
    }
   ],
   "source": [
    "predict_loaders = []\n",
    "for file in read_strings_from_json(\"./test.json\"):\n",
    "    X, X_freq, X_scl, t = main(file)\n",
    "    # t = np.where(t == 1, 0, t)\n",
    "    # t = np.where(t == 2, 1, t)\n",
    "    dataset = ANNEDataset(X, X_freq, X_scl, t, device)\n",
    "    size = len(X)\n",
    "\n",
    "    predict_loaders.append(DataLoader(dataset=dataset, batch_size=size))\n",
    "\n",
    "# test_dataset = ANNEDataset(X_test, X_freq_test, X_scl_test, t_test, device)\n",
    "# test_dataloader = DataLoader(dataset=test_dataset, batch_size=test_dataset.__len__())"
   ],
   "metadata": {
    "collapsed": false,
    "ExecuteTime": {
     "end_time": "2023-12-19T07:48:48.603340970Z",
     "start_time": "2023-12-19T07:48:06.289336727Z"
    }
   },
   "id": "496db1ac70d63379"
  },
  {
   "cell_type": "code",
   "execution_count": 55,
   "outputs": [],
   "source": [
    "from scipy.special import softmax\n",
    "\n",
    "def predict(model, loader, device, return_softmax=False):\n",
    "    # Change model to 'eval' mode (BN uses moving mean/var).\n",
    "    model.eval()\n",
    "\n",
    "    all_preds = []\n",
    "    all_labels = []\n",
    "    all_softmaxes = []\n",
    "\n",
    "    for i, (inputs, inputs_freq, inputs_scl, labels, lengths) in enumerate(loader):\n",
    "        with torch.no_grad():\n",
    "            inputs = inputs.to(device)\n",
    "            labels = labels.to(device)\n",
    "            inputs_freq = inputs_freq.to(device)\n",
    "            inputs_scl = inputs_scl.to(device)\n",
    "            # inputs = inputs.view(inputs.size(0), -1)\n",
    "            pred = model(inputs, inputs_freq, inputs_scl)\n",
    "\n",
    "        if return_softmax:\n",
    "            pred = pred.cpu().detach().numpy()\n",
    "            pred_softmax = softmax(pred, axis=1)\n",
    "            all_softmaxes.append(pred_softmax)\n",
    "        else:\n",
    "            pred = torch.max(pred.data, 1)[1]\n",
    "            pred_np = pred.cpu().detach().numpy()\n",
    "            all_preds.append(pred_np)\n",
    "\n",
    "        labels_np = labels.cpu().detach().numpy()\n",
    "        all_labels.append(labels_np)\n",
    "    if return_softmax:\n",
    "        return np.concatenate(all_labels), np.concatenate(all_softmaxes)\n",
    "    else:\n",
    "        return np.concatenate(all_labels), np.concatenate(all_preds)"
   ],
   "metadata": {
    "collapsed": false,
    "ExecuteTime": {
     "end_time": "2023-12-19T07:48:48.649384642Z",
     "start_time": "2023-12-19T07:48:48.607075016Z"
    }
   },
   "id": "f111f5c49ce33a6"
  },
  {
   "cell_type": "code",
   "execution_count": 56,
   "outputs": [],
   "source": [
    "def ensemble(loader, base_model=None, wake_model=None, nrem_model=None, rem_model=None, no_ppg_model=None, alpha=1):\n",
    "    \n",
    "    assert (base_model is not None or \n",
    "            no_ppg_model is not None or \n",
    "            (wake_model is not None and nrem_model is not None and rem_model is not None))\n",
    "    \n",
    "    softmaxes = []\n",
    "    \n",
    "    if base_model:\n",
    "        labels, base_softmaxes = predict(base_model, loader, device, return_softmax=True)\n",
    "        softmaxes.append(base_softmaxes)\n",
    "                         # / 33.1 ** alpha + base_softmaxes/ 58.7 ** alpha + base_softmaxes / 8.2 ** alpha)\n",
    "    \n",
    "    if wake_model:\n",
    "        labels, wake_softmaxes = predict(wake_model, loader, device, return_softmax=True)\n",
    "        wake_softmaxes_3_class = np.column_stack((wake_softmaxes, wake_softmaxes[:, 1]))\n",
    "        wake_softmaxes_3_class = wake_softmaxes_3_class / np.sum(wake_softmaxes_3_class, axis=1, keepdims=True)\n",
    "        softmaxes.append(wake_softmaxes_3_class)\n",
    "        # softmaxes.append(wake_softmaxes_3_class / 33.1 ** alpha)\n",
    "    \n",
    "    if nrem_model:\n",
    "        labels, nrem_softmaxes = predict(nrem_model, loader, device, return_softmax=True)\n",
    "        nrem_softmaxes_3_class = np.column_stack((nrem_softmaxes, nrem_softmaxes[:, 0]))\n",
    "        nrem_softmaxes_3_class = nrem_softmaxes_3_class / np.sum(nrem_softmaxes_3_class, axis=1, keepdims=True)\n",
    "        softmaxes.append(nrem_softmaxes_3_class)\n",
    "        # softmaxes.append(nrem_softmaxes_3_class / 58.7 ** alpha)\n",
    "    \n",
    "    if rem_model:\n",
    "        labels, rem_softmaxes = predict(rem_model, loader, device, return_softmax=True)\n",
    "        rem_softmaxes_3_class = np.column_stack((rem_softmaxes[:, 0], rem_softmaxes))\n",
    "        rem_softmaxes_3_class = rem_softmaxes_3_class / np.sum(rem_softmaxes_3_class, axis=1, keepdims=True)\n",
    "        softmaxes.append(rem_softmaxes_3_class)\n",
    "        # softmaxes.append(rem_softmaxes_3_class / 8.2 ** alpha)\n",
    "    \n",
    "    # if no_ppg_model:\n",
    "    #     labels, no_ppg_softmaxes = predict(no_ppg_model, loader, device, return_softmax=True)\n",
    "    #     softmaxes.append(no_ppg_softmaxes / 100)\n",
    "    \n",
    "    ensembled_softmaxes = np.sum(softmaxes, axis=0)\n",
    "    ensembled_softmaxes = ensembled_softmaxes / np.sum(ensembled_softmaxes, axis=1, keepdims=True)\n",
    "    \n",
    "    return labels, np.argmax(ensembled_softmaxes, axis=1)"
   ],
   "metadata": {
    "collapsed": false,
    "ExecuteTime": {
     "end_time": "2023-12-19T07:48:48.649571635Z",
     "start_time": "2023-12-19T07:48:48.649295173Z"
    }
   },
   "id": "af824c503e98172c"
  },
  {
   "cell_type": "code",
   "execution_count": 68,
   "outputs": [],
   "source": [
    "base_model = torch.jit.load(\"checkpoints/base_model.pt\")\n",
    "\n",
    "wake_model = torch.jit.load(\"checkpoints/wake_model.pt\")\n",
    "rem_model = torch.jit.load(\"checkpoints/rem_model.pt\")\n",
    "nrem_model = torch.jit.load(\"checkpoints/nrem_model.pt\")\n",
    "\n",
    "time_only_model = torch.jit.load(\"checkpoints/time_only.pt\")\n",
    "\n",
    "no_ppg_model = torch.jit.load(\"checkpoints/es_20231216-185159.pt\")"
   ],
   "metadata": {
    "collapsed": false,
    "ExecuteTime": {
     "end_time": "2023-12-19T08:01:55.705016284Z",
     "start_time": "2023-12-19T08:01:55.528298301Z"
    }
   },
   "id": "8a184e9a0ba3bc43"
  },
  {
   "cell_type": "code",
   "execution_count": 69,
   "outputs": [
    {
     "data": {
      "text/plain": "(array([0, 0, 0, 0, 0, 0, 0, 0, 0, 0, 0, 0, 0, 0, 0, 0, 0, 0, 0, 0, 0, 0,\n        0, 0, 0, 0, 0, 0, 0, 0, 0, 0, 0, 0, 0, 1, 1, 1, 1, 1, 1, 1, 1, 1,\n        1, 1, 1, 1, 1, 1, 1, 1, 1, 1, 1, 1, 1, 1, 1, 1, 1, 1, 1, 1, 1, 1,\n        1, 1, 1, 1, 1, 1, 1, 1, 1, 1, 1, 1, 1, 1, 1, 1, 1, 1, 1, 1, 1, 1,\n        1, 1, 1, 1, 1, 1, 1, 1, 1, 1, 1, 1, 1, 1, 1, 1, 1, 1, 1, 1, 1, 1,\n        1, 1, 1, 1, 1, 1, 1, 1, 1, 1, 1, 1, 1, 1, 1, 1, 1, 1, 1, 1, 1, 1,\n        1, 1, 1, 1, 1, 1, 1, 1, 1, 1, 1, 1, 1, 1, 1, 1, 1, 1, 1, 1, 1, 1,\n        1, 1, 1, 1, 1, 1, 1, 1, 1, 1, 1, 1, 1, 1, 1, 1, 1, 1, 1, 1, 1, 1,\n        1, 1, 1, 1, 1, 1, 1, 1, 1, 1, 1, 1, 1, 1, 1, 1, 1, 1, 1, 1, 1, 1,\n        1, 1, 1, 1, 1, 1, 1, 1, 1, 1, 1, 1, 1, 1, 1, 1, 1, 1, 1, 1, 1, 1,\n        1, 1, 1, 1, 1, 1, 1, 1, 1, 1, 1, 1, 1, 1, 1, 1, 1, 1, 1, 1, 1, 1,\n        1, 1, 1, 1, 1, 1, 1, 1, 1, 1, 1, 1, 1, 1, 1, 1, 1, 1, 1, 1, 1, 1,\n        1, 1, 1, 1, 1, 1, 1, 1, 1, 1, 1, 1, 1, 1, 1, 1, 1, 1, 1, 1, 1, 1,\n        1, 1, 1, 1, 1, 1, 1, 1, 1, 1, 1, 1, 1, 1, 1, 1, 1, 1, 1, 1, 1, 1,\n        1, 1, 1, 1, 1, 1, 1, 1, 1, 1, 1, 1, 1, 1, 1, 1, 1, 1, 1, 1, 1, 1,\n        1, 1, 1, 1, 1, 1, 1, 1, 1, 1, 1, 1, 1, 1, 1, 1, 1, 1, 1, 1, 1, 1,\n        1, 1, 1, 1, 1, 1, 1, 1, 1, 1, 1, 1, 1, 1, 1, 1, 1, 1, 1, 1, 1, 1,\n        1, 1, 1, 1, 1, 1, 1, 0, 1, 1, 1, 1, 1, 1, 1, 1, 1, 1, 1, 1, 1, 1,\n        1, 1, 1, 1, 1, 1, 1, 1, 1, 1, 1, 1, 1, 0, 1, 1, 1, 1, 1, 1, 1, 1,\n        1, 1, 0, 1, 0, 0, 1, 1, 1, 1, 1, 1, 1, 1, 1, 1, 1, 1, 1, 1, 1, 1,\n        1, 1, 0, 0, 0, 0, 1, 0, 1, 1, 1, 1, 1, 1, 1, 1, 1, 1, 1, 1, 1, 1,\n        1, 0, 1, 1, 1, 1, 1, 1, 1, 1, 1, 1, 1, 1, 1, 1, 1, 1, 1, 1, 1, 1,\n        1, 1, 1, 1, 1, 1, 1, 1, 1, 1, 1, 1, 1, 1, 1, 1, 1, 1, 1, 1, 1, 1,\n        1, 1, 1, 1, 1, 1, 1, 1, 1, 1, 1, 1, 1, 1, 1, 1, 1, 1, 0, 0, 0, 0,\n        0, 0, 0, 0, 0, 0, 0, 0, 0, 0, 0, 0, 0, 0, 0, 1, 1, 1, 1, 1, 1, 1,\n        1, 1, 1, 1, 1, 1, 1, 1, 1, 1, 1, 1, 1, 1, 1, 1, 1, 1, 1, 1, 1, 1,\n        1, 1, 1, 0, 0, 0, 0, 0, 0, 0, 0, 0, 0, 0, 0, 0, 0, 0, 0, 0, 1, 1,\n        1, 0, 1, 0, 1, 1, 1, 1, 0, 1, 1, 1, 1, 1, 1, 1, 1, 1, 1, 1, 1, 1,\n        1, 1, 1, 1, 1, 1, 1, 1, 1, 1, 1]),\n array([0, 0, 0, 0, 0, 0, 0, 0, 0, 0, 0, 0, 0, 0, 0, 0, 0, 0, 0, 0, 0, 0,\n        0, 1, 1, 1, 1, 1, 1, 1, 1, 1, 1, 0, 1, 1, 1, 1, 1, 1, 1, 1, 1, 1,\n        1, 1, 1, 1, 1, 1, 1, 1, 1, 1, 1, 1, 1, 1, 1, 1, 1, 1, 1, 1, 1, 1,\n        1, 1, 1, 1, 1, 1, 1, 1, 1, 1, 1, 1, 1, 1, 1, 1, 1, 1, 1, 1, 1, 1,\n        1, 1, 1, 1, 1, 1, 1, 1, 1, 1, 1, 1, 1, 1, 1, 1, 1, 1, 1, 1, 1, 1,\n        1, 1, 1, 1, 1, 1, 1, 1, 1, 1, 1, 1, 1, 1, 1, 1, 1, 1, 1, 1, 1, 1,\n        1, 1, 1, 1, 1, 1, 1, 1, 1, 1, 1, 1, 1, 1, 1, 1, 1, 1, 1, 1, 1, 1,\n        1, 1, 1, 1, 1, 1, 1, 1, 1, 1, 1, 1, 1, 1, 1, 1, 1, 1, 1, 1, 1, 1,\n        1, 1, 1, 1, 1, 1, 1, 1, 1, 1, 1, 1, 1, 1, 1, 1, 1, 1, 1, 1, 1, 1,\n        1, 1, 1, 1, 1, 1, 1, 1, 1, 1, 1, 1, 1, 1, 1, 1, 1, 1, 1, 1, 1, 1,\n        1, 1, 1, 1, 1, 1, 1, 1, 0, 1, 1, 1, 1, 1, 1, 1, 1, 1, 1, 1, 1, 1,\n        1, 1, 1, 1, 1, 1, 1, 1, 1, 1, 1, 1, 1, 1, 1, 1, 1, 1, 1, 1, 1, 1,\n        1, 1, 1, 1, 1, 1, 1, 1, 1, 1, 1, 1, 1, 1, 1, 1, 1, 1, 1, 1, 1, 1,\n        1, 1, 1, 1, 1, 1, 1, 1, 1, 1, 1, 1, 1, 1, 1, 1, 1, 1, 1, 1, 1, 1,\n        1, 1, 1, 1, 1, 1, 1, 1, 1, 1, 1, 1, 1, 1, 1, 1, 1, 1, 1, 1, 1, 1,\n        1, 1, 1, 1, 1, 1, 1, 1, 1, 1, 1, 1, 1, 1, 1, 1, 1, 1, 1, 1, 1, 1,\n        1, 1, 1, 1, 1, 1, 1, 1, 1, 1, 1, 1, 1, 1, 1, 1, 1, 1, 1, 1, 1, 1,\n        1, 1, 1, 1, 1, 1, 1, 1, 1, 1, 1, 1, 1, 1, 1, 1, 1, 1, 1, 1, 1, 1,\n        1, 1, 1, 1, 1, 1, 1, 1, 1, 1, 2, 2, 2, 2, 2, 2, 2, 2, 2, 2, 2, 2,\n        2, 2, 2, 2, 2, 2, 2, 2, 2, 2, 2, 2, 2, 2, 2, 2, 2, 2, 2, 2, 2, 2,\n        2, 2, 2, 2, 2, 2, 2, 2, 2, 2, 2, 2, 2, 2, 2, 2, 2, 2, 2, 2, 2, 2,\n        2, 2, 1, 0, 1, 0, 1, 1, 1, 1, 1, 1, 1, 1, 1, 1, 1, 1, 1, 1, 1, 1,\n        1, 1, 1, 1, 1, 1, 1, 1, 1, 1, 1, 1, 1, 1, 1, 1, 1, 1, 1, 1, 1, 1,\n        2, 2, 2, 2, 2, 2, 2, 2, 2, 2, 2, 2, 2, 2, 2, 2, 2, 2, 2, 2, 2, 2,\n        2, 2, 2, 2, 2, 2, 2, 2, 2, 2, 2, 1, 0, 0, 2, 0, 2, 0, 0, 0, 0, 0,\n        0, 0, 0, 0, 0, 0, 0, 0, 0, 0, 0, 0, 0, 0, 0, 0, 0, 0, 0, 0, 0, 0,\n        0, 0, 0, 0, 0, 0, 1, 1, 1, 1, 1, 1, 1, 1, 1, 1, 1, 1, 1, 1, 1, 1,\n        1, 1, 2, 1, 2, 2, 2, 2, 2, 2, 2, 2, 2, 2, 2, 2, 2, 2, 2, 2, 2, 2,\n        1, 0, 0, 0, 0, 2, 2, 2, 2, 2, 2]))"
     },
     "execution_count": 69,
     "metadata": {},
     "output_type": "execute_result"
    }
   ],
   "source": [
    "ensemble(predict_loaders[0], base_model=base_model\n",
    "         # , wake_model=wake_model, rem_model=rem_model, nrem_model=nrem_model\n",
    "         )"
   ],
   "metadata": {
    "collapsed": false,
    "ExecuteTime": {
     "end_time": "2023-12-19T08:01:57.201492854Z",
     "start_time": "2023-12-19T08:01:57.165582299Z"
    }
   },
   "id": "b4d31392c9de5d9"
  },
  {
   "cell_type": "code",
   "execution_count": 70,
   "outputs": [
    {
     "name": "stdout",
     "output_type": "stream",
     "text": [
      "[0 0 0 ... 1 1 0]\n",
      "[0 0 0 ... 2 2 2]\n",
      "<module 'numpy' from '/media/a663e-36z/Common/Projects/Sunnybrook/ANNE_dl/venv/lib/python3.10/site-packages/numpy/__init__.py'> 106.06666666666666\n"
     ]
    },
    {
     "data": {
      "text/plain": "<Figure size 640x480 with 1 Axes>",
      "image/png": "[encoded data removed]"
     },
     "metadata": {},
     "output_type": "display_data"
    },
    {
     "data": {
      "text/plain": "<Figure size 640x480 with 2 Axes>",
      "image/png": "[encoded data removed]"
     },
     "metadata": {},
     "output_type": "display_data"
    }
   ],
   "source": [
    "labels1 = None\n",
    "preds1 = None\n",
    "\n",
    "for test_dataloader in predict_loaders:\n",
    "    # labels, preds = ensemble(test_dataloader, \n",
    "    #                          base_model=base_model, \n",
    "    #                          wake_model=wake_model, rem_model=rem_model, nrem_model=nrem_model,\n",
    "    #                          alpha=1)\n",
    "    # \n",
    "    labels, preds = predict(base_model, test_dataloader, device=device)\n",
    "    if labels1 is None:\n",
    "        labels1, preds1 = labels, preds\n",
    "    else:\n",
    "        labels1 = np.concatenate((labels1, labels), axis=0)\n",
    "        preds1 = np.concatenate((preds1, preds), axis=0)\n",
    "\n",
    "print(labels1)\n",
    "print(preds1)\n",
    "conf_mat = confusion_matrix(labels1, preds1, normalize=\"true\")\n",
    "\n",
    "print(np, sum(labels1) * 30 / 60 / 60)\n",
    "\n",
    "plt.plot(labels1, marker=\"x\", linestyle=\"\", alpha=0.75, markersize=15)\n",
    "plt.plot(preds1, marker=\".\", linestyle=\"\", alpha=0.75, markersize=15)\n",
    "plt.show()\n",
    "\n",
    "disp = ConfusionMatrixDisplay(confusion_matrix=conf_mat)\n",
    "disp.plot()\n",
    "plt.show()\n"
   ],
   "metadata": {
    "collapsed": false,
    "ExecuteTime": {
     "end_time": "2023-12-19T08:02:07.822496773Z",
     "start_time": "2023-12-19T08:02:07.206612942Z"
    }
   },
   "id": "290fbe2bb70d4be3"
  }
 ],
 "metadata": {
  "kernelspec": {
   "display_name": "Python 3",
   "language": "python",
   "name": "python3"
  },
  "language_info": {
   "codemirror_mode": {
    "name": "ipython",
    "version": 2
   },
   "file_extension": ".py",
   "mimetype": "text/x-python",
   "name": "python",
   "nbconvert_exporter": "python",
   "pygments_lexer": "ipython2",
   "version": "2.7.6"
  }
 },
 "nbformat": 4,
 "nbformat_minor": 5
}
