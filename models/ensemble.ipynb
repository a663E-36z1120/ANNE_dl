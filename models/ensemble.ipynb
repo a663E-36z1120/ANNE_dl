{
 "cells": [
  {
   "cell_type": "code",
   "execution_count": 25,
   "id": "initial_id",
   "metadata": {
    "collapsed": true,
    "ExecuteTime": {
     "end_time": "2023-12-11T06:39:34.613993907Z",
     "start_time": "2023-12-11T06:39:34.572326087Z"
    }
   },
   "outputs": [],
   "source": [
    "import torch\n",
    "from preprocessing.main import main, read_strings_from_json\n",
    "import numpy as np\n",
    "from dataloader import ANNEDataset\n",
    "from torch.utils.data import DataLoader\n",
    "from sklearn.metrics import confusion_matrix, ConfusionMatrixDisplay\n",
    "import matplotlib.pyplot as plt\n",
    "\n",
    "DATA_DIR = \"/media/a663e-36z/Common/Data/ANNE-data-expanded/\"\n",
    "\n",
    "device = torch.device(\"cuda:0\" if torch.cuda.is_available() else \"cpu\")\n",
    "# device = \"cpu\"\n",
    "\n"
   ]
  },
  {
   "cell_type": "code",
   "execution_count": 26,
   "outputs": [
    {
     "name": "stdout",
     "output_type": "stream",
     "text": [
      "Extracting EDF parameters from /media/a663e-36z/Common/Data/ANNE-data-expanded/21-01-06-22_45_53.C1425.L1205.236-annotated.edf...\n",
      "EDF file detected\n",
      "Setting channel info structure...\n",
      "Creating raw.info structure...\n",
      "21-01-06-22_45_53.C1425.L1205.236\n",
      "age: 18.9815195071869; sex: Female\n",
      "Extracting EDF parameters from /media/a663e-36z/Common/Data/ANNE-data-expanded/20-07-21-21_07_11.C1442.L1198.170-annotated.edf...\n",
      "EDF file detected\n",
      "Setting channel info structure...\n",
      "Creating raw.info structure...\n"
     ]
    },
    {
     "name": "stderr",
     "output_type": "stream",
     "text": [
      "/media/a663e-36z/Common/Projects/Sunnybrook/ANNE_dl/preprocessing/main.py:112: RuntimeWarning: Physical range is not defined in following channels:\n",
      "PLM.events\n",
      "  data = mne.io.read_raw_edf(path)\n"
     ]
    },
    {
     "name": "stdout",
     "output_type": "stream",
     "text": [
      "20-07-21-21_07_11.C1442.L1198.170\n",
      "age: 55.8795345653662; sex: Female\n",
      "Extracting EDF parameters from /media/a663e-36z/Common/Data/ANNE-data-expanded/22-03-31-21_53_00.C4151.L3562.376-annotated.edf...\n",
      "EDF file detected\n",
      "Setting channel info structure...\n",
      "Creating raw.info structure...\n"
     ]
    },
    {
     "name": "stderr",
     "output_type": "stream",
     "text": [
      "/media/a663e-36z/Common/Projects/Sunnybrook/ANNE_dl/preprocessing/main.py:112: RuntimeWarning: Physical range is not defined in following channels:\n",
      "PLM.events\n",
      "  data = mne.io.read_raw_edf(path)\n"
     ]
    },
    {
     "name": "stdout",
     "output_type": "stream",
     "text": [
      "22-03-31-21_53_00.C4151.L3562.376\n",
      "age: 60.9144421629021; sex: Female\n",
      "Extracting EDF parameters from /media/a663e-36z/Common/Data/ANNE-data-expanded/21-07-19-21_04_07.C1390.L1215.295-annotated.edf...\n",
      "EDF file detected\n",
      "Setting channel info structure...\n",
      "Creating raw.info structure...\n",
      "21-07-19-21_04_07.C1390.L1215.295\n",
      "age: 58.8473648186174; sex: Male\n",
      "Extracting EDF parameters from /media/a663e-36z/Common/Data/ANNE-data-expanded/21-10-07-22_11_28.C3884.L3562.322-annotated.edf...\n",
      "EDF file detected\n",
      "Setting channel info structure...\n",
      "Creating raw.info structure...\n",
      "21-10-07-22_11_28.C3884.L3562.322\n",
      "age: 60.2217659137577; sex: Male\n",
      "Extracting EDF parameters from /media/a663e-36z/Common/Data/ANNE-data-expanded/21-03-15-21_46_08.C1425.L1205.259-annotated.edf...\n",
      "EDF file detected\n",
      "Setting channel info structure...\n",
      "Creating raw.info structure...\n",
      "21-03-15-21_46_08.C1425.L1205.259\n",
      "age: 77.5523613963039; sex: Female\n",
      "Extracting EDF parameters from /media/a663e-36z/Common/Data/ANNE-data-expanded/20-12-15-22_02_08.C1425.L1205.231-annotated.edf...\n",
      "EDF file detected\n",
      "Setting channel info structure...\n",
      "Creating raw.info structure...\n",
      "20-12-15-22_02_08.C1425.L1205.231\n",
      "age: 30.0232717316906; sex: Male\n",
      "Extracting EDF parameters from /media/a663e-36z/Common/Data/ANNE-data-expanded/20-11-19-22_30_28.C1425.L1205.222-annotated.edf...\n",
      "EDF file detected\n",
      "Setting channel info structure...\n",
      "Creating raw.info structure...\n"
     ]
    },
    {
     "name": "stderr",
     "output_type": "stream",
     "text": [
      "/media/a663e-36z/Common/Projects/Sunnybrook/ANNE_dl/preprocessing/main.py:112: RuntimeWarning: Physical range is not defined in following channels:\n",
      "PLM.events\n",
      "  data = mne.io.read_raw_edf(path)\n"
     ]
    },
    {
     "name": "stdout",
     "output_type": "stream",
     "text": [
      "20-11-19-22_30_28.C1425.L1205.222\n",
      "age: 90.0835044490075; sex: Male\n",
      "Extracting EDF parameters from /media/a663e-36z/Common/Data/ANNE-data-expanded/22-09-13-21_49_20.C4368.L3805.462-annotated.edf...\n",
      "EDF file detected\n",
      "Setting channel info structure...\n",
      "Creating raw.info structure...\n"
     ]
    },
    {
     "name": "stderr",
     "output_type": "stream",
     "text": [
      "/media/a663e-36z/Common/Projects/Sunnybrook/ANNE_dl/preprocessing/main.py:112: RuntimeWarning: Physical range is not defined in following channels:\n",
      "PLM.events\n",
      "  data = mne.io.read_raw_edf(path)\n"
     ]
    },
    {
     "name": "stdout",
     "output_type": "stream",
     "text": [
      "22-09-13-21_49_20.C4368.L3805.462\n",
      "age: 57.6454483230664; sex: Male\n",
      "Extracting EDF parameters from /media/a663e-36z/Common/Data/ANNE-data-expanded/20-08-10-21_18_52.C1459.L1198.179-annotated.edf...\n",
      "EDF file detected\n",
      "Setting channel info structure...\n",
      "Creating raw.info structure...\n",
      "20-08-10-21_18_52.C1459.L1198.179\n",
      "age: 63.3894592744695; sex: Male\n",
      "Extracting EDF parameters from /media/a663e-36z/Common/Data/ANNE-data-expanded/20-08-08-21_59_12.C1459.L1198.178-annotated.edf...\n",
      "EDF file detected\n",
      "Setting channel info structure...\n",
      "Creating raw.info structure...\n",
      "20-08-08-21_59_12.C1459.L1198.178\n",
      "age: 61.4674880219028; sex: Male\n",
      "Extracting EDF parameters from /media/a663e-36z/Common/Data/ANNE-data-expanded/20-12-01-22_20_13.C1425.L1205.225-annotated.edf...\n",
      "EDF file detected\n",
      "Setting channel info structure...\n",
      "Creating raw.info structure...\n",
      "20-12-01-22_20_13.C1425.L1205.225\n",
      "age: 63.4633812457221; sex: Female\n",
      "Extracting EDF parameters from /media/a663e-36z/Common/Data/ANNE-data-expanded/21-09-16-21_46_18.C1390.L3562.317-annotated.edf...\n",
      "EDF file detected\n",
      "Setting channel info structure...\n",
      "Creating raw.info structure...\n",
      "21-09-16-21_46_18.C1390.L3562.317\n",
      "age: 35.8001368925394; sex: Male\n",
      "Extracting EDF parameters from /media/a663e-36z/Common/Data/ANNE-data-expanded/21-11-25-21_21_46.C3882.L3562.337-annotated.edf...\n",
      "EDF file detected\n",
      "Setting channel info structure...\n",
      "Creating raw.info structure...\n",
      "21-11-25-21_21_46.C3882.L3562.337\n",
      "age: 33.9767282683094; sex: Female\n",
      "Extracting EDF parameters from /media/a663e-36z/Common/Data/ANNE-data-expanded/23-07-19-21_34_20.C4384.L4041.634-annotated.edf...\n",
      "EDF file detected\n",
      "Setting channel info structure...\n",
      "Creating raw.info structure...\n"
     ]
    },
    {
     "name": "stderr",
     "output_type": "stream",
     "text": [
      "/media/a663e-36z/Common/Projects/Sunnybrook/ANNE_dl/preprocessing/main.py:112: RuntimeWarning: Physical range is not defined in following channels:\n",
      "SpO2.events\n",
      "  data = mne.io.read_raw_edf(path)\n"
     ]
    },
    {
     "name": "stdout",
     "output_type": "stream",
     "text": [
      "23-07-19-21_34_20.C4384.L4041.634\n",
      "age: 77.9110198494182; sex: Female\n",
      "Extracting EDF parameters from /media/a663e-36z/Common/Data/ANNE-data-expanded/20-07-28-21_50_47.C1459.L1198.174-annotated.edf...\n",
      "EDF file detected\n",
      "Setting channel info structure...\n",
      "Creating raw.info structure...\n",
      "20-07-28-21_50_47.C1459.L1198.174\n",
      "age: 76.4900752908966; sex: Male\n",
      "Extracting EDF parameters from /media/a663e-36z/Common/Data/ANNE-data-expanded/21-08-11-21_33_47.C1425.L1205.301-annotated.edf...\n",
      "EDF file detected\n",
      "Setting channel info structure...\n",
      "Creating raw.info structure...\n",
      "21-08-11-21_33_47.C1425.L1205.301\n",
      "age: 58.1409993155373; sex: Male\n",
      "Extracting EDF parameters from /media/a663e-36z/Common/Data/ANNE-data-expanded/23-02-23-21_17_37.C4359.L3786.554-annotated.edf...\n",
      "EDF file detected\n",
      "Setting channel info structure...\n",
      "Creating raw.info structure...\n"
     ]
    },
    {
     "name": "stderr",
     "output_type": "stream",
     "text": [
      "/media/a663e-36z/Common/Projects/Sunnybrook/ANNE_dl/preprocessing/main.py:112: RuntimeWarning: Physical range is not defined in following channels:\n",
      "PLM.events\n",
      "  data = mne.io.read_raw_edf(path)\n"
     ]
    },
    {
     "name": "stdout",
     "output_type": "stream",
     "text": [
      "23-02-23-21_17_37.C4359.L3786.554\n",
      "age: 42.1902806297057; sex: Female\n",
      "Extracting EDF parameters from /media/a663e-36z/Common/Data/ANNE-data-expanded/21-09-28-22_11_46.C1425.L3562.319-annotated.edf...\n",
      "EDF file detected\n",
      "Setting channel info structure...\n",
      "Creating raw.info structure...\n",
      "21-09-28-22_11_46.C1425.L3562.319\n",
      "age: 72.9911019849418; sex: Male\n",
      "Extracting EDF parameters from /media/a663e-36z/Common/Data/ANNE-data-expanded/23-04-10-21_38_42.C4359.L3786.576-annotated.edf...\n",
      "EDF file detected\n",
      "Setting channel info structure...\n",
      "Creating raw.info structure...\n",
      "23-04-10-21_38_42.C4359.L3786.576\n",
      "age: 75.3073237508556; sex: Female\n"
     ]
    }
   ],
   "source": [
    "predict_loaders = []\n",
    "for file in read_strings_from_json(\"./validation_new.json\"):\n",
    "    X, X_freq, X_scl, t = main(file)\n",
    "    # t = np.where(t == 1, 0, t)\n",
    "    # t = np.where(t == 2, 1, t)\n",
    "    dataset = ANNEDataset(X, X_freq, X_scl, t, device)\n",
    "    size = len(X)\n",
    "\n",
    "    predict_loaders.append(DataLoader(dataset=dataset, batch_size=size))\n",
    "\n",
    "# test_dataset = ANNEDataset(X_test, X_freq_test, X_scl_test, t_test, device)\n",
    "# test_dataloader = DataLoader(dataset=test_dataset, batch_size=test_dataset.__len__())"
   ],
   "metadata": {
    "collapsed": false,
    "ExecuteTime": {
     "end_time": "2023-12-11T06:40:15.172251706Z",
     "start_time": "2023-12-11T06:39:34.613890902Z"
    }
   },
   "id": "496db1ac70d63379"
  },
  {
   "cell_type": "code",
   "execution_count": 27,
   "outputs": [],
   "source": [
    "from scipy.special import softmax\n",
    "\n",
    "def predict(model, loader, device, return_softmax=False):\n",
    "    # Change model to 'eval' mode (BN uses moving mean/var).\n",
    "    model.eval()\n",
    "\n",
    "    all_preds = []\n",
    "    all_labels = []\n",
    "    all_softmaxes = []\n",
    "\n",
    "    for i, (inputs, inputs_freq, inputs_scl, labels, lengths) in enumerate(loader):\n",
    "        with torch.no_grad():\n",
    "            inputs = inputs.to(device)\n",
    "            labels = labels.to(device)\n",
    "            inputs_freq = inputs_freq.to(device)\n",
    "            inputs_scl = inputs_scl.to(device)\n",
    "            # inputs = inputs.view(inputs.size(0), -1)\n",
    "            pred = model(inputs, inputs_freq, inputs_scl)\n",
    "\n",
    "        if return_softmax:\n",
    "            pred = pred.cpu().detach().numpy()\n",
    "            pred_softmax = softmax(pred, axis=1)\n",
    "            all_softmaxes.append(pred_softmax)\n",
    "        else:\n",
    "            pred = torch.max(pred.data, 1)[1]\n",
    "            pred_np = pred.cpu().detach().numpy()\n",
    "            all_preds.append(pred_np)\n",
    "\n",
    "        labels_np = labels.cpu().detach().numpy()\n",
    "        all_labels.append(labels_np)\n",
    "    if return_softmax:\n",
    "        return np.concatenate(all_labels), np.concatenate(all_softmaxes)\n",
    "    else:\n",
    "        return np.concatenate(all_labels), np.concatenate(all_preds)"
   ],
   "metadata": {
    "collapsed": false,
    "ExecuteTime": {
     "end_time": "2023-12-11T06:40:15.176574683Z",
     "start_time": "2023-12-11T06:40:15.175446123Z"
    }
   },
   "id": "f111f5c49ce33a6"
  },
  {
   "cell_type": "code",
   "execution_count": 105,
   "outputs": [],
   "source": [
    "def ensemble(loader, base_model=None, wake_model=None, nrem_model=None, rem_model=None, no_ppg_model=None, alpha=1):\n",
    "    \n",
    "    assert (base_model is not None or \n",
    "            no_ppg_model is not None or \n",
    "            (wake_model is not None and nrem_model is not None and rem_model is not None))\n",
    "    \n",
    "    softmaxes = []\n",
    "    \n",
    "    if base_model:\n",
    "        labels, base_softmaxes = predict(base_model, loader, device, return_softmax=True)\n",
    "        softmaxes.append(base_softmaxes / 33.1 ** alpha + base_softmaxes/ 58.7 ** alpha + base_softmaxes / 8.2 ** alpha)\n",
    "    \n",
    "    if wake_model:\n",
    "        labels, wake_softmaxes = predict(wake_model, loader, device, return_softmax=True)\n",
    "        wake_softmaxes_3_class = np.column_stack((wake_softmaxes, wake_softmaxes[:, 1]))\n",
    "        wake_softmaxes_3_class = wake_softmaxes_3_class / np.sum(wake_softmaxes_3_class, axis=1, keepdims=True)\n",
    "        softmaxes.append(wake_softmaxes_3_class / 33.1 ** alpha)\n",
    "    \n",
    "    if nrem_model:\n",
    "        labels, nrem_softmaxes = predict(nrem_model, loader, device, return_softmax=True)\n",
    "        nrem_softmaxes_3_class = np.column_stack((nrem_softmaxes, nrem_softmaxes[:, 0]))\n",
    "        nrem_softmaxes_3_class = nrem_softmaxes_3_class / np.sum(nrem_softmaxes_3_class, axis=1, keepdims=True)\n",
    "        softmaxes.append(nrem_softmaxes_3_class / 58.7 ** alpha)\n",
    "    \n",
    "    if rem_model:\n",
    "        labels, rem_softmaxes = predict(rem_model, loader, device, return_softmax=True)\n",
    "        rem_softmaxes_3_class = np.column_stack((rem_softmaxes[:, 0], rem_softmaxes))\n",
    "        rem_softmaxes_3_class = rem_softmaxes_3_class / np.sum(rem_softmaxes_3_class, axis=1, keepdims=True)\n",
    "        softmaxes.append(rem_softmaxes_3_class / 8.2 ** alpha)\n",
    "    \n",
    "    # if no_ppg_model:\n",
    "    #     labels, no_ppg_softmaxes = predict(no_ppg_model, loader, device, return_softmax=True)\n",
    "    #     softmaxes.append(no_ppg_softmaxes / 100)\n",
    "    \n",
    "    ensembled_softmaxes = np.sum(softmaxes, axis=0)\n",
    "    ensembled_softmaxes = ensembled_softmaxes / np.sum(ensembled_softmaxes, axis=1, keepdims=True)\n",
    "    \n",
    "    return labels, np.argmax(ensembled_softmaxes, axis=1)"
   ],
   "metadata": {
    "collapsed": false,
    "ExecuteTime": {
     "end_time": "2023-12-11T07:07:30.115075836Z",
     "start_time": "2023-12-11T07:07:30.064363343Z"
    }
   },
   "id": "af824c503e98172c"
  },
  {
   "cell_type": "code",
   "execution_count": 90,
   "outputs": [],
   "source": [
    "base_model = torch.jit.load(\"checkpoints/3-class.pt\")\n",
    "wake_model = torch.jit.load(\"checkpoints/2-class.pt\")\n",
    "nrem_model = torch.jit.load(\"checkpoints/2-class-NREM.pt\")\n",
    "rem_model = torch.jit.load(\"checkpoints/2-class-REM.pt\")\n",
    "no_ppg_model = torch.jit.load(\"checkpoints/3-class-no-ppg.pt\")"
   ],
   "metadata": {
    "collapsed": false,
    "ExecuteTime": {
     "end_time": "2023-12-11T07:01:53.459683700Z",
     "start_time": "2023-12-11T07:01:53.353371923Z"
    }
   },
   "id": "8a184e9a0ba3bc43"
  },
  {
   "cell_type": "code",
   "execution_count": 111,
   "outputs": [
    {
     "data": {
      "text/plain": "(array([0, 0, 0, 0, 0, 1, 1, 1, 1, 1, 1, 1, 1, 1, 1, 1, 1, 1, 1, 1, 1, 1,\n        1, 1, 1, 1, 1, 1, 1, 1, 1, 1, 1, 1, 1, 1, 1, 1, 1, 1, 1, 1, 0, 0,\n        1, 1, 1, 1, 1, 1, 1, 1, 1, 1, 1, 1, 1, 1, 1, 1, 1, 1, 1, 1, 1, 1,\n        1, 1, 1, 1, 1, 1, 1, 1, 1, 1, 1, 1, 1, 1, 1, 1, 1, 1, 1, 1, 1, 1,\n        1, 1, 1, 1, 1, 1, 1, 1, 1, 1, 1, 1, 1, 1, 1, 1, 1, 1, 1, 1, 1, 1,\n        1, 1, 1, 1, 1, 1, 1, 1, 1, 1, 1, 1, 1, 1, 1, 1, 1, 1, 1, 1, 1, 1,\n        1, 1, 1, 1, 1, 1, 1, 1, 1, 1, 1, 1, 1, 1, 1, 1, 1, 1, 1, 1, 1, 1,\n        1, 1, 1, 1, 1, 1, 1, 1, 1, 1, 1, 1, 1, 1, 1, 1, 1, 1, 1, 1, 1, 1,\n        1, 1, 1, 1, 1, 1, 1, 1, 1, 1, 1, 1, 1, 1, 1, 1, 1, 1, 1, 1, 1, 1,\n        1, 1, 1, 1, 1, 1, 1, 1, 1, 1, 1, 1, 1, 1, 1, 1, 1, 1, 1, 1, 1, 1,\n        1, 1, 1, 1, 1, 1, 1, 1, 1, 1, 1, 1, 1, 1, 1, 1, 1, 1, 1, 1, 1, 1,\n        1, 1, 1, 1, 1, 1, 1, 1, 1, 1, 1, 1, 1, 1, 1, 1, 1, 1, 1, 1, 1, 1,\n        1, 1, 1, 1, 1, 1, 1, 1, 1, 1, 1, 1, 1, 1, 1, 1, 1, 1, 1, 1, 1, 1,\n        1, 1, 1, 1, 1, 1, 1, 1, 1, 1, 1, 1, 1, 1, 1, 1, 1, 1, 1, 1, 1, 1,\n        1, 1, 1, 1, 1, 1, 1, 1, 1, 1, 1, 1, 1, 1, 1, 1, 1, 1, 1, 1, 1, 1,\n        1, 1, 1, 1, 1, 1, 1, 1, 1, 1, 1, 1, 1, 1, 1, 1, 1, 1, 1, 1, 1, 1,\n        1, 1, 1, 1, 1, 1, 1, 1, 1, 1, 1, 1, 1, 1, 1, 1, 1, 1, 1, 1, 1, 1,\n        1, 1, 1, 1, 1, 1, 1, 1, 1, 1, 1, 1, 1, 1, 1, 1, 1, 1, 1, 1, 1, 1,\n        1, 1, 1, 1, 1, 1, 1, 1, 1, 1, 1, 1, 1, 1, 1, 1, 1, 1, 1, 1, 1, 1,\n        1, 1, 1, 1, 1, 1, 1, 1, 1, 1, 1, 0, 0, 1, 1, 1, 1, 1, 1, 1, 1, 1,\n        1, 1, 1, 1, 1, 1, 1, 1, 1, 1, 1, 1, 1, 1, 1, 1, 1, 1, 1, 1, 1, 1,\n        1, 1, 1, 1, 1, 1, 1, 1, 1, 1, 1, 1, 1, 1, 1, 1, 1, 1, 1, 1, 1, 1,\n        1, 1, 1, 1, 1, 1, 1, 1, 1, 1, 1, 1, 1, 1, 1, 1, 0, 0, 0, 1, 1, 1,\n        1, 1, 1, 1, 1, 1, 1, 1, 1, 1, 1, 1, 1, 1, 1, 1, 1, 1, 1, 1, 1, 1,\n        1, 1, 0, 0, 1, 1, 1, 1, 1, 1, 1, 1, 1, 1, 1, 1, 1, 1, 1, 1, 1, 1,\n        1, 1, 1, 1, 1, 1, 1, 1, 1, 1, 1, 1, 1, 1, 1, 1, 1, 1, 1, 1, 1, 1,\n        1, 1, 1, 0, 0, 0, 0, 1, 1, 1, 1, 1, 1, 1, 1, 1, 1, 1, 1, 1, 1, 1,\n        1, 1, 1, 1, 1, 1, 1, 1, 1, 1, 1, 1, 1, 1, 1, 1, 1, 1, 1, 1, 1, 1,\n        1, 1, 1, 1, 1, 1, 1, 1, 1, 1, 0, 0, 1, 1, 1, 1, 1, 1, 1, 1, 1, 1,\n        1, 1, 1, 1, 1, 1, 1, 1, 1, 1, 1, 1, 1, 1, 1, 1, 1, 1, 1, 1, 1, 1,\n        1, 1, 1, 1, 1, 1, 1, 1, 1, 1, 1, 1, 1, 1, 1, 1, 1, 1, 1, 1, 1, 1,\n        1, 1, 1, 1, 1, 1, 1, 0, 1, 1, 1, 1, 1, 1, 1, 1, 1, 1, 1, 1, 1, 1,\n        1, 1, 1, 1, 1, 1, 1, 1, 1, 1, 1, 1, 1, 1, 1, 1, 1, 1, 1, 1, 1, 1,\n        1, 1, 1, 1, 1, 1, 1, 1, 1, 1, 1, 1, 1, 1, 1, 1, 1, 1, 1, 1, 1, 1,\n        0, 1, 1, 1, 1, 1, 1, 1, 1, 1, 1, 1, 1, 1, 1, 1]),\n array([0, 0, 0, 0, 0, 0, 0, 0, 0, 0, 0, 0, 0, 0, 0, 0, 0, 0, 0, 0, 0, 0,\n        0, 0, 0, 0, 0, 0, 0, 0, 0, 0, 0, 0, 0, 0, 0, 0, 0, 0, 0, 0, 0, 0,\n        0, 0, 0, 0, 0, 0, 0, 0, 0, 0, 0, 0, 0, 0, 0, 0, 0, 0, 0, 1, 1, 1,\n        1, 1, 1, 1, 1, 1, 1, 1, 1, 1, 1, 1, 1, 1, 1, 1, 1, 1, 1, 1, 1, 1,\n        1, 1, 1, 1, 1, 1, 1, 1, 1, 1, 1, 1, 1, 1, 1, 1, 1, 1, 1, 1, 1, 1,\n        1, 1, 1, 1, 1, 1, 1, 1, 1, 1, 1, 1, 1, 1, 1, 1, 1, 1, 1, 1, 1, 1,\n        1, 1, 1, 1, 1, 1, 1, 1, 1, 1, 1, 1, 1, 1, 1, 1, 1, 1, 1, 1, 1, 1,\n        1, 1, 1, 1, 1, 1, 1, 1, 1, 1, 1, 1, 1, 1, 1, 1, 1, 1, 1, 1, 1, 1,\n        1, 1, 1, 1, 1, 1, 1, 1, 1, 1, 1, 1, 1, 1, 1, 1, 1, 1, 1, 1, 1, 1,\n        1, 1, 1, 1, 1, 1, 1, 1, 1, 1, 1, 1, 1, 1, 1, 1, 1, 1, 1, 1, 1, 1,\n        1, 1, 1, 1, 1, 1, 1, 1, 1, 1, 1, 1, 1, 1, 1, 1, 1, 1, 1, 1, 1, 1,\n        1, 1, 1, 1, 1, 1, 1, 1, 1, 1, 1, 1, 1, 1, 1, 1, 1, 1, 1, 1, 1, 1,\n        1, 1, 1, 1, 1, 1, 1, 1, 1, 1, 1, 1, 1, 1, 1, 1, 1, 1, 1, 1, 1, 1,\n        1, 1, 1, 1, 1, 1, 1, 1, 1, 1, 1, 1, 1, 1, 1, 1, 1, 1, 2, 2, 1, 1,\n        1, 1, 1, 1, 1, 1, 1, 1, 1, 1, 1, 1, 1, 1, 1, 1, 1, 1, 1, 1, 1, 1,\n        1, 1, 1, 1, 1, 1, 1, 1, 1, 1, 1, 1, 1, 1, 1, 1, 1, 1, 1, 1, 1, 1,\n        1, 1, 1, 1, 1, 1, 1, 1, 1, 1, 1, 1, 1, 1, 1, 1, 1, 1, 1, 1, 1, 1,\n        1, 1, 1, 1, 1, 2, 2, 2, 2, 2, 2, 2, 2, 2, 2, 2, 2, 2, 2, 2, 2, 2,\n        2, 2, 2, 2, 2, 2, 2, 2, 2, 2, 2, 2, 2, 2, 2, 2, 2, 2, 2, 2, 2, 2,\n        2, 2, 2, 2, 2, 2, 2, 2, 2, 2, 2, 2, 2, 2, 2, 2, 2, 2, 2, 2, 2, 2,\n        2, 2, 2, 2, 2, 2, 2, 2, 2, 2, 2, 2, 2, 2, 2, 2, 2, 2, 2, 2, 2, 2,\n        2, 2, 2, 2, 2, 2, 2, 2, 2, 2, 2, 2, 2, 2, 2, 2, 2, 2, 2, 2, 2, 2,\n        2, 2, 2, 2, 2, 2, 2, 2, 2, 2, 2, 2, 2, 2, 2, 2, 2, 2, 2, 2, 2, 2,\n        2, 2, 2, 2, 2, 2, 2, 2, 2, 2, 2, 2, 2, 2, 2, 2, 2, 2, 2, 2, 2, 2,\n        2, 2, 2, 2, 2, 2, 2, 2, 2, 2, 2, 2, 2, 2, 2, 2, 2, 2, 2, 2, 2, 2,\n        2, 2, 2, 2, 2, 2, 2, 2, 2, 2, 2, 2, 2, 2, 2, 2, 2, 2, 2, 2, 2, 2,\n        2, 2, 2, 2, 2, 0, 1, 2, 2, 2, 2, 2, 2, 2, 2, 2, 2, 2, 2, 2, 2, 2,\n        2, 2, 2, 2, 2, 2, 2, 2, 2, 2, 2, 2, 2, 2, 2, 2, 2, 2, 2, 2, 2, 2,\n        2, 2, 2, 2, 2, 2, 2, 2, 2, 2, 2, 2, 2, 2, 2, 2, 2, 2, 2, 2, 2, 2,\n        2, 2, 2, 2, 2, 2, 2, 2, 2, 2, 2, 2, 2, 2, 2, 2, 2, 2, 2, 2, 2, 2,\n        2, 2, 2, 2, 2, 2, 2, 2, 2, 2, 2, 2, 2, 2, 2, 2, 2, 2, 2, 2, 2, 2,\n        2, 2, 2, 2, 2, 2, 2, 2, 2, 2, 2, 2, 2, 2, 2, 2, 2, 2, 2, 2, 2, 2,\n        2, 2, 2, 2, 2, 2, 2, 2, 2, 2, 2, 2, 2, 2, 2, 2, 2, 2, 2, 2, 2, 2,\n        2, 2, 2, 2, 2, 2, 2, 2, 2, 2, 2, 2, 2, 2, 2, 2, 2, 2, 2, 2, 2, 2,\n        2, 2, 2, 2, 2, 2, 2, 2, 2, 2, 2, 2, 2, 2, 2, 2]))"
     },
     "execution_count": 111,
     "metadata": {},
     "output_type": "execute_result"
    }
   ],
   "source": [
    "ensemble(predict_loaders[0], base_model=base_model, wake_model=wake_model, rem_model=rem_model, nrem_model=nrem_model)"
   ],
   "metadata": {
    "collapsed": false,
    "ExecuteTime": {
     "end_time": "2023-12-11T07:29:21.354149996Z",
     "start_time": "2023-12-11T07:29:21.294969148Z"
    }
   },
   "id": "b4d31392c9de5d9"
  },
  {
   "cell_type": "code",
   "execution_count": 122,
   "outputs": [
    {
     "name": "stdout",
     "output_type": "stream",
     "text": [
      "[0 0 0 ... 1 1 1]\n",
      "[0 0 0 ... 0 0 0]\n",
      "<module 'numpy' from '/media/a663e-36z/Common/Projects/Sunnybrook/ANNE_dl/venv/lib/python3.10/site-packages/numpy/__init__.py'> 85.61666666666666\n"
     ]
    },
    {
     "data": {
      "text/plain": "<Figure size 640x480 with 1 Axes>",
      "image/png": "[encoded data removed]"
     },
     "metadata": {},
     "output_type": "display_data"
    },
    {
     "data": {
      "text/plain": "<Figure size 640x480 with 2 Axes>",
      "image/png": "[encoded data removed]"
     },
     "metadata": {},
     "output_type": "display_data"
    }
   ],
   "source": [
    "labels1 = None\n",
    "preds1 = None\n",
    "\n",
    "for test_dataloader in predict_loaders:\n",
    "    labels, preds = ensemble(test_dataloader, \n",
    "                             base_model=base_model, \n",
    "                             wake_model=wake_model, rem_model=rem_model, nrem_model=nrem_model, alpha=1.2)\n",
    "    if labels1 is None:\n",
    "        labels1, preds1 = labels, preds\n",
    "    else:\n",
    "        labels1 = np.concatenate((labels1, labels), axis=0)\n",
    "        preds1 = np.concatenate((preds1, preds), axis=0)\n",
    "\n",
    "print(labels1)\n",
    "print(preds1)\n",
    "conf_mat = confusion_matrix(labels1, preds1, normalize=\"true\")\n",
    "\n",
    "print(np, sum(labels1) * 30 / 60 / 60)\n",
    "\n",
    "plt.plot(labels1, marker=\"x\", linestyle=\"\", alpha=0.75, markersize=15)\n",
    "plt.plot(preds1, marker=\".\", linestyle=\"\", alpha=0.75, markersize=15)\n",
    "plt.show()\n",
    "\n",
    "disp = ConfusionMatrixDisplay(confusion_matrix=conf_mat)\n",
    "disp.plot()\n",
    "plt.show()\n"
   ],
   "metadata": {
    "collapsed": false,
    "ExecuteTime": {
     "end_time": "2023-12-11T07:34:21.362316038Z",
     "start_time": "2023-12-11T07:34:20.206277672Z"
    }
   },
   "id": "290fbe2bb70d4be3"
  }
 ],
 "metadata": {
  "kernelspec": {
   "display_name": "Python 3",
   "language": "python",
   "name": "python3"
  },
  "language_info": {
   "codemirror_mode": {
    "name": "ipython",
    "version": 2
   },
   "file_extension": ".py",
   "mimetype": "text/x-python",
   "name": "python",
   "nbconvert_exporter": "python",
   "pygments_lexer": "ipython2",
   "version": "2.7.6"
  }
 },
 "nbformat": 4,
 "nbformat_minor": 5
}
