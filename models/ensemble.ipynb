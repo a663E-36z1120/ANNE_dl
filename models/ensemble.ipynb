{
 "cells": [
  {
   "cell_type": "code",
   "execution_count": 145,
   "id": "initial_id",
   "metadata": {
    "collapsed": true,
    "ExecuteTime": {
     "end_time": "2024-01-16T04:32:31.319507632Z",
     "start_time": "2024-01-16T04:32:31.275527127Z"
    }
   },
   "outputs": [],
   "source": [
    "import torch\n",
    "from preprocessing.main import main, read_strings_from_json\n",
    "import numpy as np\n",
    "from dataloader import ANNEDataset\n",
    "from torch.utils.data import DataLoader\n",
    "from sklearn.metrics import confusion_matrix, ConfusionMatrixDisplay\n",
    "import matplotlib.pyplot as plt\n",
    "                                                                \n",
    "DATA_DIR = \"/media/a663e-36z/Common/Data/ANNE-data-expanded/\"\n",
    "\n",
    "device = torch.device(\"cuda:0\" if torch.cuda.is_available() else \"cpu\")\n",
    "# device = \"cpu\"\n",
    "\n"
   ]
  },
  {
   "cell_type": "code",
   "execution_count": 146,
   "outputs": [
    {
     "name": "stdout",
     "output_type": "stream",
     "text": [
      "Extracting EDF parameters from /media/a663e-36z/Common/Data/ANNE-data-expanded/23-09-26-19_33_55.C4408.L4087.674-annotated.edf...\n",
      "EDF file detected\n",
      "Setting channel info structure...\n",
      "Creating raw.info structure...\n"
     ]
    },
    {
     "name": "stderr",
     "output_type": "stream",
     "text": [
      "/media/a663e-36z/Common/Projects/Sunnybrook/ANNE_dl/preprocessing/main.py:116: RuntimeWarning: Physical range is not defined in following channels:\n",
      "PLM.events\n",
      "  data = mne.io.read_raw_edf(path)\n"
     ]
    },
    {
     "name": "stdout",
     "output_type": "stream",
     "text": [
      "23-09-26-19_33_55.C4408.L4087.674\n",
      "age: 66.0396988364134; sex: Female\n",
      "Extracting EDF parameters from /media/a663e-36z/Common/Data/ANNE-data-expanded/23-09-28-19_35_07.C4298.L4033.676-annotated.edf...\n",
      "EDF file detected\n",
      "Setting channel info structure...\n",
      "Creating raw.info structure...\n"
     ]
    },
    {
     "name": "stderr",
     "output_type": "stream",
     "text": [
      "/media/a663e-36z/Common/Projects/Sunnybrook/ANNE_dl/preprocessing/main.py:116: RuntimeWarning: Physical range is not defined in following channels:\n",
      "PLM.events\n",
      "  data = mne.io.read_raw_edf(path)\n"
     ]
    },
    {
     "name": "stdout",
     "output_type": "stream",
     "text": [
      "23-09-28-19_35_07.C4298.L4033.676\n",
      "age: 28.9965776865161; sex: Male\n",
      "Extracting EDF parameters from /media/a663e-36z/Common/Data/ANNE-data-expanded/23-08-14-21_18_35.C4408.L4087.650-annotated.edf...\n",
      "EDF file detected\n",
      "Setting channel info structure...\n",
      "Creating raw.info structure...\n",
      "23-08-14-21_18_35.C4408.L4087.650\n",
      "age: nan; sex: nan\n",
      "Extracting EDF parameters from /media/a663e-36z/Common/Data/ANNE-data-expanded/23-07-17-20_38_17.C4384.L4041.632-annotated.edf...\n",
      "EDF file detected\n",
      "Setting channel info structure...\n",
      "Creating raw.info structure...\n"
     ]
    },
    {
     "name": "stderr",
     "output_type": "stream",
     "text": [
      "/media/a663e-36z/Common/Projects/Sunnybrook/ANNE_dl/preprocessing/main.py:116: RuntimeWarning: Physical range is not defined in following channels:\n",
      "PLM.events\n",
      "  data = mne.io.read_raw_edf(path)\n"
     ]
    },
    {
     "name": "stdout",
     "output_type": "stream",
     "text": [
      "23-07-17-20_38_17.C4384.L4041.632\n",
      "age: 88.2655715263518; sex: Male\n",
      "Extracting EDF parameters from /media/a663e-36z/Common/Data/ANNE-data-expanded/23-07-06-21_13_41.C4181.L3766.624-annotated.edf...\n",
      "EDF file detected\n",
      "Setting channel info structure...\n",
      "Creating raw.info structure...\n",
      "23-07-06-21_13_41.C4181.L3766.624\n",
      "age: 66.6447638603696; sex: Female\n",
      "Extracting EDF parameters from /media/a663e-36z/Common/Data/ANNE-data-expanded/23-07-05-21_06_58.C4384.L4041.625-annotated.edf...\n",
      "EDF file detected\n",
      "Setting channel info structure...\n",
      "Creating raw.info structure...\n"
     ]
    },
    {
     "name": "stderr",
     "output_type": "stream",
     "text": [
      "/media/a663e-36z/Common/Projects/Sunnybrook/ANNE_dl/preprocessing/main.py:116: RuntimeWarning: Physical range is not defined in following channels:\n",
      "resp.events\n",
      "  data = mne.io.read_raw_edf(path)\n"
     ]
    },
    {
     "name": "stdout",
     "output_type": "stream",
     "text": [
      "23-07-05-21_06_58.C4384.L4041.625\n",
      "age: 75.5318275154004; sex: Male\n",
      "Extracting EDF parameters from /media/a663e-36z/Common/Data/ANNE-data-expanded/23-06-29-21_08_27.C4181.L3766.623-annotated.edf...\n",
      "EDF file detected\n",
      "Setting channel info structure...\n",
      "Creating raw.info structure...\n"
     ]
    },
    {
     "name": "stderr",
     "output_type": "stream",
     "text": [
      "/media/a663e-36z/Common/Projects/Sunnybrook/ANNE_dl/preprocessing/main.py:116: RuntimeWarning: Physical range is not defined in following channels:\n",
      "PLM.events\n",
      "  data = mne.io.read_raw_edf(path)\n"
     ]
    },
    {
     "name": "stdout",
     "output_type": "stream",
     "text": [
      "23-06-29-21_08_27.C4181.L3766.623\n",
      "age: 36.2409308692676; sex: Male\n",
      "Extracting EDF parameters from /media/a663e-36z/Common/Data/ANNE-data-expanded/23-04-27-22_02_45.C4359.L3786.585-annotated.edf...\n",
      "EDF file detected\n",
      "Setting channel info structure...\n",
      "Creating raw.info structure...\n",
      "23-04-27-22_02_45.C4359.L3786.585\n",
      "age: 46.9650924024641; sex: Female\n",
      "Extracting EDF parameters from /media/a663e-36z/Common/Data/ANNE-data-expanded/23-04-17-20_24_51.C4181.L3766.578-annotated.edf...\n",
      "EDF file detected\n",
      "Setting channel info structure...\n",
      "Creating raw.info structure...\n"
     ]
    },
    {
     "name": "stderr",
     "output_type": "stream",
     "text": [
      "/media/a663e-36z/Common/Projects/Sunnybrook/ANNE_dl/preprocessing/main.py:116: RuntimeWarning: Physical range is not defined in following channels:\n",
      "SpO2.events\n",
      "  data = mne.io.read_raw_edf(path)\n"
     ]
    },
    {
     "name": "stdout",
     "output_type": "stream",
     "text": [
      "23-04-17-20_24_51.C4181.L3766.578\n",
      "age: 29.927446954141; sex: Male\n",
      "Extracting EDF parameters from /media/a663e-36z/Common/Data/ANNE-data-expanded/23-04-20-21_40_29.C4359.L3786.580-annotated.edf...\n",
      "EDF file detected\n",
      "Setting channel info structure...\n",
      "Creating raw.info structure...\n"
     ]
    },
    {
     "name": "stderr",
     "output_type": "stream",
     "text": [
      "/media/a663e-36z/Common/Projects/Sunnybrook/ANNE_dl/venv/lib/python3.10/site-packages/mne/io/edf/edf.py:673: RuntimeWarning: invalid value encountered in subtract\n",
      "  edf_info[\"physical_min\"] - edf_info[\"digital_min\"] * edf_info[\"cal\"]\n",
      "/media/a663e-36z/Common/Projects/Sunnybrook/ANNE_dl/venv/lib/python3.10/site-packages/mne/io/edf/edf.py:407: RuntimeWarning: invalid value encountered in multiply\n",
      "  ch_data = ch_data * cal[orig_idx]\n"
     ]
    },
    {
     "name": "stdout",
     "output_type": "stream",
     "text": [
      "23-04-20-21_40_29.C4359.L3786.580\n",
      "age: 62.7679671457906; sex: Female\n",
      "Extracting EDF parameters from /media/a663e-36z/Common/Data/ANNE-data-expanded/23-03-06-20_53_14.C4359.L3786.559-annotated.edf...\n",
      "EDF file detected\n",
      "Setting channel info structure...\n",
      "Creating raw.info structure...\n",
      "23-03-06-20_53_14.C4359.L3786.559\n",
      "age: 67.8877481177276; sex: Male\n",
      "Extracting EDF parameters from /media/a663e-36z/Common/Data/ANNE-data-expanded/23-02-15-21_15_11.C4359.L3766.550-annotated.edf...\n",
      "EDF file detected\n",
      "Setting channel info structure...\n",
      "Creating raw.info structure...\n"
     ]
    },
    {
     "name": "stderr",
     "output_type": "stream",
     "text": [
      "/media/a663e-36z/Common/Projects/Sunnybrook/ANNE_dl/preprocessing/main.py:116: RuntimeWarning: Physical range is not defined in following channels:\n",
      "PLM.events\n",
      "  data = mne.io.read_raw_edf(path)\n"
     ]
    },
    {
     "name": "stdout",
     "output_type": "stream",
     "text": [
      "23-02-15-21_15_11.C4359.L3766.550\n",
      "age: 42.4804928131417; sex: Male\n",
      "Extracting EDF parameters from /media/a663e-36z/Common/Data/ANNE-data-expanded/23-02-22-22_02_14.C4359.L3786.553-annotated.edf...\n",
      "EDF file detected\n",
      "Setting channel info structure...\n",
      "Creating raw.info structure...\n",
      "23-02-22-22_02_14.C4359.L3786.553\n",
      "age: 59.0198494182067; sex: Male\n",
      "Extracting EDF parameters from /media/a663e-36z/Common/Data/ANNE-data-expanded/22-12-13-21_43_42.C4359.L3766.519-annotated.edf...\n",
      "EDF file detected\n",
      "Setting channel info structure...\n",
      "Creating raw.info structure...\n"
     ]
    },
    {
     "name": "stderr",
     "output_type": "stream",
     "text": [
      "/media/a663e-36z/Common/Projects/Sunnybrook/ANNE_dl/preprocessing/main.py:116: RuntimeWarning: Physical range is not defined in following channels:\n",
      "SpO2.events\n",
      "  data = mne.io.read_raw_edf(path)\n"
     ]
    },
    {
     "name": "stdout",
     "output_type": "stream",
     "text": [
      "22-12-13-21_43_42.C4359.L3766.519\n",
      "age: 67.1321013004791; sex: Female\n",
      "Extracting EDF parameters from /media/a663e-36z/Common/Data/ANNE-data-expanded/22-12-07-22_29_59.C4359.L3786.515-annotated.edf...\n",
      "EDF file detected\n",
      "Setting channel info structure...\n",
      "Creating raw.info structure...\n",
      "22-12-07-22_29_59.C4359.L3786.515\n",
      "age: nan; sex: nan\n",
      "Extracting EDF parameters from /media/a663e-36z/Common/Data/ANNE-data-expanded/22-11-16-21_43_29.C4337.L3766.503-annotated.edf...\n",
      "EDF file detected\n",
      "Setting channel info structure...\n",
      "Creating raw.info structure...\n",
      "22-11-16-21_43_29.C4337.L3766.503\n",
      "age: 19.6495550992471; sex: Female\n",
      "Extracting EDF parameters from /media/a663e-36z/Common/Data/ANNE-data-expanded/21-06-01-21_57_58.C1390.L1215.283-annotated.edf...\n",
      "EDF file detected\n",
      "Setting channel info structure...\n",
      "Creating raw.info structure...\n",
      "21-06-01-21_57_58.C1390.L1215.283\n",
      "age: 32.8186173853525; sex: Female\n",
      "Extracting EDF parameters from /media/a663e-36z/Common/Data/ANNE-data-expanded/22-06-01-21_58_28.C4179.L3806.404-annotated.edf...\n",
      "EDF file detected\n",
      "Setting channel info structure...\n",
      "Creating raw.info structure...\n"
     ]
    },
    {
     "name": "stderr",
     "output_type": "stream",
     "text": [
      "/media/a663e-36z/Common/Projects/Sunnybrook/ANNE_dl/venv/lib/python3.10/site-packages/mne/io/edf/edf.py:673: RuntimeWarning: invalid value encountered in subtract\n",
      "  edf_info[\"physical_min\"] - edf_info[\"digital_min\"] * edf_info[\"cal\"]\n",
      "/media/a663e-36z/Common/Projects/Sunnybrook/ANNE_dl/venv/lib/python3.10/site-packages/mne/io/edf/edf.py:407: RuntimeWarning: invalid value encountered in multiply\n",
      "  ch_data = ch_data * cal[orig_idx]\n"
     ]
    },
    {
     "name": "stdout",
     "output_type": "stream",
     "text": [
      "22-06-01-21_58_28.C4179.L3806.404\n",
      "age: 40.1971252566735; sex: Female\n",
      "Extracting EDF parameters from /media/a663e-36z/Common/Data/ANNE-data-expanded/22-06-21-21_53_43.C4179.L3806.417-annotated.edf...\n",
      "EDF file detected\n",
      "Setting channel info structure...\n",
      "Creating raw.info structure...\n",
      "22-06-21-21_53_43.C4179.L3806.417\n",
      "age: 75.7207392197125; sex: Female\n",
      "Extracting EDF parameters from /media/a663e-36z/Common/Data/ANNE-data-expanded/22-05-12-22_05_51.C4179.L3806.394-annotated.edf...\n",
      "EDF file detected\n",
      "Setting channel info structure...\n",
      "Creating raw.info structure...\n",
      "22-05-12-22_05_51.C4179.L3806.394\n",
      "age: 58.9235683321926; sex: Female\n"
     ]
    }
   ],
   "source": [
    "predict_loaders = []\n",
    "for file in read_strings_from_json(\"./test.json\"):\n",
    "    X, X_freq, X_scl, t = main(file, DATA_DIR)\n",
    "    # t = np.where(t == 1, 0, t)\n",
    "    # t = np.where(t == 2, 1, t)\n",
    "    dataset = ANNEDataset(X, X_freq, X_scl, t, device)\n",
    "    size = len(X)\n",
    "\n",
    "    predict_loaders.append(DataLoader(dataset=dataset, batch_size=size))\n",
    "\n",
    "\n",
    "# test_dataset = ANNEDataset(X_test, X_freq_test, X_scl_test, t_test, device)\n",
    "# test_dataloader = DataLoader(dataset=test_dataset, batch_size=test_dataset.__len__())"
   ],
   "metadata": {
    "collapsed": false,
    "ExecuteTime": {
     "end_time": "2024-01-16T04:33:10.160484467Z",
     "start_time": "2024-01-16T04:32:31.319170174Z"
    }
   },
   "id": "496db1ac70d63379"
  },
  {
   "cell_type": "code",
   "execution_count": 147,
   "outputs": [],
   "source": [
    "from scipy.special import softmax\n",
    "\n",
    "def predict(model, loader, device, return_softmax=False):\n",
    "    # Change model to 'eval' mode (BN uses moving mean/var).\n",
    "    model.eval()\n",
    "\n",
    "    all_preds = []\n",
    "    all_labels = []\n",
    "    all_softmaxes = []\n",
    "\n",
    "    for i, (inputs, inputs_freq, inputs_scl, labels, lengths) in enumerate(loader):\n",
    "        with torch.no_grad():\n",
    "            inputs = inputs.to(device)\n",
    "            labels = labels.to(device)\n",
    "            inputs_freq = inputs_freq.to(device)\n",
    "            inputs_scl = inputs_scl.to(device)\n",
    "            # inputs = inputs.view(inputs.size(0), -1)\n",
    "            pred = model(inputs, inputs_freq, inputs_scl)\n",
    "\n",
    "        if return_softmax:\n",
    "            pred = pred.cpu().detach().numpy()\n",
    "            pred_softmax = softmax(pred, axis=1)\n",
    "            all_softmaxes.append(pred_softmax)\n",
    "        else:\n",
    "            pred = torch.max(pred.data, 1)[1]\n",
    "            pred_np = pred.cpu().detach().numpy()\n",
    "            all_preds.append(pred_np)\n",
    "\n",
    "        labels_np = labels.cpu().detach().numpy()\n",
    "        all_labels.append(labels_np)\n",
    "    if return_softmax:\n",
    "        return np.concatenate(all_labels), np.concatenate(all_softmaxes)\n",
    "    else:\n",
    "        return np.concatenate(all_labels), np.concatenate(all_preds)"
   ],
   "metadata": {
    "collapsed": false,
    "ExecuteTime": {
     "end_time": "2024-01-16T04:33:10.207173531Z",
     "start_time": "2024-01-16T04:33:10.164108386Z"
    }
   },
   "id": "f111f5c49ce33a6"
  },
  {
   "cell_type": "code",
   "execution_count": 148,
   "outputs": [],
   "source": [
    "def ensemble(loader, base_model=None, wake_model=None, nrem_model=None, rem_model=None, no_ppg_model=None, alpha=1):\n",
    "    \n",
    "    assert (base_model is not None or \n",
    "            no_ppg_model is not None or \n",
    "            (wake_model is not None and nrem_model is not None and rem_model is not None))\n",
    "    \n",
    "    softmaxes = []\n",
    "    \n",
    "    if base_model:\n",
    "        labels, base_softmaxes = predict(base_model, loader, device, return_softmax=True)\n",
    "        softmaxes.append(base_softmaxes)\n",
    "                         # / 33.1 ** alpha + base_softmaxes/ 58.7 ** alpha + base_softmaxes / 8.2 ** alpha)\n",
    "    \n",
    "    if wake_model:\n",
    "        labels, wake_softmaxes = predict(wake_model, loader, device, return_softmax=True)\n",
    "        wake_softmaxes_3_class = np.column_stack((wake_softmaxes, wake_softmaxes[:, 1]))\n",
    "        wake_softmaxes_3_class = wake_softmaxes_3_class / np.sum(wake_softmaxes_3_class, axis=1, keepdims=True)\n",
    "        softmaxes.append(wake_softmaxes_3_class)\n",
    "        # softmaxes.append(wake_softmaxes_3_class / 33.1 ** alpha)\n",
    "    \n",
    "    if nrem_model:\n",
    "        labels, nrem_softmaxes = predict(nrem_model, loader, device, return_softmax=True)\n",
    "        nrem_softmaxes_3_class = np.column_stack((nrem_softmaxes, nrem_softmaxes[:, 0]))\n",
    "        nrem_softmaxes_3_class = nrem_softmaxes_3_class / np.sum(nrem_softmaxes_3_class, axis=1, keepdims=True)\n",
    "        softmaxes.append(nrem_softmaxes_3_class)\n",
    "        # softmaxes.append(nrem_softmaxes_3_class / 58.7 ** alpha)\n",
    "    \n",
    "    if rem_model:\n",
    "        labels, rem_softmaxes = predict(rem_model, loader, device, return_softmax=True)\n",
    "        rem_softmaxes_3_class = np.column_stack((rem_softmaxes[:, 0], rem_softmaxes))\n",
    "        rem_softmaxes_3_class = rem_softmaxes_3_class / np.sum(rem_softmaxes_3_class, axis=1, keepdims=True)\n",
    "        softmaxes.append(rem_softmaxes_3_class)\n",
    "        # softmaxes.append(rem_softmaxes_3_class / 8.2 ** alpha)\n",
    "    \n",
    "    # if no_ppg_model:\n",
    "    #     labels, no_ppg_softmaxes = predict(no_ppg_model, loader, device, return_softmax=True)\n",
    "    #     softmaxes.append(no_ppg_softmaxes / 100)\n",
    "    \n",
    "    ensembled_softmaxes = np.sum(softmaxes, axis=0)\n",
    "    ensembled_softmaxes = ensembled_softmaxes / np.sum(ensembled_softmaxes, axis=1, keepdims=True)\n",
    "    \n",
    "    return labels, np.argmax(ensembled_softmaxes, axis=1)"
   ],
   "metadata": {
    "collapsed": false,
    "ExecuteTime": {
     "end_time": "2024-01-16T04:33:10.207666803Z",
     "start_time": "2024-01-16T04:33:10.207257349Z"
    }
   },
   "id": "af824c503e98172c"
  },
  {
   "cell_type": "code",
   "execution_count": 165,
   "outputs": [],
   "source": [
    "base_model = torch.jit.load(\"checkpoints/es_20240114-014745.pt\")\n",
    "\n",
    "wake_model = torch.jit.load(\"checkpoints/wake_model.pt\")\n",
    "rem_model = torch.jit.load(\"checkpoints/es_20240115-001038.pt\")\n",
    "nrem_model = torch.jit.load(\"checkpoints/es_20240115-002654.pt\")\n",
    "\n",
    "time_only_model = torch.jit.load(\"checkpoints/time_only.pt\")\n",
    "\n",
    "no_ppg_model = torch.jit.load(\"checkpoints/es_20240113-233831.pt\")"
   ],
   "metadata": {
    "collapsed": false,
    "ExecuteTime": {
     "end_time": "2024-01-16T04:42:14.322933379Z",
     "start_time": "2024-01-16T04:42:14.204492673Z"
    }
   },
   "id": "8a184e9a0ba3bc43"
  },
  {
   "cell_type": "code",
   "execution_count": 166,
   "outputs": [
    {
     "data": {
      "text/plain": "(array([0, 0, 0, ..., 1, 1, 1]), array([0, 0, 0, ..., 1, 1, 1]))"
     },
     "execution_count": 166,
     "metadata": {},
     "output_type": "execute_result"
    }
   ],
   "source": [
    "ensemble(predict_loaders[0], base_model=wake_model\n",
    "         # , wake_model=wake_model, rem_model=rem_model, nrem_model=nrem_model\n",
    "         )"
   ],
   "metadata": {
    "collapsed": false,
    "ExecuteTime": {
     "end_time": "2024-01-16T04:42:15.906791803Z",
     "start_time": "2024-01-16T04:42:15.864345815Z"
    }
   },
   "id": "b4d31392c9de5d9"
  },
  {
   "cell_type": "code",
   "execution_count": 168,
   "outputs": [
    {
     "name": "stdout",
     "output_type": "stream",
     "text": [
      "[0 0 0 ... 0 0 0]\n",
      "[0 0 0 ... 0 0 0]\n",
      "<module 'numpy' from '/media/a663e-36z/Common/Projects/Sunnybrook/ANNE_dl/venv/lib/python3.10/site-packages/numpy/__init__.py'> 99.14166666666667\n"
     ]
    },
    {
     "data": {
      "text/plain": "<Figure size 640x480 with 1 Axes>",
      "image/png": "[encoded data removed]"
     },
     "metadata": {},
     "output_type": "display_data"
    },
    {
     "data": {
      "text/plain": "<Figure size 640x480 with 2 Axes>",
      "image/png": "[encoded data removed]"
     },
     "metadata": {},
     "output_type": "display_data"
    }
   ],
   "source": [
    "labels1 = None\n",
    "preds1 = None\n",
    "\n",
    "for test_dataloader in predict_loaders:\n",
    "    labels, preds = ensemble(test_dataloader, \n",
    "                             base_model=base_model, \n",
    "                             # wake_model=wake_model, \n",
    "                             rem_model=rem_model, \n",
    "                             nrem_model=nrem_model,\n",
    "                             alpha=1)\n",
    "    \n",
    "    # labels, preds = predict(wake_model, test_dataloader, device=device)\n",
    "    if labels1 is None:\n",
    "        labels1, preds1 = labels, preds\n",
    "    else:\n",
    "        labels1 = np.concatenate((labels1, labels), axis=0)\n",
    "        preds1 = np.concatenate((preds1, preds), axis=0)\n",
    "\n",
    "print(labels1)\n",
    "print(preds1)\n",
    "conf_mat = confusion_matrix(labels1, preds1, normalize=\"true\")\n",
    "\n",
    "print(np, sum(labels1) * 30 / 60 / 60)\n",
    "\n",
    "plt.plot(labels1, marker=\"x\", linestyle=\"\", alpha=0.75, markersize=15)\n",
    "plt.plot(preds1, marker=\".\", linestyle=\"\", alpha=0.75, markersize=15)\n",
    "plt.show()\n",
    "\n",
    "disp = ConfusionMatrixDisplay(confusion_matrix=conf_mat)\n",
    "disp.plot()\n",
    "plt.show()\n"
   ],
   "metadata": {
    "collapsed": false,
    "ExecuteTime": {
     "end_time": "2024-01-16T04:42:22.765114607Z",
     "start_time": "2024-01-16T04:42:22.400317863Z"
    }
   },
   "id": "290fbe2bb70d4be3"
  },
  {
   "cell_type": "code",
   "execution_count": 169,
   "outputs": [],
   "source": [
    "def calculate_metrics(predictions, labels):\n",
    "    # Create confusion matrix\n",
    "    conf_matrix = confusion_matrix(labels, predictions)\n",
    "\n",
    "    # Calculate metrics for each class\n",
    "    num_classes = conf_matrix.shape[0]\n",
    "\n",
    "    sensitivity = np.zeros(num_classes)\n",
    "    specificity = np.zeros(num_classes)\n",
    "    precision = np.zeros(num_classes)\n",
    "    class_accuracy = np.zeros(num_classes)\n",
    "\n",
    "    for i in range(num_classes):\n",
    "        # True Positives for class i\n",
    "        TP = conf_matrix[i, i]\n",
    "\n",
    "        # False Positives for class i\n",
    "        FP = conf_matrix[:, i].sum() - TP\n",
    "\n",
    "        # False Negatives for class i\n",
    "        FN = conf_matrix[i, :].sum() - TP\n",
    "\n",
    "        # True Negatives for class i\n",
    "        TN = conf_matrix.sum() - (TP + FP + FN)\n",
    "\n",
    "        # Sensitivity (Recall) for class i\n",
    "        sensitivity[i] = TP / (TP + FN) if TP + FN != 0 else 0.0\n",
    "\n",
    "        # Specificity for class i\n",
    "        specificity[i] = TN / (TN + FP) if TN + FP != 0 else 0.0\n",
    "\n",
    "        # Precision for class i\n",
    "        precision[i] = TP / (TP + FP) if TP + FP != 0 else 0.0\n",
    "\n",
    "        # Per-class accuracy\n",
    "        class_accuracy[i] = TP / (TP + FN) if TP + FN != 0 else 0.0\n",
    "\n",
    "    # Overall accuracy\n",
    "    accuracy = np.trace(conf_matrix) / np.sum(conf_matrix)\n",
    "\n",
    "    return sensitivity, specificity, precision, class_accuracy, accuracy"
   ],
   "metadata": {
    "collapsed": false,
    "ExecuteTime": {
     "end_time": "2024-01-16T04:42:28.551293599Z",
     "start_time": "2024-01-16T04:42:28.548138785Z"
    }
   },
   "id": "d8e38e7e7afad695"
  },
  {
   "cell_type": "code",
   "execution_count": 170,
   "outputs": [
    {
     "name": "stdout",
     "output_type": "stream",
     "text": [
      "Sensitivity: [0.59502526 0.6555859  0.61370178]\n",
      "Specificity: [0.81033465 0.70695917 0.87383005]\n",
      "Precision: [0.61375025 0.73245789 0.3837293 ]\n",
      "Class Accuracy: [0.59502526 0.6555859  0.61370178]\n",
      "Overall Accuracy: 0.6304717104403502\n"
     ]
    }
   ],
   "source": [
    "sensitivity, specificity, precision, class_accuracy, accuracy  = calculate_metrics(preds1, labels1)\n",
    "print(\"Sensitivity:\", sensitivity)\n",
    "print(\"Specificity:\", specificity)\n",
    "print(\"Precision:\", precision)\n",
    "print(\"Class Accuracy:\", class_accuracy)\n",
    "print(\"Overall Accuracy:\", accuracy)"
   ],
   "metadata": {
    "collapsed": false,
    "ExecuteTime": {
     "end_time": "2024-01-16T04:42:31.155459808Z",
     "start_time": "2024-01-16T04:42:31.150490445Z"
    }
   },
   "id": "43b639847afba230"
  },
  {
   "cell_type": "code",
   "execution_count": 171,
   "outputs": [],
   "source": [
    "import numpy as np\n",
    "from sklearn.metrics import precision_score, recall_score\n",
    "def calculate_macro_f1(predictions, labels, average='macro'):\n",
    "    # Calculate precision and recall for each class\n",
    "    precision = precision_score(labels, predictions, average=None, zero_division=0)\n",
    "    recall = recall_score(labels, predictions, average=None, zero_division=0)\n",
    "\n",
    "    # Calculate F1 score for each class\n",
    "    f1 = 2 * (precision * recall) / (precision + recall)\n",
    "\n",
    "    # Calculate macro F1 score\n",
    "    print(f1)\n",
    "    macro_f1 = np.mean(f1)\n",
    "\n",
    "    return macro_f1"
   ],
   "metadata": {
    "collapsed": false,
    "ExecuteTime": {
     "end_time": "2024-01-16T04:42:33.009285039Z",
     "start_time": "2024-01-16T04:42:33.005972689Z"
    }
   },
   "id": "1dbae84b87770c03"
  },
  {
   "cell_type": "code",
   "execution_count": 172,
   "outputs": [
    {
     "name": "stdout",
     "output_type": "stream",
     "text": [
      "[0.60424272 0.69189325 0.47220377]\n"
     ]
    },
    {
     "data": {
      "text/plain": "0.5894465783078914"
     },
     "execution_count": 172,
     "metadata": {},
     "output_type": "execute_result"
    }
   ],
   "source": [
    "calculate_macro_f1(preds1, labels1)"
   ],
   "metadata": {
    "collapsed": false,
    "ExecuteTime": {
     "end_time": "2024-01-16T04:42:34.691467874Z",
     "start_time": "2024-01-16T04:42:34.679001972Z"
    }
   },
   "id": "d00e3e75539d4b4"
  },
  {
   "cell_type": "code",
   "execution_count": 173,
   "outputs": [
    {
     "data": {
      "text/plain": "0.5894465783078914"
     },
     "execution_count": 173,
     "metadata": {},
     "output_type": "execute_result"
    }
   ],
   "source": [
    "from sklearn.metrics import f1_score\n",
    "f1_score(labels1, preds1, average=\"macro\")"
   ],
   "metadata": {
    "collapsed": false,
    "ExecuteTime": {
     "end_time": "2024-01-16T04:42:35.971910596Z",
     "start_time": "2024-01-16T04:42:35.963953357Z"
    }
   },
   "id": "953e40b827f3e645"
  }
 ],
 "metadata": {
  "kernelspec": {
   "display_name": "Python 3",
   "language": "python",
   "name": "python3"
  },
  "language_info": {
   "codemirror_mode": {
    "name": "ipython",
    "version": 2
   },
   "file_extension": ".py",
   "mimetype": "text/x-python",
   "name": "python",
   "nbconvert_exporter": "python",
   "pygments_lexer": "ipython2",
   "version": "2.7.6"
  }
 },
 "nbformat": 4,
 "nbformat_minor": 5
}
