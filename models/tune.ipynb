{
 "cells": [
  {
   "cell_type": "markdown",
   "source": [
    "Load Dataset"
   ],
   "metadata": {
    "collapsed": false
   }
  },
  {
   "cell_type": "code",
   "execution_count": 52,
   "metadata": {
    "collapsed": true,
    "ExecuteTime": {
     "end_time": "2023-11-26T05:16:03.490511290Z",
     "start_time": "2023-11-26T05:16:03.449914857Z"
    }
   },
   "outputs": [],
   "source": [
    "import torch\n",
    "import torch.nn as nn\n",
    "from torch.optim.lr_scheduler import LambdaLR\n",
    "from torch.utils.data import DataLoader\n",
    "\n",
    "import matplotlib.pyplot as plt\n",
    "import numpy as np\n",
    "\n",
    "from preprocessing.main import main, get_edf_files, read_strings_from_json\n",
    "from dataloader import ANNEDataset\n",
    "\n",
    "import json\n",
    "import math\n",
    "import time\n",
    "import random\n",
    "\n",
    "random.seed(42)\n",
    "torch.manual_seed(42)\n",
    "timestr = time.strftime(\"%Y%m%d-%H%M%S\")\n",
    "\n",
    "N_CLASSES = 2\n",
    "IS_NREM = False\n",
    "IS_REM = True\n",
    "DATA_DIR = \"/media/a663e-36z/Common/Data/ANNE-data-expanded/\"\n",
    "\n",
    "\n",
    "class CosineWithWarmupLR(LambdaLR):\n",
    "    def __init__(self, optimizer, warmup_epochs, max_epochs, max_lr=0.001, min_lr=0.0001):\n",
    "        self.warmup_epochs = warmup_epochs\n",
    "        self.max_epochs = max_epochs\n",
    "        # self.base_lr = base_lr\n",
    "        warmup_scheduler = lambda epoch: epoch / warmup_epochs if epoch < warmup_epochs else \\\n",
    "            (0.5 * (1.0 + math.cos(math.pi * (epoch - warmup_epochs) / (max_epochs - warmup_epochs))) if epoch < max_epochs else min_lr/max_lr)\n",
    "\n",
    "        super(CosineWithWarmupLR, self).__init__(optimizer, lr_lambda=warmup_scheduler)\n",
    "\n",
    "\n",
    "def save_strings_to_json(strings_list, filename):\n",
    "    data = {\"strings\": strings_list}\n",
    "\n",
    "    with open(filename, \"w\") as json_file:\n",
    "        json.dump(data, json_file, indent=4)\n",
    "\n",
    "def train_model(model, optimizer, train_loaders, test_loaders, lr_scheduler, epochs=100, print_every=10):\n",
    "\n",
    "    # Using GPUs in PyTorch is pretty straightforward\n",
    "    if torch.cuda.is_available():\n",
    "        print(\"Using cuda\")\n",
    "        use_cuda = True\n",
    "        device = torch.device(\"cuda\")\n",
    "    else:\n",
    "        device = \"cpu\"\n",
    "\n",
    "    if N_CLASSES == 3:\n",
    "        xentropy_weight = torch.tensor([1 / 33.1 ** 1.175, 1 / 58.7 ** 1.175, 1 / 8.2 ** 1.175]).to(device)\n",
    "    \n",
    "    else:\n",
    "        xentropy_weight = torch.tensor([1 / 33.1 ** 1.25, 1 / 66.9 ** 1.25]).to(device)\n",
    "    if IS_NREM:\n",
    "        xentropy_weight = torch.tensor([1 / 41.3 ** 1.75, 1 / 58.7 ** 1.75]).to(device)\n",
    "    if IS_REM:\n",
    "        xentropy_weight = torch.tensor([1 / 91.8 ** 1.45, 1 / 8.2 ** 1.45]).to(device)\n",
    "\n",
    "    criterion = nn.CrossEntropyLoss(weight=xentropy_weight)\n",
    "    train_accs = []\n",
    "    test_accs = []\n",
    "    train_losses = []\n",
    "    test_losses = []\n",
    "    learning_rates = []\n",
    "    # Early return parameters\n",
    "    patience = 1000       # we early return if there is no improvement after patience number of epochs\n",
    "    counter = 0\n",
    "    # min_delta = 0.01    # at least 1% accuracy increase is needed to count it as an improvement\n",
    "    min_delta = 0\n",
    "    best_test_loss = float(\"inf\")\n",
    "\n",
    "    # Move the model to GPU, if available\n",
    "    model.to(device)\n",
    "    model.train()\n",
    "\n",
    "    for epoch in range(epochs):\n",
    "        xentropy_loss_total = 0.\n",
    "        correct = 0.\n",
    "        total = 0.\n",
    "        total_trainer_len = 0\n",
    "        for train_loader in train_loaders:\n",
    "            for i, (inputs, inputs_freq, inputs_scl, labels, lengths) in enumerate(train_loader):\n",
    "                model.zero_grad()\n",
    "                inputs = inputs.to(device)\n",
    "                inputs_freq = inputs_freq.to(device)\n",
    "                inputs_scl = inputs_scl.to(device)\n",
    "                labels = labels.to(device)\n",
    "                # inputs = inputs.view(inputs.size(0), -1)  # Flatten input from [batch_size, 1, 28, 28] to [batch_size, 784]\n",
    "                pred = model(inputs, inputs_freq, inputs_scl)\n",
    "                xentropy_loss = criterion(pred, labels)\n",
    "                xentropy_loss.backward()\n",
    "\n",
    "                xentropy_loss_total += xentropy_loss.item()\n",
    "\n",
    "                # Calculate running average of accuracy\n",
    "                pred = torch.max(pred.data, 1)[1]\n",
    "                total += labels.size(0)\n",
    "                correct += (pred == labels.data).sum().item()\n",
    "\n",
    "            optimizer.step()\n",
    "            total_trainer_len += len(train_loader)\n",
    "\n",
    "        # lr_scheduler.step(epoch + i / len(train_loader))    # Important: use this for CosineAnnealingWarmRestarts\n",
    "        lr_scheduler.step()  # use this for CyclicLR\n",
    "        current_lr = lr_scheduler.get_last_lr()[0]\n",
    "        learning_rates.append(current_lr)\n",
    "        print(f\"Learning Rate {current_lr}\")\n",
    "\n",
    "        accuracy = correct / total\n",
    "        avg_xentropy_loss = xentropy_loss_total / total_trainer_len\n",
    "\n",
    "        test_acc_sum = 0\n",
    "        test_loss_sum = 0\n",
    "\n",
    "        for test_loader in test_loaders:\n",
    "            test_acc, test_loss = evaluate(model, test_loader, criterion, device)\n",
    "            test_acc_sum += test_acc\n",
    "            test_loss_sum += test_loss\n",
    "\n",
    "        test_acc = test_acc_sum / len(test_loaders)\n",
    "        test_loss = test_loss_sum / len(test_loaders)\n",
    "\n",
    "        if epoch % print_every == 0:\n",
    "            print(\"Epoch {}, Train acc: {:.2f}%, Test acc: {:.2f}%\".format(epoch, accuracy * 100, test_acc * 100))\n",
    "            print(\"Epoch {}, Train loss: {:.2f}, Test loss: {:.2f}\".format(epoch, avg_xentropy_loss, test_loss))\n",
    "\n",
    "        train_accs.append(accuracy)\n",
    "        test_accs.append(test_acc)\n",
    "        train_losses.append(avg_xentropy_loss)\n",
    "        test_losses.append(test_loss)\n",
    "\n",
    "        # Check for early stopping\n",
    "        if test_loss < best_test_loss - min_delta:\n",
    "            best_test_loss = test_loss\n",
    "            model_scripted = torch.jit.script(model)\n",
    "            model_scripted.save(f\"checkpoints/es_{timestr}.pt\")\n",
    "            print(\"saved new model\")\n",
    "            counter = 0\n",
    "        else:\n",
    "            counter += 1\n",
    "            if counter >= patience:\n",
    "                print(\"Early stopping triggered.\")\n",
    "                break\n",
    "\n",
    "    return train_accs, test_accs, train_losses, test_losses, learning_rates\n",
    "\n",
    "\n",
    "def evaluate(model, loader, criterion, device):\n",
    "    model.eval()  # Change model to 'eval' mode (BN uses moving mean/var).\n",
    "    correct = 0.\n",
    "    total = 0.\n",
    "    val_loss = 0.\n",
    "    for i, (inputs, inputs_freq, inputs_scl, labels, lengths) in enumerate(loader):\n",
    "        with torch.no_grad():\n",
    "            inputs = inputs.to(device)\n",
    "            inputs_freq = inputs_freq.to(device)\n",
    "            labels = labels.to(device)\n",
    "            # inputs = inputs.view(inputs.size(0), -1)\n",
    "            pred = model(inputs, inputs_freq, inputs_scl)\n",
    "            xentropy_loss = criterion(pred, labels)\n",
    "            val_loss += xentropy_loss.item()\n",
    "\n",
    "        pred = torch.max(pred.data, 1)[1]\n",
    "        total += labels.size(0)\n",
    "        correct += (pred == labels).sum().item()\n",
    "\n",
    "    val_acc = correct / total\n",
    "    val_loss = val_loss / len(loader)\n",
    "    model.train()\n",
    "    return val_acc, val_loss\n",
    "\n",
    "\n",
    "def plot_grad_histograms(grad_list, epoch, init=False):\n",
    "    fig, ax = plt.subplots(nrows=1, ncols=len(grad_list), figsize=(5 * len(grad_list), 5))\n",
    "    for i, grad in enumerate(grad_list):\n",
    "        plt.subplot(1, len(grad_list), i + 1)\n",
    "        plt.hist(grad)\n",
    "        if init:\n",
    "            plt.title(\"Grads for Weights (Layer {}-{}) Init\".format(i, i + 1))\n",
    "        else:\n",
    "            plt.title(\"Grads for Weights (Layer {}-{}) Epoch {}\".format(i, i + 1, epoch))\n",
    "    plt.show()\n",
    "\n",
    "\n",
    "def plot_act_histograms(act_list, epoch, init=False):\n",
    "    fig, ax = plt.subplots(nrows=1, ncols=len(act_list), figsize=(5 * len(act_list), 5))\n",
    "    for i, act in enumerate(act_list):\n",
    "        plt.subplot(1, len(act_list), i + 1)\n",
    "        plt.hist(act)\n",
    "        if init:\n",
    "            plt.title(\"Activations for Layer {} Init\".format(i + 1))\n",
    "        else:\n",
    "            plt.title(\"Activations for Layer {} Epoch {}\".format(i + 1, epoch))\n",
    "    plt.show()"
   ]
  },
  {
   "cell_type": "code",
   "execution_count": 49,
   "outputs": [
    {
     "name": "stdout",
     "output_type": "stream",
     "text": [
      "Extracting EDF parameters from /media/a663e-36z/Common/Data/ANNE-data-expanded/19-12-17-20_37_24.C823.L775.1-annotated.edf...\n",
      "EDF file detected\n",
      "Setting channel info structure...\n",
      "Creating raw.info structure...\n",
      "19-12-17-20_37_24.C823.L775.1\n",
      "age: 41.2759525439197; sex: Female\n",
      "Extracting EDF parameters from /media/a663e-36z/Common/Data/ANNE-data-expanded/19-12-18-20_07_58.C823.L775.2-annotated.edf...\n",
      "EDF file detected\n",
      "Setting channel info structure...\n",
      "Creating raw.info structure...\n",
      "19-12-18-20_07_58.C823.L775.2\n",
      "age: 61.4101072324892; sex: Male\n",
      "Extracting EDF parameters from /media/a663e-36z/Common/Data/ANNE-data-expanded/19-12-19-20_11_12.C823.L775.3-annotated.edf...\n",
      "EDF file detected\n",
      "Setting channel info structure...\n",
      "Creating raw.info structure...\n"
     ]
    },
    {
     "name": "stderr",
     "output_type": "stream",
     "text": [
      "/media/a663e-36z/Common/Projects/Sunnybrook/ANNE_dl/preprocessing/main.py:112: RuntimeWarning: Physical range is not defined in following channels:\n",
      "PLM.events\n",
      "  data = mne.io.read_raw_edf(path)\n"
     ]
    },
    {
     "name": "stdout",
     "output_type": "stream",
     "text": [
      "19-12-19-20_11_12.C823.L775.3\n",
      "age: 39.1130504220853; sex: Male\n",
      "Extracting EDF parameters from /media/a663e-36z/Common/Data/ANNE-data-expanded/20-01-14-20_23_27.C823.L775.4-annotated.edf...\n",
      "EDF file detected\n",
      "Setting channel info structure...\n",
      "Creating raw.info structure...\n",
      "20-01-14-20_23_27.C823.L775.4\n",
      "age: 58.2314624686288; sex: Female\n",
      "Extracting EDF parameters from /media/a663e-36z/Common/Data/ANNE-data-expanded/20-01-15-20_13_00.C823.L775.5-annotated.edf...\n",
      "EDF file detected\n",
      "Setting channel info structure...\n",
      "Creating raw.info structure...\n"
     ]
    },
    {
     "name": "stderr",
     "output_type": "stream",
     "text": [
      "/media/a663e-36z/Common/Projects/Sunnybrook/ANNE_dl/preprocessing/main.py:112: RuntimeWarning: Physical range is not defined in following channels:\n",
      "PLM.events\n",
      "  data = mne.io.read_raw_edf(path)\n"
     ]
    },
    {
     "name": "stdout",
     "output_type": "stream",
     "text": [
      "20-01-15-20_13_00.C823.L775.5\n",
      "age: 72.9693132557609; sex: Female\n",
      "Extracting EDF parameters from /media/a663e-36z/Common/Data/ANNE-data-expanded/20-02-04-20_34_29.C823.L931.6-annotated.edf...\n",
      "EDF file detected\n",
      "Setting channel info structure...\n",
      "Creating raw.info structure...\n",
      "20-02-04-20_34_29.C823.L931.6\n",
      "age: 73.240360483687; sex: Female\n",
      "Extracting EDF parameters from /media/a663e-36z/Common/Data/ANNE-data-expanded/20-02-10-20_07_16.C823.L931.7-annotated.edf...\n",
      "EDF file detected\n",
      "Setting channel info structure...\n",
      "Creating raw.info structure...\n"
     ]
    },
    {
     "name": "stderr",
     "output_type": "stream",
     "text": [
      "/media/a663e-36z/Common/Projects/Sunnybrook/ANNE_dl/preprocessing/main.py:112: RuntimeWarning: Physical range is not defined in following channels:\n",
      "PLM.events\n",
      "  data = mne.io.read_raw_edf(path)\n"
     ]
    },
    {
     "name": "stdout",
     "output_type": "stream",
     "text": [
      "20-02-10-20_07_16.C823.L931.7\n",
      "age: 62.8721195528177; sex: Female\n",
      "Extracting EDF parameters from /media/a663e-36z/Common/Data/ANNE-data-expanded/20-02-18-20_05_51.C823.L931.9-annotated.edf...\n",
      "EDF file detected\n",
      "Setting channel info structure...\n",
      "Creating raw.info structure...\n"
     ]
    },
    {
     "name": "stderr",
     "output_type": "stream",
     "text": [
      "/media/a663e-36z/Common/Projects/Sunnybrook/ANNE_dl/preprocessing/main.py:112: RuntimeWarning: Physical range is not defined in following channels:\n",
      "PLM.events\n",
      "  data = mne.io.read_raw_edf(path)\n"
     ]
    },
    {
     "name": "stdout",
     "output_type": "stream",
     "text": [
      "20-02-18-20_05_51.C823.L931.9\n",
      "age: nan; sex: nan\n",
      "Extracting EDF parameters from /media/a663e-36z/Common/Data/ANNE-data-expanded/20-02-19-19_54_00.C823.L931.10-annotated.edf...\n",
      "EDF file detected\n",
      "Setting channel info structure...\n",
      "Creating raw.info structure...\n",
      "20-02-19-19_54_00.C823.L931.10\n",
      "age: 68.6626739676021; sex: Female\n",
      "Extracting EDF parameters from /media/a663e-36z/Common/Data/ANNE-data-expanded/20-03-09-21_22_39.C823.L931.11-annotated.edf...\n",
      "EDF file detected\n",
      "Setting channel info structure...\n",
      "Creating raw.info structure...\n",
      "20-03-09-21_22_39.C823.L931.11\n",
      "age: 58.9952087611225; sex: Male\n",
      "Extracting EDF parameters from /media/a663e-36z/Common/Data/ANNE-data-expanded/20-03-10-21_04_51.C823.L931.12-annotated.edf...\n",
      "EDF file detected\n",
      "Setting channel info structure...\n",
      "Creating raw.info structure...\n"
     ]
    },
    {
     "name": "stderr",
     "output_type": "stream",
     "text": [
      "/media/a663e-36z/Common/Projects/Sunnybrook/ANNE_dl/preprocessing/main.py:112: RuntimeWarning: Physical range is not defined in following channels:\n",
      "PLM.events\n",
      "  data = mne.io.read_raw_edf(path)\n"
     ]
    },
    {
     "name": "stdout",
     "output_type": "stream",
     "text": [
      "20-03-10-21_04_51.C823.L931.12\n",
      "age: 62.9733059548255; sex: Male\n",
      "Extracting EDF parameters from /media/a663e-36z/Common/Data/ANNE-data-expanded/20-03-11-21_23_00.C823.L931.13-annotated.edf...\n",
      "EDF file detected\n",
      "Setting channel info structure...\n",
      "Creating raw.info structure...\n",
      "20-03-11-21_23_00.C823.L931.13\n",
      "age: 70.2724161533196; sex: Male\n",
      "Extracting EDF parameters from /media/a663e-36z/Common/Data/ANNE-data-expanded/20-07-21-21_07_11.C1442.L1198.170-annotated.edf...\n",
      "EDF file detected\n",
      "Setting channel info structure...\n",
      "Creating raw.info structure...\n"
     ]
    },
    {
     "name": "stderr",
     "output_type": "stream",
     "text": [
      "/media/a663e-36z/Common/Projects/Sunnybrook/ANNE_dl/preprocessing/main.py:112: RuntimeWarning: Physical range is not defined in following channels:\n",
      "PLM.events\n",
      "  data = mne.io.read_raw_edf(path)\n"
     ]
    },
    {
     "name": "stdout",
     "output_type": "stream",
     "text": [
      "20-07-21-21_07_11.C1442.L1198.170\n",
      "age: 55.8795345653662; sex: Female\n",
      "Extracting EDF parameters from /media/a663e-36z/Common/Data/ANNE-data-expanded/20-07-28-21_50_47.C1459.L1198.174-annotated.edf...\n",
      "EDF file detected\n",
      "Setting channel info structure...\n",
      "Creating raw.info structure...\n",
      "20-07-28-21_50_47.C1459.L1198.174\n",
      "age: 76.4900752908966; sex: Male\n",
      "Extracting EDF parameters from /media/a663e-36z/Common/Data/ANNE-data-expanded/20-07-30-21_10_14.C1390.L1217.176-annotated.edf...\n",
      "EDF file detected\n",
      "Setting channel info structure...\n",
      "Creating raw.info structure...\n",
      "20-07-30-21_10_14.C1390.L1217.176\n",
      "age: 36.0438056125941; sex: Male\n",
      "Extracting EDF parameters from /media/a663e-36z/Common/Data/ANNE-data-expanded/20-08-08-21_59_12.C1459.L1198.178-annotated.edf...\n",
      "EDF file detected\n",
      "Setting channel info structure...\n",
      "Creating raw.info structure...\n",
      "20-08-08-21_59_12.C1459.L1198.178\n",
      "age: 61.4674880219028; sex: Male\n",
      "Extracting EDF parameters from /media/a663e-36z/Common/Data/ANNE-data-expanded/20-08-10-21_18_52.C1459.L1198.179-annotated.edf...\n",
      "EDF file detected\n",
      "Setting channel info structure...\n",
      "Creating raw.info structure...\n",
      "20-08-10-21_18_52.C1459.L1198.179\n",
      "age: 63.3894592744695; sex: Male\n",
      "Extracting EDF parameters from /media/a663e-36z/Common/Data/ANNE-data-expanded/20-08-12-21_24_46.C1425.L1362.180-annotated.edf...\n",
      "EDF file detected\n",
      "Setting channel info structure...\n",
      "Creating raw.info structure...\n",
      "20-08-12-21_24_46.C1425.L1362.180\n",
      "age: 21.0403832991102; sex: Female\n",
      "Extracting EDF parameters from /media/a663e-36z/Common/Data/ANNE-data-expanded/20-08-13-22_15_43.C1425.L1205.181-annotated.edf...\n",
      "EDF file detected\n",
      "Setting channel info structure...\n",
      "Creating raw.info structure...\n",
      "20-08-13-22_15_43.C1425.L1205.181\n",
      "age: 50.8884325804244; sex: Female\n",
      "Extracting EDF parameters from /media/a663e-36z/Common/Data/ANNE-data-expanded/20-08-15-21_20_38.C1419.L1362.182-annotated.edf...\n",
      "EDF file detected\n",
      "Setting channel info structure...\n",
      "Creating raw.info structure...\n"
     ]
    },
    {
     "name": "stderr",
     "output_type": "stream",
     "text": [
      "/media/a663e-36z/Common/Projects/Sunnybrook/ANNE_dl/preprocessing/main.py:112: RuntimeWarning: Physical range is not defined in following channels:\n",
      "PLM.events\n",
      "  data = mne.io.read_raw_edf(path)\n"
     ]
    },
    {
     "name": "stdout",
     "output_type": "stream",
     "text": [
      "20-08-15-21_20_38.C1419.L1362.182\n",
      "age: 72.0164271047228; sex: Male\n",
      "Extracting EDF parameters from /media/a663e-36z/Common/Data/ANNE-data-expanded/20-08-17-21_22_44.C1442.L1215.183-annotated.edf...\n",
      "EDF file detected\n",
      "Setting channel info structure...\n",
      "Creating raw.info structure...\n",
      "20-08-17-21_22_44.C1442.L1215.183\n",
      "age: 53.0732375085558; sex: Male\n",
      "Extracting EDF parameters from /media/a663e-36z/Common/Data/ANNE-data-expanded/20-08-20-21_33_30.C1442.L1215.185-annotated.edf...\n",
      "EDF file detected\n",
      "Setting channel info structure...\n",
      "Creating raw.info structure...\n"
     ]
    },
    {
     "name": "stderr",
     "output_type": "stream",
     "text": [
      "/media/a663e-36z/Common/Projects/Sunnybrook/ANNE_dl/preprocessing/main.py:112: RuntimeWarning: Physical range is not defined in following channels:\n",
      "PLM.events\n",
      "  data = mne.io.read_raw_edf(path)\n"
     ]
    },
    {
     "name": "stdout",
     "output_type": "stream",
     "text": [
      "20-08-20-21_33_30.C1442.L1215.185\n",
      "age: 33.9356605065024; sex: Male\n",
      "Extracting EDF parameters from /media/a663e-36z/Common/Data/ANNE-data-expanded/20-08-24-21_44_04.C1419.L1362.186-annotated.edf...\n",
      "EDF file detected\n",
      "Setting channel info structure...\n",
      "Creating raw.info structure...\n",
      "20-08-24-21_44_04.C1419.L1362.186\n",
      "age: 83.0855578370979; sex: Male\n",
      "Extracting EDF parameters from /media/a663e-36z/Common/Data/ANNE-data-expanded/20-08-26-22_34_39.C1390.L1217.188-annotated.edf...\n",
      "EDF file detected\n",
      "Setting channel info structure...\n",
      "Creating raw.info structure...\n",
      "20-08-26-22_34_39.C1390.L1217.188\n",
      "age: 37.5906913073238; sex: Female\n",
      "Extracting EDF parameters from /media/a663e-36z/Common/Data/ANNE-data-expanded/20-09-02-21_00_21.C1390.L1217.189-annotated.edf...\n",
      "EDF file detected\n",
      "Setting channel info structure...\n",
      "Creating raw.info structure...\n",
      "20-09-02-21_00_21.C1390.L1217.189\n",
      "age: 62.7186858316222; sex: Male\n",
      "Extracting EDF parameters from /media/a663e-36z/Common/Data/ANNE-data-expanded/20-09-03-21_49_47.C1425.L1198.190-annotated.edf...\n",
      "EDF file detected\n",
      "Setting channel info structure...\n",
      "Creating raw.info structure...\n",
      "20-09-03-21_49_47.C1425.L1198.190\n",
      "age: 36.7419575633128; sex: Male\n",
      "Extracting EDF parameters from /media/a663e-36z/Common/Data/ANNE-data-expanded/20-09-04-22_30_34.C1459.L1205.192-annotated.edf...\n",
      "EDF file detected\n",
      "Setting channel info structure...\n",
      "Creating raw.info structure...\n",
      "20-09-04-22_30_34.C1459.L1205.192\n",
      "age: 43.0390143737166; sex: Female\n",
      "Extracting EDF parameters from /media/a663e-36z/Common/Data/ANNE-data-expanded/20-09-09-20_52_35.C1390.L1217.193-annotated.edf...\n",
      "EDF file detected\n",
      "Setting channel info structure...\n",
      "Creating raw.info structure...\n",
      "20-09-09-20_52_35.C1390.L1217.193\n",
      "age: 47.9698836413415; sex: Male\n",
      "Extracting EDF parameters from /media/a663e-36z/Common/Data/ANNE-data-expanded/20-09-10-23_48_07.C1425.L1205.194-annotated.edf...\n",
      "EDF file detected\n",
      "Setting channel info structure...\n",
      "Creating raw.info structure...\n",
      "20-09-10-23_48_07.C1425.L1205.194\n",
      "age: 24.0711841204654; sex: Male\n",
      "Extracting EDF parameters from /media/a663e-36z/Common/Data/ANNE-data-expanded/20-09-30-21_56_35.C1419.L1362.203-annotated.edf...\n",
      "EDF file detected\n",
      "Setting channel info structure...\n",
      "Creating raw.info structure...\n",
      "20-09-30-21_56_35.C1419.L1362.203\n",
      "age: 51.233401779603; sex: Male\n",
      "Extracting EDF parameters from /media/a663e-36z/Common/Data/ANNE-data-expanded/20-10-02-21_48_39.C1390.L1217.205-annotated.edf...\n",
      "EDF file detected\n",
      "Setting channel info structure...\n",
      "Creating raw.info structure...\n"
     ]
    },
    {
     "name": "stderr",
     "output_type": "stream",
     "text": [
      "/media/a663e-36z/Common/Projects/Sunnybrook/ANNE_dl/preprocessing/main.py:112: RuntimeWarning: Physical range is not defined in following channels:\n",
      "PLM.events, SpO2.events\n",
      "  data = mne.io.read_raw_edf(path)\n"
     ]
    },
    {
     "name": "stdout",
     "output_type": "stream",
     "text": [
      "20-10-02-21_48_39.C1390.L1217.205\n",
      "age: 34.4640657084189; sex: Female\n",
      "Extracting EDF parameters from /media/a663e-36z/Common/Data/ANNE-data-expanded/20-10-05-21_31_56.C1459.L1198.206-annotated.edf...\n",
      "EDF file detected\n",
      "Setting channel info structure...\n",
      "Creating raw.info structure...\n"
     ]
    },
    {
     "name": "stderr",
     "output_type": "stream",
     "text": [
      "/media/a663e-36z/Common/Projects/Sunnybrook/ANNE_dl/preprocessing/main.py:112: RuntimeWarning: Physical range is not defined in following channels:\n",
      "resp.events\n",
      "  data = mne.io.read_raw_edf(path)\n"
     ]
    },
    {
     "name": "stdout",
     "output_type": "stream",
     "text": [
      "20-10-05-21_31_56.C1459.L1198.206\n",
      "age: 18.5215605749487; sex: Female\n",
      "Extracting EDF parameters from /media/a663e-36z/Common/Data/ANNE-data-expanded/20-10-07-22_00_34.C1425.L1205.207-annotated.edf...\n",
      "EDF file detected\n",
      "Setting channel info structure...\n",
      "Creating raw.info structure...\n"
     ]
    },
    {
     "name": "stderr",
     "output_type": "stream",
     "text": [
      "/media/a663e-36z/Common/Projects/Sunnybrook/ANNE_dl/preprocessing/main.py:112: RuntimeWarning: Physical range is not defined in following channels:\n",
      "PLM.events\n",
      "  data = mne.io.read_raw_edf(path)\n"
     ]
    },
    {
     "name": "stdout",
     "output_type": "stream",
     "text": [
      "20-10-07-22_00_34.C1425.L1205.207\n",
      "age: 65.5359342915811; sex: Female\n",
      "Extracting EDF parameters from /media/a663e-36z/Common/Data/ANNE-data-expanded/20-10-08-22_12_23.C1419.L1362.208-annotated.edf...\n",
      "EDF file detected\n",
      "Setting channel info structure...\n",
      "Creating raw.info structure...\n"
     ]
    },
    {
     "name": "stderr",
     "output_type": "stream",
     "text": [
      "/media/a663e-36z/Common/Projects/Sunnybrook/ANNE_dl/preprocessing/main.py:112: RuntimeWarning: Physical range is not defined in following channels:\n",
      "PLM.events\n",
      "  data = mne.io.read_raw_edf(path)\n"
     ]
    },
    {
     "name": "stdout",
     "output_type": "stream",
     "text": [
      "20-10-08-22_12_23.C1419.L1362.208\n",
      "age: 59.066392881588; sex: Female\n",
      "Extracting EDF parameters from /media/a663e-36z/Common/Data/ANNE-data-expanded/20-10-13-21_31_56.C1442.L1215.209-annotated.edf...\n",
      "EDF file detected\n",
      "Setting channel info structure...\n",
      "Creating raw.info structure...\n",
      "20-10-13-21_31_56.C1442.L1215.209\n",
      "age: 66.3901437371663; sex: Male\n",
      "Extracting EDF parameters from /media/a663e-36z/Common/Data/ANNE-data-expanded/20-10-14-21_31_33.C1459.L1198.210-annotated.edf...\n",
      "EDF file detected\n",
      "Setting channel info structure...\n",
      "Creating raw.info structure...\n"
     ]
    },
    {
     "name": "stderr",
     "output_type": "stream",
     "text": [
      "/media/a663e-36z/Common/Projects/Sunnybrook/ANNE_dl/preprocessing/main.py:112: RuntimeWarning: Physical range is not defined in following channels:\n",
      "PLM.events\n",
      "  data = mne.io.read_raw_edf(path)\n"
     ]
    },
    {
     "name": "stdout",
     "output_type": "stream",
     "text": [
      "20-10-14-21_31_33.C1459.L1198.210\n",
      "age: 67.0088980150582; sex: Male\n",
      "Extracting EDF parameters from /media/a663e-36z/Common/Data/ANNE-data-expanded/20-10-15-21_57_07.C1425.L1205.211-annotated.edf...\n",
      "EDF file detected\n",
      "Setting channel info structure...\n",
      "Creating raw.info structure...\n",
      "20-10-15-21_57_07.C1425.L1205.211\n",
      "age: 66.6228610540726; sex: Female\n",
      "Extracting EDF parameters from /media/a663e-36z/Common/Data/ANNE-data-expanded/20-10-23-21_08_59.C1442.L1215.213-annotated.edf...\n",
      "EDF file detected\n",
      "Setting channel info structure...\n",
      "Creating raw.info structure...\n",
      "20-10-23-21_08_59.C1442.L1215.213\n",
      "age: 21.2977412731006; sex: Female\n",
      "Extracting EDF parameters from /media/a663e-36z/Common/Data/ANNE-data-expanded/20-10-28-21_32_43.C1459.L1198.214-annotated.edf...\n",
      "EDF file detected\n",
      "Setting channel info structure...\n",
      "Creating raw.info structure...\n",
      "20-10-28-21_32_43.C1459.L1198.214\n",
      "age: 34.5352498288843; sex: Female\n",
      "Extracting EDF parameters from /media/a663e-36z/Common/Data/ANNE-data-expanded/20-11-03-22_20_46.C1442.L1215.216-annotated.edf...\n",
      "EDF file detected\n",
      "Setting channel info structure...\n",
      "Creating raw.info structure...\n",
      "20-11-03-22_20_46.C1442.L1215.216\n",
      "age: 75.6659822039699; sex: Female\n",
      "Extracting EDF parameters from /media/a663e-36z/Common/Data/ANNE-data-expanded/20-11-04-22_03_00.C1459.L1198.217-annotated.edf...\n",
      "EDF file detected\n",
      "Setting channel info structure...\n",
      "Creating raw.info structure...\n"
     ]
    },
    {
     "name": "stderr",
     "output_type": "stream",
     "text": [
      "/media/a663e-36z/Common/Projects/Sunnybrook/ANNE_dl/preprocessing/main.py:112: RuntimeWarning: Physical range is not defined in following channels:\n",
      "PLM.events\n",
      "  data = mne.io.read_raw_edf(path)\n"
     ]
    },
    {
     "name": "stdout",
     "output_type": "stream",
     "text": [
      "20-11-04-22_03_00.C1459.L1198.217\n",
      "age: 74.0917180013689; sex: Male\n",
      "Extracting EDF parameters from /media/a663e-36z/Common/Data/ANNE-data-expanded/20-11-09-21_34_42.C1425.L1205.218-annotated.edf...\n",
      "EDF file detected\n",
      "Setting channel info structure...\n",
      "Creating raw.info structure...\n",
      "20-11-09-21_34_42.C1425.L1205.218\n",
      "age: 70.9596167008898; sex: Female\n",
      "Extracting EDF parameters from /media/a663e-36z/Common/Data/ANNE-data-expanded/20-11-11-22_10_54.C1442.L1215.220-annotated.edf...\n",
      "EDF file detected\n",
      "Setting channel info structure...\n",
      "Creating raw.info structure...\n"
     ]
    },
    {
     "name": "stderr",
     "output_type": "stream",
     "text": [
      "/media/a663e-36z/Common/Projects/Sunnybrook/ANNE_dl/preprocessing/main.py:112: RuntimeWarning: Physical range is not defined in following channels:\n",
      "PLM.events, SpO2.events\n",
      "  data = mne.io.read_raw_edf(path)\n"
     ]
    },
    {
     "name": "stdout",
     "output_type": "stream",
     "text": [
      "20-11-11-22_10_54.C1442.L1215.220\n",
      "age: 29.5190508783938; sex: Male\n",
      "Extracting EDF parameters from /media/a663e-36z/Common/Data/ANNE-data-expanded/20-11-17-22_12_58.C1459.L1198.221-annotated.edf...\n",
      "EDF file detected\n",
      "Setting channel info structure...\n",
      "Creating raw.info structure...\n",
      "20-11-17-22_12_58.C1459.L1198.221\n",
      "age: 79.1868583162218; sex: Female\n",
      "Extracting EDF parameters from /media/a663e-36z/Common/Data/ANNE-data-expanded/20-11-19-22_30_28.C1425.L1205.222-annotated.edf...\n",
      "EDF file detected\n",
      "Setting channel info structure...\n",
      "Creating raw.info structure...\n"
     ]
    },
    {
     "name": "stderr",
     "output_type": "stream",
     "text": [
      "/media/a663e-36z/Common/Projects/Sunnybrook/ANNE_dl/preprocessing/main.py:112: RuntimeWarning: Physical range is not defined in following channels:\n",
      "PLM.events\n",
      "  data = mne.io.read_raw_edf(path)\n"
     ]
    },
    {
     "name": "stdout",
     "output_type": "stream",
     "text": [
      "20-11-19-22_30_28.C1425.L1205.222\n",
      "age: 90.0835044490075; sex: Male\n",
      "Extracting EDF parameters from /media/a663e-36z/Common/Data/ANNE-data-expanded/20-11-24-21_39_36.C1459.L1198.223-annotated.edf...\n",
      "EDF file detected\n",
      "Setting channel info structure...\n",
      "Creating raw.info structure...\n"
     ]
    },
    {
     "name": "stderr",
     "output_type": "stream",
     "text": [
      "/media/a663e-36z/Common/Projects/Sunnybrook/ANNE_dl/preprocessing/main.py:112: RuntimeWarning: Physical range is not defined in following channels:\n",
      "PLM.events\n",
      "  data = mne.io.read_raw_edf(path)\n"
     ]
    },
    {
     "name": "stdout",
     "output_type": "stream",
     "text": [
      "20-11-24-21_39_36.C1459.L1198.223\n",
      "age: 22.258726899384; sex: Female\n",
      "Extracting EDF parameters from /media/a663e-36z/Common/Data/ANNE-data-expanded/20-11-26-22_10_11.C1442.L1215.224-annotated.edf...\n",
      "EDF file detected\n",
      "Setting channel info structure...\n",
      "Creating raw.info structure...\n",
      "20-11-26-22_10_11.C1442.L1215.224\n",
      "age: 81.6755646817249; sex: Male\n",
      "Extracting EDF parameters from /media/a663e-36z/Common/Data/ANNE-data-expanded/20-12-01-22_20_13.C1425.L1205.225-annotated.edf...\n",
      "EDF file detected\n",
      "Setting channel info structure...\n",
      "Creating raw.info structure...\n",
      "20-12-01-22_20_13.C1425.L1205.225\n",
      "age: 63.4633812457221; sex: Female\n",
      "Extracting EDF parameters from /media/a663e-36z/Common/Data/ANNE-data-expanded/20-12-02-22_32_08.C1459.L1198.226-annotated.edf...\n",
      "EDF file detected\n",
      "Setting channel info structure...\n",
      "Creating raw.info structure...\n",
      "20-12-02-22_32_08.C1459.L1198.226\n",
      "age: 58.8884325804244; sex: Female\n",
      "Extracting EDF parameters from /media/a663e-36z/Common/Data/ANNE-data-expanded/20-12-08-21_39_09.C1425.L1205.228-annotated.edf...\n",
      "EDF file detected\n",
      "Setting channel info structure...\n",
      "Creating raw.info structure...\n",
      "20-12-08-21_39_09.C1425.L1205.228\n",
      "age: 57.2183436002738; sex: Male\n",
      "Extracting EDF parameters from /media/a663e-36z/Common/Data/ANNE-data-expanded/20-12-09-22_34_06.C1442.L1215.229-annotated.edf...\n",
      "EDF file detected\n",
      "Setting channel info structure...\n",
      "Creating raw.info structure...\n"
     ]
    },
    {
     "name": "stderr",
     "output_type": "stream",
     "text": [
      "/media/a663e-36z/Common/Projects/Sunnybrook/ANNE_dl/preprocessing/main.py:112: RuntimeWarning: Physical range is not defined in following channels:\n",
      "PLM.events\n",
      "  data = mne.io.read_raw_edf(path)\n"
     ]
    },
    {
     "name": "stdout",
     "output_type": "stream",
     "text": [
      "20-12-09-22_34_06.C1442.L1215.229\n",
      "age: 69.0732375085558; sex: Female\n",
      "Extracting EDF parameters from /media/a663e-36z/Common/Data/ANNE-data-expanded/20-12-10-22_33_54.C1459.L1198.230-annotated.edf...\n",
      "EDF file detected\n",
      "Setting channel info structure...\n",
      "Creating raw.info structure...\n"
     ]
    },
    {
     "name": "stderr",
     "output_type": "stream",
     "text": [
      "/media/a663e-36z/Common/Projects/Sunnybrook/ANNE_dl/preprocessing/main.py:112: RuntimeWarning: Physical range is not defined in following channels:\n",
      "PLM.events, SpO2.events\n",
      "  data = mne.io.read_raw_edf(path)\n"
     ]
    },
    {
     "name": "stdout",
     "output_type": "stream",
     "text": [
      "20-12-10-22_33_54.C1459.L1198.230\n",
      "age: 29.3607118412047; sex: Female\n",
      "Extracting EDF parameters from /media/a663e-36z/Common/Data/ANNE-data-expanded/20-12-15-22_02_08.C1425.L1205.231-annotated.edf...\n",
      "EDF file detected\n",
      "Setting channel info structure...\n",
      "Creating raw.info structure...\n",
      "20-12-15-22_02_08.C1425.L1205.231\n",
      "age: 30.0232717316906; sex: Male\n",
      "Extracting EDF parameters from /media/a663e-36z/Common/Data/ANNE-data-expanded/20-12-16-21_57_22.C1442.L1215.232-annotated.edf...\n",
      "EDF file detected\n",
      "Setting channel info structure...\n",
      "Creating raw.info structure...\n"
     ]
    },
    {
     "name": "stderr",
     "output_type": "stream",
     "text": [
      "/media/a663e-36z/Common/Projects/Sunnybrook/ANNE_dl/preprocessing/main.py:112: RuntimeWarning: Physical range is not defined in following channels:\n",
      "PLM.events, SpO2.events\n",
      "  data = mne.io.read_raw_edf(path)\n"
     ]
    },
    {
     "name": "stdout",
     "output_type": "stream",
     "text": [
      "20-12-16-21_57_22.C1442.L1215.232\n",
      "age: 18.8720054757016; sex: Female\n",
      "Extracting EDF parameters from /media/a663e-36z/Common/Data/ANNE-data-expanded/20-12-17-22_24_00.C1459.L1198.233-annotated.edf...\n",
      "EDF file detected\n",
      "Setting channel info structure...\n",
      "Creating raw.info structure...\n",
      "20-12-17-22_24_00.C1459.L1198.233\n",
      "age: 18.1683778234086; sex: Male\n",
      "Extracting EDF parameters from /media/a663e-36z/Common/Data/ANNE-data-expanded/21-01-04-21_42_22.C1459.L1198.234-annotated.edf...\n",
      "EDF file detected\n",
      "Setting channel info structure...\n",
      "Creating raw.info structure...\n"
     ]
    },
    {
     "name": "stderr",
     "output_type": "stream",
     "text": [
      "/media/a663e-36z/Common/Projects/Sunnybrook/ANNE_dl/preprocessing/main.py:112: RuntimeWarning: Physical range is not defined in following channels:\n",
      "PLM.events\n",
      "  data = mne.io.read_raw_edf(path)\n"
     ]
    },
    {
     "name": "stdout",
     "output_type": "stream",
     "text": [
      "21-01-04-21_42_22.C1459.L1198.234\n",
      "age: 21.1718001368925; sex: Male\n",
      "Extracting EDF parameters from /media/a663e-36z/Common/Data/ANNE-data-expanded/21-01-06-22_17_14.C1442.L1215.235-annotated.edf...\n",
      "EDF file detected\n",
      "Setting channel info structure...\n",
      "Creating raw.info structure...\n",
      "21-01-06-22_17_14.C1442.L1215.235\n",
      "age: 76.9965776865161; sex: Male\n",
      "Extracting EDF parameters from /media/a663e-36z/Common/Data/ANNE-data-expanded/21-01-06-22_45_53.C1425.L1205.236-annotated.edf...\n",
      "EDF file detected\n",
      "Setting channel info structure...\n",
      "Creating raw.info structure...\n",
      "21-01-06-22_45_53.C1425.L1205.236\n",
      "age: 18.9815195071869; sex: Female\n",
      "Extracting EDF parameters from /media/a663e-36z/Common/Data/ANNE-data-expanded/21-01-11-21_39_04.C1425.L1205.237-annotated.edf...\n",
      "EDF file detected\n",
      "Setting channel info structure...\n",
      "Creating raw.info structure...\n",
      "21-01-11-21_39_04.C1425.L1205.237\n",
      "age: 36.580424366872; sex: Female\n",
      "Extracting EDF parameters from /media/a663e-36z/Common/Data/ANNE-data-expanded/21-01-12-21_30_33.C1442.L1215.238-annotated.edf...\n",
      "EDF file detected\n",
      "Setting channel info structure...\n",
      "Creating raw.info structure...\n",
      "21-01-12-21_30_33.C1442.L1215.238\n",
      "age: 67.6194387405886; sex: Male\n",
      "Extracting EDF parameters from /media/a663e-36z/Common/Data/ANNE-data-expanded/21-01-25-21_33_14.C1425.L1205.242-annotated.edf...\n",
      "EDF file detected\n",
      "Setting channel info structure...\n",
      "Creating raw.info structure...\n",
      "21-01-25-21_33_14.C1425.L1205.242\n",
      "age: 57.5906913073238; sex: Male\n",
      "Extracting EDF parameters from /media/a663e-36z/Common/Data/ANNE-data-expanded/21-02-01-21_36_56.C1425.L1205.244-annotated.edf...\n",
      "EDF file detected\n",
      "Setting channel info structure...\n",
      "Creating raw.info structure...\n",
      "21-02-01-21_36_56.C1425.L1205.244\n",
      "age: 32.7118412046543; sex: Female\n",
      "Extracting EDF parameters from /media/a663e-36z/Common/Data/ANNE-data-expanded/21-02-02-21_48_54.C1425.L1205.246-annotated.edf...\n",
      "EDF file detected\n",
      "Setting channel info structure...\n",
      "Creating raw.info structure...\n",
      "21-02-02-21_48_54.C1425.L1205.246\n",
      "age: 54.3436002737851; sex: Female\n",
      "Extracting EDF parameters from /media/a663e-36z/Common/Data/ANNE-data-expanded/21-02-09-21_36_10.C1442.L1215.248-annotated.edf...\n",
      "EDF file detected\n",
      "Setting channel info structure...\n",
      "Creating raw.info structure...\n",
      "21-02-09-21_36_10.C1442.L1215.248\n",
      "age: 29.3305954825462; sex: Female\n",
      "Extracting EDF parameters from /media/a663e-36z/Common/Data/ANNE-data-expanded/21-02-16-21_19_22.C1425.L1205.249-annotated.edf...\n",
      "EDF file detected\n",
      "Setting channel info structure...\n",
      "Creating raw.info structure...\n",
      "21-02-16-21_19_22.C1425.L1205.249\n",
      "age: 33.4702258726899; sex: Male\n",
      "Extracting EDF parameters from /media/a663e-36z/Common/Data/ANNE-data-expanded/21-02-18-21_07_23.C1442.L1215.250-annotated.edf...\n",
      "EDF file detected\n",
      "Setting channel info structure...\n",
      "Creating raw.info structure...\n"
     ]
    },
    {
     "name": "stderr",
     "output_type": "stream",
     "text": [
      "/media/a663e-36z/Common/Projects/Sunnybrook/ANNE_dl/preprocessing/main.py:112: RuntimeWarning: Physical range is not defined in following channels:\n",
      "PLM.events\n",
      "  data = mne.io.read_raw_edf(path)\n"
     ]
    },
    {
     "name": "stdout",
     "output_type": "stream",
     "text": [
      "21-02-18-21_07_23.C1442.L1215.250\n",
      "age: 70.3846680355921; sex: Female\n",
      "Extracting EDF parameters from /media/a663e-36z/Common/Data/ANNE-data-expanded/21-02-23-21_30_23.C1425.L1205.252-annotated.edf...\n",
      "EDF file detected\n",
      "Setting channel info structure...\n",
      "Creating raw.info structure...\n",
      "21-02-23-21_30_23.C1425.L1205.252\n",
      "age: 65.6262833675565; sex: Male\n",
      "Extracting EDF parameters from /media/a663e-36z/Common/Data/ANNE-data-expanded/21-03-01-21_32_46.C1425.L1205.253-annotated.edf...\n",
      "EDF file detected\n",
      "Setting channel info structure...\n",
      "Creating raw.info structure...\n",
      "21-03-01-21_32_46.C1425.L1205.253\n",
      "age: 76.331279945243; sex: Female\n",
      "Extracting EDF parameters from /media/a663e-36z/Common/Data/ANNE-data-expanded/21-03-03-21_54_30.C1425.L1205.254-annotated.edf...\n",
      "EDF file detected\n",
      "Setting channel info structure...\n",
      "Creating raw.info structure...\n",
      "21-03-03-21_54_30.C1425.L1205.254\n",
      "age: 49.741273100616; sex: Female\n",
      "Extracting EDF parameters from /media/a663e-36z/Common/Data/ANNE-data-expanded/21-03-09-21_20_56.C1442.L1215.256-annotated.edf...\n",
      "EDF file detected\n",
      "Setting channel info structure...\n",
      "Creating raw.info structure...\n",
      "21-03-09-21_20_56.C1442.L1215.256\n",
      "age: 78.0999315537303; sex: Male\n",
      "Extracting EDF parameters from /media/a663e-36z/Common/Data/ANNE-data-expanded/21-03-15-21_16_58.C1442.L1215.258-annotated.edf...\n",
      "EDF file detected\n",
      "Setting channel info structure...\n",
      "Creating raw.info structure...\n",
      "21-03-15-21_16_58.C1442.L1215.258\n",
      "age: 24.0219028062971; sex: Female\n",
      "Extracting EDF parameters from /media/a663e-36z/Common/Data/ANNE-data-expanded/21-03-15-21_46_08.C1425.L1205.259-annotated.edf...\n",
      "EDF file detected\n",
      "Setting channel info structure...\n",
      "Creating raw.info structure...\n",
      "21-03-15-21_46_08.C1425.L1205.259\n",
      "age: 77.5523613963039; sex: Female\n",
      "Extracting EDF parameters from /media/a663e-36z/Common/Data/ANNE-data-expanded/21-03-23-21_25_37.C1425.L1205.262-annotated.edf...\n",
      "EDF file detected\n",
      "Setting channel info structure...\n",
      "Creating raw.info structure...\n",
      "21-03-23-21_25_37.C1425.L1205.262\n",
      "age: 83.0554414784394; sex: Female\n",
      "Extracting EDF parameters from /media/a663e-36z/Common/Data/ANNE-data-expanded/21-03-29-21_24_04.C1425.L1205.263-annotated.edf...\n",
      "EDF file detected\n",
      "Setting channel info structure...\n",
      "Creating raw.info structure...\n",
      "21-03-29-21_24_04.C1425.L1205.263\n",
      "age: 36.5010266940452; sex: Female\n",
      "Extracting EDF parameters from /media/a663e-36z/Common/Data/ANNE-data-expanded/21-03-31-21_30_29.C1442.L1215.264-annotated.edf...\n",
      "EDF file detected\n",
      "Setting channel info structure...\n",
      "Creating raw.info structure...\n",
      "21-03-31-21_30_29.C1442.L1215.264\n",
      "age: 58.4093086926762; sex: Male\n",
      "Extracting EDF parameters from /media/a663e-36z/Common/Data/ANNE-data-expanded/21-04-27-21_37_47.C1442.L1215.269-annotated.edf...\n",
      "EDF file detected\n",
      "Setting channel info structure...\n",
      "Creating raw.info structure...\n",
      "21-04-27-21_37_47.C1442.L1215.269\n",
      "age: 62.403832991102; sex: Male\n",
      "Extracting EDF parameters from /media/a663e-36z/Common/Data/ANNE-data-expanded/21-04-28-21_51_36.C1442.L1215.270-annotated.edf...\n",
      "EDF file detected\n",
      "Setting channel info structure...\n",
      "Creating raw.info structure...\n"
     ]
    },
    {
     "name": "stderr",
     "output_type": "stream",
     "text": [
      "/media/a663e-36z/Common/Projects/Sunnybrook/ANNE_dl/preprocessing/main.py:112: RuntimeWarning: Physical range is not defined in following channels:\n",
      "PLM.events\n",
      "  data = mne.io.read_raw_edf(path)\n"
     ]
    },
    {
     "name": "stdout",
     "output_type": "stream",
     "text": [
      "21-04-28-21_51_36.C1442.L1215.270\n",
      "age: 77.7577002053388; sex: Female\n",
      "Extracting EDF parameters from /media/a663e-36z/Common/Data/ANNE-data-expanded/21-05-03-21_34_52.C1442.L1215.271-annotated.edf...\n",
      "EDF file detected\n",
      "Setting channel info structure...\n",
      "Creating raw.info structure...\n",
      "21-05-03-21_34_52.C1442.L1215.271\n",
      "age: 52.517453798768; sex: Female\n",
      "Extracting EDF parameters from /media/a663e-36z/Common/Data/ANNE-data-expanded/21-05-05-22_29_37.C1442.L1215.273-annotated.edf...\n",
      "EDF file detected\n",
      "Setting channel info structure...\n",
      "Creating raw.info structure...\n"
     ]
    },
    {
     "name": "stderr",
     "output_type": "stream",
     "text": [
      "/media/a663e-36z/Common/Projects/Sunnybrook/ANNE_dl/preprocessing/main.py:112: RuntimeWarning: Physical range is not defined in following channels:\n",
      "PLM.events\n",
      "  data = mne.io.read_raw_edf(path)\n"
     ]
    },
    {
     "name": "stdout",
     "output_type": "stream",
     "text": [
      "21-05-05-22_29_37.C1442.L1215.273\n",
      "age: 46.7241615331964; sex: Male\n",
      "Extracting EDF parameters from /media/a663e-36z/Common/Data/ANNE-data-expanded/21-05-10-21_33_11.C1442.L1215.274-annotated.edf...\n",
      "EDF file detected\n",
      "Setting channel info structure...\n",
      "Creating raw.info structure...\n",
      "21-05-10-21_33_11.C1442.L1215.274\n",
      "age: 66.9952087611225; sex: Female\n",
      "Extracting EDF parameters from /media/a663e-36z/Common/Data/ANNE-data-expanded/21-05-11-21_27_17.C1442.L1215.275-annotated.edf...\n",
      "EDF file detected\n",
      "Setting channel info structure...\n",
      "Creating raw.info structure...\n",
      "21-05-11-21_27_17.C1442.L1215.275\n",
      "age: 66.5051334702259; sex: Male\n",
      "Extracting EDF parameters from /media/a663e-36z/Common/Data/ANNE-data-expanded/21-05-19-21_46_54.C1425.L1205.279-annotated.edf...\n",
      "EDF file detected\n",
      "Setting channel info structure...\n",
      "Creating raw.info structure...\n"
     ]
    },
    {
     "name": "stderr",
     "output_type": "stream",
     "text": [
      "/media/a663e-36z/Common/Projects/Sunnybrook/ANNE_dl/preprocessing/main.py:112: RuntimeWarning: Physical range is not defined in following channels:\n",
      "PLM.events\n",
      "  data = mne.io.read_raw_edf(path)\n"
     ]
    },
    {
     "name": "stdout",
     "output_type": "stream",
     "text": [
      "21-05-19-21_46_54.C1425.L1205.279\n",
      "age: 66.8856947296372; sex: Male\n",
      "Extracting EDF parameters from /media/a663e-36z/Common/Data/ANNE-data-expanded/21-05-25-21_51_05.C1425.L1205.280-annotated.edf...\n",
      "EDF file detected\n",
      "Setting channel info structure...\n",
      "Creating raw.info structure...\n",
      "21-05-25-21_51_05.C1425.L1205.280\n",
      "age: 48.9774127310062; sex: Female\n",
      "Extracting EDF parameters from /media/a663e-36z/Common/Data/ANNE-data-expanded/21-05-26-21_34_07.C1390.L1215.281-annotated.edf...\n",
      "EDF file detected\n",
      "Setting channel info structure...\n",
      "Creating raw.info structure...\n",
      "21-05-26-21_34_07.C1390.L1215.281\n",
      "age: 62.9514031485284; sex: Female\n",
      "Extracting EDF parameters from /media/a663e-36z/Common/Data/ANNE-data-expanded/21-02-08-21_42_48.C1425.L1205.247-annotated.edf...\n",
      "EDF file detected\n",
      "Setting channel info structure...\n",
      "Creating raw.info structure...\n",
      "21-02-08-21_42_48.C1425.L1205.247\n",
      "age: 47.9561943874059; sex: Female\n",
      "Extracting EDF parameters from /media/a663e-36z/Common/Data/ANNE-data-expanded/21-02-18-21_48_01.C1425.L1205.251-annotated.edf...\n",
      "EDF file detected\n",
      "Setting channel info structure...\n",
      "Creating raw.info structure...\n",
      "21-02-18-21_48_01.C1425.L1205.251\n",
      "age: 57.637234770705; sex: Female\n",
      "Extracting EDF parameters from /media/a663e-36z/Common/Data/ANNE-data-expanded/21-03-08-21_23_15.C1425.L1205.255-annotated.edf...\n",
      "EDF file detected\n",
      "Setting channel info structure...\n",
      "Creating raw.info structure...\n",
      "21-03-08-21_23_15.C1425.L1205.255\n",
      "age: 23.3730321697468; sex: Female\n",
      "Extracting EDF parameters from /media/a663e-36z/Common/Data/ANNE-data-expanded/21-03-22-22_36_53.C1442.L1215.261-annotated.edf...\n",
      "EDF file detected\n",
      "Setting channel info structure...\n",
      "Creating raw.info structure...\n",
      "21-03-22-22_36_53.C1442.L1215.261\n",
      "age: 38.8281998631075; sex: Female\n",
      "Extracting EDF parameters from /media/a663e-36z/Common/Data/ANNE-data-expanded/21-04-05-20_58_49.C1442.L1215.265-annotated.edf...\n",
      "EDF file detected\n",
      "Setting channel info structure...\n",
      "Creating raw.info structure...\n",
      "21-04-05-20_58_49.C1442.L1215.265\n",
      "age: 56.0793976728268; sex: Male\n",
      "Extracting EDF parameters from /media/a663e-36z/Common/Data/ANNE-data-expanded/21-05-04-21_44_15.C1442.L1215.272-annotated.edf...\n",
      "EDF file detected\n",
      "Setting channel info structure...\n",
      "Creating raw.info structure...\n",
      "21-05-04-21_44_15.C1442.L1215.272\n",
      "age: 72.8514715947981; sex: Male\n",
      "Extracting EDF parameters from /media/a663e-36z/Common/Data/ANNE-data-expanded/21-06-01-21_57_58.C1390.L1215.283-annotated.edf...\n",
      "EDF file detected\n",
      "Setting channel info structure...\n",
      "Creating raw.info structure...\n",
      "21-06-01-21_57_58.C1390.L1215.283\n",
      "age: 32.8186173853525; sex: Female\n",
      "Extracting EDF parameters from /media/a663e-36z/Common/Data/ANNE-data-expanded/21-06-07-21_00_39.C1390.L1205.284-annotated.edf...\n",
      "EDF file detected\n",
      "Setting channel info structure...\n",
      "Creating raw.info structure...\n",
      "21-06-07-21_00_39.C1390.L1205.284\n",
      "age: 70.7378507871321; sex: Male\n",
      "Extracting EDF parameters from /media/a663e-36z/Common/Data/ANNE-data-expanded/21-06-08-22_17_20.C1390.L1215.285-annotated.edf...\n",
      "EDF file detected\n",
      "Setting channel info structure...\n",
      "Creating raw.info structure...\n",
      "21-06-08-22_17_20.C1390.L1215.285\n",
      "age: 38.4969199178645; sex: Female\n",
      "Extracting EDF parameters from /media/a663e-36z/Common/Data/ANNE-data-expanded/21-06-15-21_40_44.C1390.L1215.287-annotated.edf...\n",
      "EDF file detected\n",
      "Setting channel info structure...\n",
      "Creating raw.info structure...\n",
      "21-06-15-21_40_44.C1390.L1215.287\n",
      "age: 49.0403832991102; sex: Female\n",
      "Extracting EDF parameters from /media/a663e-36z/Common/Data/ANNE-data-expanded/21-06-16-21_34_33.C1390.L1215.288-annotated.edf...\n",
      "EDF file detected\n",
      "Setting channel info structure...\n",
      "Creating raw.info structure...\n",
      "21-06-16-21_34_33.C1390.L1215.288\n",
      "age: 51.0308008213552; sex: Female\n",
      "Extracting EDF parameters from /media/a663e-36z/Common/Data/ANNE-data-expanded/21-06-22-21_02_40.C1390.L1215.289-annotated.edf...\n",
      "EDF file detected\n",
      "Setting channel info structure...\n",
      "Creating raw.info structure...\n",
      "21-06-22-21_02_40.C1390.L1215.289\n",
      "age: 36.1095140314853; sex: Female\n",
      "Extracting EDF parameters from /media/a663e-36z/Common/Data/ANNE-data-expanded/21-07-06-21_42_48.C1390.L1215.292-annotated.edf...\n",
      "EDF file detected\n",
      "Setting channel info structure...\n",
      "Creating raw.info structure...\n",
      "21-07-06-21_42_48.C1390.L1215.292\n",
      "age: 27.5756331279945; sex: Female\n",
      "Extracting EDF parameters from /media/a663e-36z/Common/Data/ANNE-data-expanded/21-07-07-22_01_55.C1390.L1215.293-annotated.edf...\n",
      "EDF file detected\n",
      "Setting channel info structure...\n",
      "Creating raw.info structure...\n",
      "21-07-07-22_01_55.C1390.L1215.293\n",
      "age: 47.233401779603; sex: Female\n",
      "Extracting EDF parameters from /media/a663e-36z/Common/Data/ANNE-data-expanded/21-07-12-20_57_17.C1390.L1215.294-annotated.edf...\n",
      "EDF file detected\n",
      "Setting channel info structure...\n",
      "Creating raw.info structure...\n",
      "21-07-12-20_57_17.C1390.L1215.294\n",
      "age: 55.7207392197125; sex: Male\n",
      "Extracting EDF parameters from /media/a663e-36z/Common/Data/ANNE-data-expanded/21-08-03-21_31_54.C1425.L1205.298-annotated.edf...\n",
      "EDF file detected\n",
      "Setting channel info structure...\n",
      "Creating raw.info structure...\n",
      "21-08-03-21_31_54.C1425.L1205.298\n",
      "age: 74.7022587268994; sex: Male\n",
      "Extracting EDF parameters from /media/a663e-36z/Common/Data/ANNE-data-expanded/21-08-04-21_26_12.C1425.L1205.299-annotated.edf...\n",
      "EDF file detected\n",
      "Setting channel info structure...\n",
      "Creating raw.info structure...\n",
      "21-08-04-21_26_12.C1425.L1205.299\n",
      "age: 39.791923340178; sex: Male\n",
      "Extracting EDF parameters from /media/a663e-36z/Common/Data/ANNE-data-expanded/21-08-11-21_33_47.C1425.L1205.301-annotated.edf...\n",
      "EDF file detected\n",
      "Setting channel info structure...\n",
      "Creating raw.info structure...\n",
      "21-08-11-21_33_47.C1425.L1205.301\n",
      "age: 58.1409993155373; sex: Male\n",
      "Extracting EDF parameters from /media/a663e-36z/Common/Data/ANNE-data-expanded/21-08-18-21_37_37.C1425.L1205.303-annotated.edf...\n",
      "EDF file detected\n",
      "Setting channel info structure...\n",
      "Creating raw.info structure...\n"
     ]
    },
    {
     "name": "stderr",
     "output_type": "stream",
     "text": [
      "/media/a663e-36z/Common/Projects/Sunnybrook/ANNE_dl/preprocessing/main.py:112: RuntimeWarning: Physical range is not defined in following channels:\n",
      "PLM.events\n",
      "  data = mne.io.read_raw_edf(path)\n"
     ]
    },
    {
     "name": "stdout",
     "output_type": "stream",
     "text": [
      "21-08-18-21_37_37.C1425.L1205.303\n",
      "age: 54.0807665982204; sex: Male\n",
      "Extracting EDF parameters from /media/a663e-36z/Common/Data/ANNE-data-expanded/21-08-19-22_25_46.C1425.L1205.304-annotated.edf...\n",
      "EDF file detected\n",
      "Setting channel info structure...\n",
      "Creating raw.info structure...\n"
     ]
    },
    {
     "name": "stderr",
     "output_type": "stream",
     "text": [
      "/media/a663e-36z/Common/Projects/Sunnybrook/ANNE_dl/preprocessing/main.py:112: RuntimeWarning: Physical range is not defined in following channels:\n",
      "PLM.events\n",
      "  data = mne.io.read_raw_edf(path)\n"
     ]
    },
    {
     "name": "stdout",
     "output_type": "stream",
     "text": [
      "21-08-19-22_25_46.C1425.L1205.304\n",
      "age: 58.7542778918549; sex: Female\n",
      "Extracting EDF parameters from /media/a663e-36z/Common/Data/ANNE-data-expanded/21-08-23-21_08_24.C1390.L1215.305-annotated.edf...\n",
      "EDF file detected\n",
      "Setting channel info structure...\n",
      "Creating raw.info structure...\n",
      "21-08-23-21_08_24.C1390.L1215.305\n",
      "age: 23.6550308008214; sex: Female\n",
      "Extracting EDF parameters from /media/a663e-36z/Common/Data/ANNE-data-expanded/21-08-25-21_26_38.C1425.L1205.307-annotated.edf...\n",
      "EDF file detected\n",
      "Setting channel info structure...\n",
      "Creating raw.info structure...\n",
      "21-08-25-21_26_38.C1425.L1205.307\n",
      "age: 62.776180698152; sex: Male\n",
      "Extracting EDF parameters from /media/a663e-36z/Common/Data/ANNE-data-expanded/21-08-31-21_32_49.C1390.L3562.309-annotated.edf...\n",
      "EDF file detected\n",
      "Setting channel info structure...\n",
      "Creating raw.info structure...\n",
      "21-08-31-21_32_49.C1390.L3562.309\n",
      "age: 70.050650239562; sex: Male\n",
      "Extracting EDF parameters from /media/a663e-36z/Common/Data/ANNE-data-expanded/21-09-01-21_31_56.C1390.L3562.310-annotated.edf...\n",
      "EDF file detected\n",
      "Setting channel info structure...\n",
      "Creating raw.info structure...\n",
      "21-09-01-21_31_56.C1390.L3562.310\n",
      "age: 50.485968514716; sex: Female\n",
      "Extracting EDF parameters from /media/a663e-36z/Common/Data/ANNE-data-expanded/21-09-08-21_52_12.C1390.L3562.313-annotated.edf...\n",
      "EDF file detected\n",
      "Setting channel info structure...\n",
      "Creating raw.info structure...\n",
      "21-09-08-21_52_12.C1390.L3562.313\n",
      "age: 75.3483915126626; sex: Female\n",
      "Extracting EDF parameters from /media/a663e-36z/Common/Data/ANNE-data-expanded/21-09-09-22_16_51.C1390.L3562.314-annotated.edf...\n",
      "EDF file detected\n",
      "Setting channel info structure...\n",
      "Creating raw.info structure...\n"
     ]
    },
    {
     "name": "stderr",
     "output_type": "stream",
     "text": [
      "/media/a663e-36z/Common/Projects/Sunnybrook/ANNE_dl/preprocessing/main.py:112: RuntimeWarning: Physical range is not defined in following channels:\n",
      "SpO2.events\n",
      "  data = mne.io.read_raw_edf(path)\n"
     ]
    },
    {
     "name": "stdout",
     "output_type": "stream",
     "text": [
      "21-09-09-22_16_51.C1390.L3562.314\n",
      "age: 68.1533196440794; sex: Female\n",
      "Extracting EDF parameters from /media/a663e-36z/Common/Data/ANNE-data-expanded/21-09-14-21_30_45.C1390.L3562.315-annotated.edf...\n",
      "EDF file detected\n",
      "Setting channel info structure...\n",
      "Creating raw.info structure...\n",
      "21-09-14-21_30_45.C1390.L3562.315\n",
      "age: 33.492128678987; sex: Male\n",
      "Extracting EDF parameters from /media/a663e-36z/Common/Data/ANNE-data-expanded/21-09-16-21_46_18.C1390.L3562.317-annotated.edf...\n",
      "EDF file detected\n",
      "Setting channel info structure...\n",
      "Creating raw.info structure...\n",
      "21-09-16-21_46_18.C1390.L3562.317\n",
      "age: 35.8001368925394; sex: Male\n",
      "Extracting EDF parameters from /media/a663e-36z/Common/Data/ANNE-data-expanded/21-09-28-22_11_46.C1425.L3562.319-annotated.edf...\n",
      "EDF file detected\n",
      "Setting channel info structure...\n",
      "Creating raw.info structure...\n",
      "21-09-28-22_11_46.C1425.L3562.319\n",
      "age: 72.9911019849418; sex: Male\n",
      "Extracting EDF parameters from /media/a663e-36z/Common/Data/ANNE-data-expanded/21-09-29-21_52_36.C1425.L3562.320-annotated.edf...\n",
      "EDF file detected\n",
      "Setting channel info structure...\n",
      "Creating raw.info structure...\n",
      "21-09-29-21_52_36.C1425.L3562.320\n",
      "age: 51.337440109514; sex: Male\n",
      "Extracting EDF parameters from /media/a663e-36z/Common/Data/ANNE-data-expanded/21-10-07-22_11_28.C3884.L3562.322-annotated.edf...\n",
      "EDF file detected\n",
      "Setting channel info structure...\n",
      "Creating raw.info structure...\n",
      "21-10-07-22_11_28.C3884.L3562.322\n",
      "age: 60.2217659137577; sex: Male\n",
      "Extracting EDF parameters from /media/a663e-36z/Common/Data/ANNE-data-expanded/21-10-13-21_55_12.C3884.L3562.324-annotated.edf...\n",
      "EDF file detected\n",
      "Setting channel info structure...\n",
      "Creating raw.info structure...\n"
     ]
    },
    {
     "name": "stderr",
     "output_type": "stream",
     "text": [
      "/media/a663e-36z/Common/Projects/Sunnybrook/ANNE_dl/preprocessing/main.py:112: RuntimeWarning: Physical range is not defined in following channels:\n",
      "PLM.events\n",
      "  data = mne.io.read_raw_edf(path)\n"
     ]
    },
    {
     "name": "stdout",
     "output_type": "stream",
     "text": [
      "21-10-13-21_55_12.C3884.L3562.324\n",
      "age: 73.8699520876112; sex: Female\n",
      "Extracting EDF parameters from /media/a663e-36z/Common/Data/ANNE-data-expanded/21-10-14-23_20_40.C3884.L3562.325-annotated.edf...\n",
      "EDF file detected\n",
      "Setting channel info structure...\n",
      "Creating raw.info structure...\n",
      "21-10-14-23_20_40.C3884.L3562.325\n",
      "age: 73.4346338124572; sex: Female\n",
      "Extracting EDF parameters from /media/a663e-36z/Common/Data/ANNE-data-expanded/21-11-01-22_03_35.C3884.L3562.329-annotated.edf...\n",
      "EDF file detected\n",
      "Setting channel info structure...\n",
      "Creating raw.info structure...\n",
      "21-11-01-22_03_35.C3884.L3562.329\n",
      "age: 53.0431211498973; sex: Female\n",
      "Extracting EDF parameters from /media/a663e-36z/Common/Data/ANNE-data-expanded/21-11-09-21_25_17.C3884.L3562.332-annotated.edf...\n",
      "EDF file detected\n",
      "Setting channel info structure...\n",
      "Creating raw.info structure...\n"
     ]
    },
    {
     "name": "stderr",
     "output_type": "stream",
     "text": [
      "/media/a663e-36z/Common/Projects/Sunnybrook/ANNE_dl/preprocessing/main.py:112: RuntimeWarning: Physical range is not defined in following channels:\n",
      "PLM.events\n",
      "  data = mne.io.read_raw_edf(path)\n"
     ]
    },
    {
     "name": "stdout",
     "output_type": "stream",
     "text": [
      "21-11-09-21_25_17.C3884.L3562.332\n",
      "age: 60.082135523614; sex: Male\n",
      "Extracting EDF parameters from /media/a663e-36z/Common/Data/ANNE-data-expanded/21-11-25-21_21_46.C3882.L3562.337-annotated.edf...\n",
      "EDF file detected\n",
      "Setting channel info structure...\n",
      "Creating raw.info structure...\n",
      "21-11-25-21_21_46.C3882.L3562.337\n",
      "age: 33.9767282683094; sex: Female\n",
      "Extracting EDF parameters from /media/a663e-36z/Common/Data/ANNE-data-expanded/21-12-07-21_26_56.C3882.L3562.340-annotated.edf...\n",
      "EDF file detected\n",
      "Setting channel info structure...\n",
      "Creating raw.info structure...\n"
     ]
    },
    {
     "name": "stderr",
     "output_type": "stream",
     "text": [
      "/media/a663e-36z/Common/Projects/Sunnybrook/ANNE_dl/preprocessing/main.py:112: RuntimeWarning: Physical range is not defined in following channels:\n",
      "PLM.events\n",
      "  data = mne.io.read_raw_edf(path)\n"
     ]
    },
    {
     "name": "stdout",
     "output_type": "stream",
     "text": [
      "21-12-07-21_26_56.C3882.L3562.340\n",
      "age: 58.6447638603696; sex: Male\n",
      "Extracting EDF parameters from /media/a663e-36z/Common/Data/ANNE-data-expanded/21-12-14-22_27_58.C3882.L3562.342-annotated.edf...\n",
      "EDF file detected\n",
      "Setting channel info structure...\n",
      "Creating raw.info structure...\n"
     ]
    },
    {
     "name": "stderr",
     "output_type": "stream",
     "text": [
      "/media/a663e-36z/Common/Projects/Sunnybrook/ANNE_dl/preprocessing/main.py:112: RuntimeWarning: Physical range is not defined in following channels:\n",
      "PLM.events\n",
      "  data = mne.io.read_raw_edf(path)\n"
     ]
    },
    {
     "name": "stdout",
     "output_type": "stream",
     "text": [
      "21-12-14-22_27_58.C3882.L3562.342\n",
      "age: 28.952772073922; sex: Female\n",
      "Extracting EDF parameters from /media/a663e-36z/Common/Data/ANNE-data-expanded/21-05-31-22_11_50.C1390.L1215.282-annotated.edf...\n",
      "EDF file detected\n",
      "Setting channel info structure...\n",
      "Creating raw.info structure...\n"
     ]
    },
    {
     "name": "stderr",
     "output_type": "stream",
     "text": [
      "/media/a663e-36z/Common/Projects/Sunnybrook/ANNE_dl/preprocessing/main.py:112: RuntimeWarning: Physical range is not defined in following channels:\n",
      "PLM.events\n",
      "  data = mne.io.read_raw_edf(path)\n"
     ]
    },
    {
     "name": "stdout",
     "output_type": "stream",
     "text": [
      "21-05-31-22_11_50.C1390.L1215.282\n",
      "age: 83.9890485968515; sex: Male\n",
      "Extracting EDF parameters from /media/a663e-36z/Common/Data/ANNE-data-expanded/21-06-09-21_31_23.C1390.L1215.286-annotated.edf...\n",
      "EDF file detected\n",
      "Setting channel info structure...\n",
      "Creating raw.info structure...\n",
      "21-06-09-21_31_23.C1390.L1215.286\n",
      "age: 59.9890485968515; sex: Female\n",
      "Extracting EDF parameters from /media/a663e-36z/Common/Data/ANNE-data-expanded/21-07-05-21_15_50.C1390.L1215.291-annotated.edf...\n",
      "EDF file detected\n",
      "Setting channel info structure...\n",
      "Creating raw.info structure...\n",
      "21-07-05-21_15_50.C1390.L1215.291\n",
      "age: 67.5208761122519; sex: Male\n",
      "Extracting EDF parameters from /media/a663e-36z/Common/Data/ANNE-data-expanded/21-07-19-21_04_07.C1390.L1215.295-annotated.edf...\n",
      "EDF file detected\n",
      "Setting channel info structure...\n",
      "Creating raw.info structure...\n",
      "21-07-19-21_04_07.C1390.L1215.295\n",
      "age: 58.8473648186174; sex: Male\n",
      "Extracting EDF parameters from /media/a663e-36z/Common/Data/ANNE-data-expanded/21-08-17-21_26_01.C1425.L1205.302-annotated.edf...\n",
      "EDF file detected\n",
      "Setting channel info structure...\n",
      "Creating raw.info structure...\n",
      "21-08-17-21_26_01.C1425.L1205.302\n",
      "age: 34.2258726899384; sex: Female\n",
      "Extracting EDF parameters from /media/a663e-36z/Common/Data/ANNE-data-expanded/21-08-24-21_13_48.C1390.L1215.306-annotated.edf...\n",
      "EDF file detected\n",
      "Setting channel info structure...\n",
      "Creating raw.info structure...\n",
      "21-08-24-21_13_48.C1390.L1215.306\n",
      "age: 56.3066392881588; sex: Female\n",
      "Extracting EDF parameters from /media/a663e-36z/Common/Data/ANNE-data-expanded/21-09-07-21_39_42.C1390.L3562.312-annotated.edf...\n",
      "EDF file detected\n",
      "Setting channel info structure...\n",
      "Creating raw.info structure...\n",
      "21-09-07-21_39_42.C1390.L3562.312\n",
      "age: 80.9308692676249; sex: Male\n",
      "Extracting EDF parameters from /media/a663e-36z/Common/Data/ANNE-data-expanded/21-09-15-22_59_43.C1390.L3562.316-annotated.edf...\n",
      "EDF file detected\n",
      "Setting channel info structure...\n",
      "Creating raw.info structure...\n",
      "21-09-15-22_59_43.C1390.L3562.316\n",
      "age: 32.72553045859; sex: Female\n",
      "Extracting EDF parameters from /media/a663e-36z/Common/Data/ANNE-data-expanded/21-10-05-21_17_44.C3884.L3562.321-annotated.edf...\n",
      "EDF file detected\n",
      "Setting channel info structure...\n",
      "Creating raw.info structure...\n",
      "21-10-05-21_17_44.C3884.L3562.321\n",
      "age: 35.6331279945243; sex: Male\n",
      "Extracting EDF parameters from /media/a663e-36z/Common/Data/ANNE-data-expanded/21-05-17-21_15_06.C1442.L1215.277-annotated.edf...\n",
      "EDF file detected\n",
      "Setting channel info structure...\n",
      "Creating raw.info structure...\n",
      "21-05-17-21_15_06.C1442.L1215.277\n",
      "age: 19.1403148528405; sex: Female\n",
      "Extracting EDF parameters from /media/a663e-36z/Common/Data/ANNE-data-expanded/21-11-15-21_24_55.C3882.L3562.334-annotated.edf...\n",
      "EDF file detected\n",
      "Setting channel info structure...\n",
      "Creating raw.info structure...\n",
      "21-11-15-21_24_55.C3882.L3562.334\n",
      "age: 62.9295003422313; sex: Female\n",
      "Extracting EDF parameters from /media/a663e-36z/Common/Data/ANNE-data-expanded/22-03-03-21_46_34.C4151.L3562.362-annotated.edf...\n",
      "EDF file detected\n",
      "Setting channel info structure...\n",
      "Creating raw.info structure...\n",
      "22-03-03-21_46_34.C4151.L3562.362\n",
      "age: 74.3983572895277; sex: Male\n",
      "Extracting EDF parameters from /media/a663e-36z/Common/Data/ANNE-data-expanded/22-03-08-21_23_30.C4151.L3562.365-annotated.edf...\n",
      "EDF file detected\n",
      "Setting channel info structure...\n",
      "Creating raw.info structure...\n"
     ]
    },
    {
     "name": "stderr",
     "output_type": "stream",
     "text": [
      "/media/a663e-36z/Common/Projects/Sunnybrook/ANNE_dl/preprocessing/main.py:112: RuntimeWarning: Physical range is not defined in following channels:\n",
      "PLM.events, SpO2.events\n",
      "  data = mne.io.read_raw_edf(path)\n"
     ]
    },
    {
     "name": "stdout",
     "output_type": "stream",
     "text": [
      "22-03-08-21_23_30.C4151.L3562.365\n",
      "age: 77.4948665297741; sex: Female\n",
      "Extracting EDF parameters from /media/a663e-36z/Common/Data/ANNE-data-expanded/22-03-15-23_29_54.C4151.L3562.367-annotated.edf...\n",
      "EDF file detected\n",
      "Setting channel info structure...\n",
      "Creating raw.info structure...\n"
     ]
    },
    {
     "name": "stderr",
     "output_type": "stream",
     "text": [
      "/media/a663e-36z/Common/Projects/Sunnybrook/ANNE_dl/preprocessing/main.py:112: RuntimeWarning: Physical range is not defined in following channels:\n",
      "PLM.events\n",
      "  data = mne.io.read_raw_edf(path)\n"
     ]
    },
    {
     "name": "stdout",
     "output_type": "stream",
     "text": [
      "22-03-15-23_29_54.C4151.L3562.367\n",
      "age: 53.4948665297741; sex: Female\n",
      "Extracting EDF parameters from /media/a663e-36z/Common/Data/ANNE-data-expanded/22-03-21-21_39_37.C4151.L3562.369-annotated.edf...\n",
      "EDF file detected\n",
      "Setting channel info structure...\n",
      "Creating raw.info structure...\n"
     ]
    },
    {
     "name": "stderr",
     "output_type": "stream",
     "text": [
      "/media/a663e-36z/Common/Projects/Sunnybrook/ANNE_dl/preprocessing/main.py:112: RuntimeWarning: Physical range is not defined in following channels:\n",
      "PLM.events\n",
      "  data = mne.io.read_raw_edf(path)\n"
     ]
    },
    {
     "name": "stdout",
     "output_type": "stream",
     "text": [
      "22-03-21-21_39_37.C4151.L3562.369\n",
      "age: 56.3832991101985; sex: Female\n",
      "Extracting EDF parameters from /media/a663e-36z/Common/Data/ANNE-data-expanded/22-03-23-21_28_55.C4151.L3562.371-annotated.edf...\n",
      "EDF file detected\n",
      "Setting channel info structure...\n",
      "Creating raw.info structure...\n",
      "22-03-23-21_28_55.C4151.L3562.371\n",
      "age: 73.7768651608487; sex: Male\n",
      "Extracting EDF parameters from /media/a663e-36z/Common/Data/ANNE-data-expanded/22-03-28-21_08_48.C4151.L3562.374-annotated.edf...\n",
      "EDF file detected\n",
      "Setting channel info structure...\n",
      "Creating raw.info structure...\n",
      "22-03-28-21_08_48.C4151.L3562.374\n",
      "age: 73.4647501711157; sex: Male\n",
      "Extracting EDF parameters from /media/a663e-36z/Common/Data/ANNE-data-expanded/22-03-30-23_13_48.C4151.L3562.375-annotated.edf...\n",
      "EDF file detected\n",
      "Setting channel info structure...\n",
      "Creating raw.info structure...\n"
     ]
    },
    {
     "name": "stderr",
     "output_type": "stream",
     "text": [
      "/media/a663e-36z/Common/Projects/Sunnybrook/ANNE_dl/preprocessing/main.py:112: RuntimeWarning: Physical range is not defined in following channels:\n",
      "PLM.events\n",
      "  data = mne.io.read_raw_edf(path)\n"
     ]
    },
    {
     "name": "stdout",
     "output_type": "stream",
     "text": [
      "22-03-30-23_13_48.C4151.L3562.375\n",
      "age: 29.8206707734428; sex: Male\n",
      "Extracting EDF parameters from /media/a663e-36z/Common/Data/ANNE-data-expanded/22-03-31-21_53_00.C4151.L3562.376-annotated.edf...\n",
      "EDF file detected\n",
      "Setting channel info structure...\n",
      "Creating raw.info structure...\n"
     ]
    },
    {
     "name": "stderr",
     "output_type": "stream",
     "text": [
      "/media/a663e-36z/Common/Projects/Sunnybrook/ANNE_dl/preprocessing/main.py:112: RuntimeWarning: Physical range is not defined in following channels:\n",
      "PLM.events\n",
      "  data = mne.io.read_raw_edf(path)\n"
     ]
    },
    {
     "name": "stdout",
     "output_type": "stream",
     "text": [
      "22-03-31-21_53_00.C4151.L3562.376\n",
      "age: 60.9144421629021; sex: Female\n",
      "Extracting EDF parameters from /media/a663e-36z/Common/Data/ANNE-data-expanded/22-04-04-21_49_54.C4151.L3562.378-annotated.edf...\n",
      "EDF file detected\n",
      "Setting channel info structure...\n",
      "Creating raw.info structure...\n"
     ]
    },
    {
     "name": "stderr",
     "output_type": "stream",
     "text": [
      "/media/a663e-36z/Common/Projects/Sunnybrook/ANNE_dl/preprocessing/main.py:112: RuntimeWarning: Physical range is not defined in following channels:\n",
      "PLM.events, SpO2.events\n",
      "  data = mne.io.read_raw_edf(path)\n"
     ]
    },
    {
     "name": "stdout",
     "output_type": "stream",
     "text": [
      "22-04-04-21_49_54.C4151.L3562.378\n",
      "age: 65.533196440794; sex: Female\n",
      "Extracting EDF parameters from /media/a663e-36z/Common/Data/ANNE-data-expanded/22-04-18-21_25_41.C4151.L3562.382-annotated.edf...\n",
      "EDF file detected\n",
      "Setting channel info structure...\n",
      "Creating raw.info structure...\n"
     ]
    },
    {
     "name": "stderr",
     "output_type": "stream",
     "text": [
      "/media/a663e-36z/Common/Projects/Sunnybrook/ANNE_dl/preprocessing/main.py:112: RuntimeWarning: Physical range is not defined in following channels:\n",
      "SpO2.events\n",
      "  data = mne.io.read_raw_edf(path)\n"
     ]
    },
    {
     "name": "stdout",
     "output_type": "stream",
     "text": [
      "22-04-18-21_25_41.C4151.L3562.382\n",
      "age: 56.35318275154; sex: Female\n",
      "Extracting EDF parameters from /media/a663e-36z/Common/Data/ANNE-data-expanded/22-05-04-21_14_35.C4179.L3806.389-annotated.edf...\n",
      "EDF file detected\n",
      "Setting channel info structure...\n",
      "Creating raw.info structure...\n",
      "22-05-04-21_14_35.C4179.L3806.389\n",
      "age: 65.6208076659822; sex: Female\n",
      "Extracting EDF parameters from /media/a663e-36z/Common/Data/ANNE-data-expanded/22-05-05-22_38_04.C4179.L3806.390-annotated.edf...\n",
      "EDF file detected\n",
      "Setting channel info structure...\n",
      "Creating raw.info structure...\n",
      "22-05-05-22_38_04.C4179.L3806.390\n",
      "age: 64.4024640657084; sex: Female\n",
      "Extracting EDF parameters from /media/a663e-36z/Common/Data/ANNE-data-expanded/22-05-12-22_05_51.C4179.L3806.394-annotated.edf...\n",
      "EDF file detected\n",
      "Setting channel info structure...\n",
      "Creating raw.info structure...\n",
      "22-05-12-22_05_51.C4179.L3806.394\n",
      "age: 58.9235683321926; sex: Female\n",
      "Extracting EDF parameters from /media/a663e-36z/Common/Data/ANNE-data-expanded/22-05-16-21_48_00.C4179.L3806.395-annotated.edf...\n",
      "EDF file detected\n",
      "Setting channel info structure...\n",
      "Creating raw.info structure...\n"
     ]
    },
    {
     "name": "stderr",
     "output_type": "stream",
     "text": [
      "/media/a663e-36z/Common/Projects/Sunnybrook/ANNE_dl/preprocessing/main.py:112: RuntimeWarning: Physical range is not defined in following channels:\n",
      "PLM.events\n",
      "  data = mne.io.read_raw_edf(path)\n"
     ]
    },
    {
     "name": "stdout",
     "output_type": "stream",
     "text": [
      "22-05-16-21_48_00.C4179.L3806.395\n",
      "age: 72.3285420944559; sex: Female\n",
      "Extracting EDF parameters from /media/a663e-36z/Common/Data/ANNE-data-expanded/22-05-18-21_33_23.C4179.L3806.397-annotated.edf...\n",
      "EDF file detected\n",
      "Setting channel info structure...\n",
      "Creating raw.info structure...\n",
      "22-05-18-21_33_23.C4179.L3806.397\n",
      "age: 55.9507186858316; sex: Male\n",
      "Extracting EDF parameters from /media/a663e-36z/Common/Data/ANNE-data-expanded/22-05-25-22_11_39.C4179.L3806.399-annotated.edf...\n",
      "EDF file detected\n",
      "Setting channel info structure...\n",
      "Creating raw.info structure...\n",
      "22-05-25-22_11_39.C4179.L3806.399\n",
      "age: nan; sex: nan\n",
      "Extracting EDF parameters from /media/a663e-36z/Common/Data/ANNE-data-expanded/22-05-26-21_08_08.C4179.L3806.400-annotated.edf...\n",
      "EDF file detected\n",
      "Setting channel info structure...\n",
      "Creating raw.info structure...\n",
      "22-05-26-21_08_08.C4179.L3806.400\n",
      "age: 64.3367556468173; sex: Female\n",
      "Extracting EDF parameters from /media/a663e-36z/Common/Data/ANNE-data-expanded/22-05-30-21_37_30.C4179.L3806.402-annotated.edf...\n",
      "EDF file detected\n",
      "Setting channel info structure...\n",
      "Creating raw.info structure...\n",
      "22-05-30-21_37_30.C4179.L3806.402\n",
      "age: 74.8172484599589; sex: Female\n",
      "Extracting EDF parameters from /media/a663e-36z/Common/Data/ANNE-data-expanded/22-05-31-21_52_25.C4179.L3806.403-annotated.edf...\n",
      "EDF file detected\n",
      "Setting channel info structure...\n",
      "Creating raw.info structure...\n"
     ]
    },
    {
     "name": "stderr",
     "output_type": "stream",
     "text": [
      "/media/a663e-36z/Common/Projects/Sunnybrook/ANNE_dl/preprocessing/main.py:112: RuntimeWarning: Physical range is not defined in following channels:\n",
      "PLM.events\n",
      "  data = mne.io.read_raw_edf(path)\n"
     ]
    },
    {
     "name": "stdout",
     "output_type": "stream",
     "text": [
      "22-05-31-21_52_25.C4179.L3806.403\n",
      "age: 60.4599589322382; sex: Female\n",
      "Extracting EDF parameters from /media/a663e-36z/Common/Data/ANNE-data-expanded/22-06-01-21_58_28.C4179.L3806.404-annotated.edf...\n",
      "EDF file detected\n",
      "Setting channel info structure...\n",
      "Creating raw.info structure...\n",
      "22-06-01-21_58_28.C4179.L3806.404\n",
      "age: 40.1971252566735; sex: Female\n",
      "Extracting EDF parameters from /media/a663e-36z/Common/Data/ANNE-data-expanded/22-06-02-22_16_35.C4179.L3806.405-annotated.edf...\n",
      "EDF file detected\n",
      "Setting channel info structure...\n",
      "Creating raw.info structure...\n",
      "22-06-02-22_16_35.C4179.L3806.405\n",
      "age: 59.4579055441478; sex: Male\n",
      "Extracting EDF parameters from /media/a663e-36z/Common/Data/ANNE-data-expanded/22-06-06-21_28_35.C4179.L3806.407-annotated.edf...\n",
      "EDF file detected\n",
      "Setting channel info structure...\n",
      "Creating raw.info structure...\n",
      "22-06-06-21_28_35.C4179.L3806.407\n",
      "age: 77.7604380561259; sex: Male\n",
      "Extracting EDF parameters from /media/a663e-36z/Common/Data/ANNE-data-expanded/22-06-07-22_45_11.C4179.L3806.408-annotated.edf...\n",
      "EDF file detected\n",
      "Setting channel info structure...\n",
      "Creating raw.info structure...\n",
      "22-06-07-22_45_11.C4179.L3806.408\n",
      "age: 39.7152635181383; sex: Female\n",
      "Extracting EDF parameters from /media/a663e-36z/Common/Data/ANNE-data-expanded/22-06-08-21_22_12.C4179.L3806.409-annotated.edf...\n",
      "EDF file detected\n",
      "Setting channel info structure...\n",
      "Creating raw.info structure...\n",
      "22-06-08-21_22_12.C4179.L3806.409\n",
      "age: 52.4626967830253; sex: Female\n",
      "Extracting EDF parameters from /media/a663e-36z/Common/Data/ANNE-data-expanded/22-06-14-22_05_48.C4179.L3806.412-annotated.edf...\n",
      "EDF file detected\n",
      "Setting channel info structure...\n",
      "Creating raw.info structure...\n"
     ]
    },
    {
     "name": "stderr",
     "output_type": "stream",
     "text": [
      "/media/a663e-36z/Common/Projects/Sunnybrook/ANNE_dl/preprocessing/main.py:112: RuntimeWarning: Physical range is not defined in following channels:\n",
      "PLM.events\n",
      "  data = mne.io.read_raw_edf(path)\n"
     ]
    },
    {
     "name": "stdout",
     "output_type": "stream",
     "text": [
      "22-06-14-22_05_48.C4179.L3806.412\n",
      "age: 23.4496919917864; sex: Male\n",
      "Extracting EDF parameters from /media/a663e-36z/Common/Data/ANNE-data-expanded/22-06-15-21_33_38.C4179.L3806.413-annotated.edf...\n",
      "EDF file detected\n",
      "Setting channel info structure...\n",
      "Creating raw.info structure...\n"
     ]
    },
    {
     "name": "stderr",
     "output_type": "stream",
     "text": [
      "/media/a663e-36z/Common/Projects/Sunnybrook/ANNE_dl/preprocessing/main.py:112: RuntimeWarning: Physical range is not defined in following channels:\n",
      "PLM.events\n",
      "  data = mne.io.read_raw_edf(path)\n"
     ]
    },
    {
     "name": "stdout",
     "output_type": "stream",
     "text": [
      "22-06-15-21_33_38.C4179.L3806.413\n",
      "age: 49.8343600273785; sex: Male\n",
      "Extracting EDF parameters from /media/a663e-36z/Common/Data/ANNE-data-expanded/22-06-16-21_25_28.C4179.L3806.414-annotated.edf...\n",
      "EDF file detected\n",
      "Setting channel info structure...\n",
      "Creating raw.info structure...\n",
      "22-06-16-21_25_28.C4179.L3806.414\n",
      "age: 38.9733059548255; sex: Female\n",
      "Extracting EDF parameters from /media/a663e-36z/Common/Data/ANNE-data-expanded/22-06-20-21_33_21.C4179.L3806.416-annotated.edf...\n",
      "EDF file detected\n",
      "Setting channel info structure...\n",
      "Creating raw.info structure...\n",
      "22-06-20-21_33_21.C4179.L3806.416\n",
      "age: 73.1991786447639; sex: Female\n",
      "Extracting EDF parameters from /media/a663e-36z/Common/Data/ANNE-data-expanded/22-06-21-21_53_43.C4179.L3806.417-annotated.edf...\n",
      "EDF file detected\n",
      "Setting channel info structure...\n",
      "Creating raw.info structure...\n",
      "22-06-21-21_53_43.C4179.L3806.417\n",
      "age: 75.7207392197125; sex: Female\n",
      "Extracting EDF parameters from /media/a663e-36z/Common/Data/ANNE-data-expanded/22-06-22-21_23_28.C4179.L3806.418-annotated.edf...\n",
      "EDF file detected\n",
      "Setting channel info structure...\n",
      "Creating raw.info structure...\n"
     ]
    },
    {
     "name": "stderr",
     "output_type": "stream",
     "text": [
      "/media/a663e-36z/Common/Projects/Sunnybrook/ANNE_dl/preprocessing/main.py:112: RuntimeWarning: Physical range is not defined in following channels:\n",
      "PLM.events\n",
      "  data = mne.io.read_raw_edf(path)\n"
     ]
    },
    {
     "name": "stdout",
     "output_type": "stream",
     "text": [
      "22-06-22-21_23_28.C4179.L3806.418\n",
      "age: 67.0800821355236; sex: Male\n",
      "Extracting EDF parameters from /media/a663e-36z/Common/Data/ANNE-data-expanded/22-06-28-22_01_03.C4179.L3806.420-annotated.edf...\n",
      "EDF file detected\n",
      "Setting channel info structure...\n",
      "Creating raw.info structure...\n"
     ]
    },
    {
     "name": "stderr",
     "output_type": "stream",
     "text": [
      "/media/a663e-36z/Common/Projects/Sunnybrook/ANNE_dl/preprocessing/main.py:112: RuntimeWarning: Physical range is not defined in following channels:\n",
      "PLM.events\n",
      "  data = mne.io.read_raw_edf(path)\n"
     ]
    },
    {
     "name": "stdout",
     "output_type": "stream",
     "text": [
      "22-06-28-22_01_03.C4179.L3806.420\n",
      "age: nan; sex: Male\n",
      "Extracting EDF parameters from /media/a663e-36z/Common/Data/ANNE-data-expanded/22-06-29-22_16_08.C4179.L3806.421-annotated.edf...\n",
      "EDF file detected\n",
      "Setting channel info structure...\n",
      "Creating raw.info structure...\n"
     ]
    },
    {
     "name": "stderr",
     "output_type": "stream",
     "text": [
      "/media/a663e-36z/Common/Projects/Sunnybrook/ANNE_dl/preprocessing/main.py:112: RuntimeWarning: Physical range is not defined in following channels:\n",
      "PLM.events, SpO2.events\n",
      "  data = mne.io.read_raw_edf(path)\n"
     ]
    },
    {
     "name": "stdout",
     "output_type": "stream",
     "text": [
      "22-06-29-22_16_08.C4179.L3806.421\n",
      "age: nan; sex: nan\n",
      "Extracting EDF parameters from /media/a663e-36z/Common/Data/ANNE-data-expanded/22-07-05-21_37_18.C4179.L3806.422-annotated.edf...\n",
      "EDF file detected\n",
      "Setting channel info structure...\n",
      "Creating raw.info structure...\n"
     ]
    },
    {
     "name": "stderr",
     "output_type": "stream",
     "text": [
      "/media/a663e-36z/Common/Projects/Sunnybrook/ANNE_dl/preprocessing/main.py:112: RuntimeWarning: Physical range is not defined in following channels:\n",
      "SpO2.events\n",
      "  data = mne.io.read_raw_edf(path)\n"
     ]
    },
    {
     "name": "stdout",
     "output_type": "stream",
     "text": [
      "22-07-05-21_37_18.C4179.L3806.422\n",
      "age: 60.6707734428474; sex: Female\n",
      "Extracting EDF parameters from /media/a663e-36z/Common/Data/ANNE-data-expanded/22-07-06-21_17_05.C4179.L3806.423-annotated.edf...\n",
      "EDF file detected\n",
      "Setting channel info structure...\n",
      "Creating raw.info structure...\n",
      "22-07-06-21_17_05.C4179.L3806.423\n",
      "age: 65.7796030116359; sex: Female\n",
      "Extracting EDF parameters from /media/a663e-36z/Common/Data/ANNE-data-expanded/22-07-07-21_33_44.C4179.L3806.424-annotated.edf...\n",
      "EDF file detected\n",
      "Setting channel info structure...\n",
      "Creating raw.info structure...\n"
     ]
    },
    {
     "name": "stderr",
     "output_type": "stream",
     "text": [
      "/media/a663e-36z/Common/Projects/Sunnybrook/ANNE_dl/preprocessing/main.py:112: RuntimeWarning: Physical range is not defined in following channels:\n",
      "PLM.events\n",
      "  data = mne.io.read_raw_edf(path)\n"
     ]
    },
    {
     "name": "stdout",
     "output_type": "stream",
     "text": [
      "22-07-07-21_33_44.C4179.L3806.424\n",
      "age: 66.7816563997262; sex: Female\n",
      "Extracting EDF parameters from /media/a663e-36z/Common/Data/ANNE-data-expanded/22-07-14-21_09_00.C4179.L3806.428-annotated.edf...\n",
      "EDF file detected\n",
      "Setting channel info structure...\n",
      "Creating raw.info structure...\n"
     ]
    },
    {
     "name": "stderr",
     "output_type": "stream",
     "text": [
      "/media/a663e-36z/Common/Projects/Sunnybrook/ANNE_dl/preprocessing/main.py:112: RuntimeWarning: Physical range is not defined in following channels:\n",
      "PLM.events\n",
      "  data = mne.io.read_raw_edf(path)\n"
     ]
    },
    {
     "name": "stdout",
     "output_type": "stream",
     "text": [
      "22-07-14-21_09_00.C4179.L3806.428\n",
      "age: 72.9171800136892; sex: Female\n",
      "Extracting EDF parameters from /media/a663e-36z/Common/Data/ANNE-data-expanded/22-07-19-21_27_55.C4179.L3806.431-annotated.edf...\n",
      "EDF file detected\n",
      "Setting channel info structure...\n",
      "Creating raw.info structure...\n"
     ]
    },
    {
     "name": "stderr",
     "output_type": "stream",
     "text": [
      "/media/a663e-36z/Common/Projects/Sunnybrook/ANNE_dl/preprocessing/main.py:112: RuntimeWarning: Physical range is not defined in following channels:\n",
      "PLM.events\n",
      "  data = mne.io.read_raw_edf(path)\n"
     ]
    },
    {
     "name": "stdout",
     "output_type": "stream",
     "text": [
      "22-07-19-21_27_55.C4179.L3806.431\n",
      "age: 63.9945242984257; sex: Male\n",
      "Extracting EDF parameters from /media/a663e-36z/Common/Data/ANNE-data-expanded/22-07-20-21_20_47.C4179.L3806.432-annotated.edf...\n",
      "EDF file detected\n",
      "Setting channel info structure...\n",
      "Creating raw.info structure...\n"
     ]
    },
    {
     "name": "stderr",
     "output_type": "stream",
     "text": [
      "/media/a663e-36z/Common/Projects/Sunnybrook/ANNE_dl/preprocessing/main.py:112: RuntimeWarning: Physical range is not defined in following channels:\n",
      "PLM.events\n",
      "  data = mne.io.read_raw_edf(path)\n"
     ]
    },
    {
     "name": "stdout",
     "output_type": "stream",
     "text": [
      "22-07-20-21_20_47.C4179.L3806.432\n",
      "age: 57.6016427104723; sex: Male\n",
      "Extracting EDF parameters from /media/a663e-36z/Common/Data/ANNE-data-expanded/22-07-21-21_50_25.C4179.L3806.433-annotated.edf...\n",
      "EDF file detected\n",
      "Setting channel info structure...\n",
      "Creating raw.info structure...\n",
      "22-07-21-21_50_25.C4179.L3806.433\n",
      "age: 31.9835728952772; sex: Female\n",
      "Extracting EDF parameters from /media/a663e-36z/Common/Data/ANNE-data-expanded/22-07-25-21_00_10.C4179.L3806.435-annotated.edf...\n",
      "EDF file detected\n",
      "Setting channel info structure...\n",
      "Creating raw.info structure...\n",
      "22-07-25-21_00_10.C4179.L3806.435\n",
      "age: 64.331279945243; sex: Female\n",
      "Extracting EDF parameters from /media/a663e-36z/Common/Data/ANNE-data-expanded/22-07-26-22_06_00.C4368.L3805.436-annotated.edf...\n",
      "EDF file detected\n",
      "Setting channel info structure...\n",
      "Creating raw.info structure...\n",
      "22-07-26-22_06_00.C4368.L3805.436\n",
      "age: 64.5311430527036; sex: Female\n",
      "Extracting EDF parameters from /media/a663e-36z/Common/Data/ANNE-data-expanded/22-07-27-22_02_02.C4368.L3805.437-annotated.edf...\n",
      "EDF file detected\n",
      "Setting channel info structure...\n",
      "Creating raw.info structure...\n",
      "22-07-27-22_02_02.C4368.L3805.437\n",
      "age: 79.1430527036276; sex: Male\n",
      "Extracting EDF parameters from /media/a663e-36z/Common/Data/ANNE-data-expanded/21-12-21-22_46_35.C3882.L3562.344-annotated.edf...\n",
      "EDF file detected\n",
      "Setting channel info structure...\n",
      "Creating raw.info structure...\n",
      "21-12-21-22_46_35.C3882.L3562.344\n",
      "age: 58.5270362765229; sex: Male\n",
      "Extracting EDF parameters from /media/a663e-36z/Common/Data/ANNE-data-expanded/22-08-02-22_37_47.C4368.L3805.440-annotated.edf...\n",
      "EDF file detected\n",
      "Setting channel info structure...\n",
      "Creating raw.info structure...\n"
     ]
    },
    {
     "name": "stderr",
     "output_type": "stream",
     "text": [
      "/media/a663e-36z/Common/Projects/Sunnybrook/ANNE_dl/preprocessing/main.py:112: RuntimeWarning: Physical range is not defined in following channels:\n",
      "SpO2.events\n",
      "  data = mne.io.read_raw_edf(path)\n"
     ]
    },
    {
     "name": "stdout",
     "output_type": "stream",
     "text": [
      "22-08-02-22_37_47.C4368.L3805.440\n",
      "age: nan; sex: nan\n",
      "Extracting EDF parameters from /media/a663e-36z/Common/Data/ANNE-data-expanded/22-08-03-22_41_18.C4368.L3805.441-annotated.edf...\n",
      "EDF file detected\n",
      "Setting channel info structure...\n",
      "Creating raw.info structure...\n",
      "22-08-03-22_41_18.C4368.L3805.441\n",
      "age: 73.0814510609172; sex: Female\n",
      "Extracting EDF parameters from /media/a663e-36z/Common/Data/ANNE-data-expanded/22-08-04-22_23_21.C4368.L3805.442-annotated.edf...\n",
      "EDF file detected\n",
      "Setting channel info structure...\n",
      "Creating raw.info structure...\n",
      "22-08-04-22_23_21.C4368.L3805.442\n",
      "age: 63.0691307323751; sex: Male\n",
      "Extracting EDF parameters from /media/a663e-36z/Common/Data/ANNE-data-expanded/22-08-10-21_43_54.C4368.L3805.446-annotated.edf...\n",
      "EDF file detected\n",
      "Setting channel info structure...\n",
      "Creating raw.info structure...\n",
      "22-08-10-21_43_54.C4368.L3805.446\n",
      "age: 79.6550308008214; sex: Male\n",
      "Extracting EDF parameters from /media/a663e-36z/Common/Data/ANNE-data-expanded/22-08-16-21_29_44.C4368.L3805.450-annotated.edf...\n",
      "EDF file detected\n",
      "Setting channel info structure...\n",
      "Creating raw.info structure...\n",
      "22-08-16-21_29_44.C4368.L3805.450\n",
      "age: 92.0684462696783; sex: Female\n",
      "Extracting EDF parameters from /media/a663e-36z/Common/Data/ANNE-data-expanded/22-08-18-21_40_55.C4368.L3805.452-annotated.edf...\n",
      "EDF file detected\n",
      "Setting channel info structure...\n",
      "Creating raw.info structure...\n",
      "22-08-18-21_40_55.C4368.L3805.452\n",
      "age: 86.485968514716; sex: Male\n",
      "Extracting EDF parameters from /media/a663e-36z/Common/Data/ANNE-data-expanded/22-08-22-21_09_14.C4368.L3805.454-annotated.edf...\n",
      "EDF file detected\n",
      "Setting channel info structure...\n",
      "Creating raw.info structure...\n"
     ]
    },
    {
     "name": "stderr",
     "output_type": "stream",
     "text": [
      "/media/a663e-36z/Common/Projects/Sunnybrook/ANNE_dl/preprocessing/main.py:112: RuntimeWarning: Physical range is not defined in following channels:\n",
      "SpO2.events\n",
      "  data = mne.io.read_raw_edf(path)\n"
     ]
    },
    {
     "name": "stdout",
     "output_type": "stream",
     "text": [
      "22-08-22-21_09_14.C4368.L3805.454\n",
      "age: 48.2162902121834; sex: Male\n",
      "Extracting EDF parameters from /media/a663e-36z/Common/Data/ANNE-data-expanded/22-08-30-21_14_29.C4368.L3805.324-annotated.edf...\n",
      "EDF file detected\n",
      "Setting channel info structure...\n",
      "Creating raw.info structure...\n",
      "22-08-30-21_14_29.C4368.L3805.324\n",
      "age: 72.5667351129363; sex: Female\n",
      "Extracting EDF parameters from /media/a663e-36z/Common/Data/ANNE-data-expanded/22-09-01-22_06_31.C4368.L3805.458-annotated.edf...\n",
      "EDF file detected\n",
      "Setting channel info structure...\n",
      "Creating raw.info structure...\n"
     ]
    },
    {
     "name": "stderr",
     "output_type": "stream",
     "text": [
      "/media/a663e-36z/Common/Projects/Sunnybrook/ANNE_dl/preprocessing/main.py:112: RuntimeWarning: Physical range is not defined in following channels:\n",
      "PLM.events\n",
      "  data = mne.io.read_raw_edf(path)\n"
     ]
    },
    {
     "name": "stdout",
     "output_type": "stream",
     "text": [
      "22-09-01-22_06_31.C4368.L3805.458\n",
      "age: 80.4709103353867; sex: Undefined\n",
      "Extracting EDF parameters from /media/a663e-36z/Common/Data/ANNE-data-expanded/22-09-07-21_32_58.C4368.L3805.461-annotated.edf...\n",
      "EDF file detected\n",
      "Setting channel info structure...\n",
      "Creating raw.info structure...\n",
      "22-09-07-21_32_58.C4368.L3805.461\n",
      "age: 65.264887063655; sex: Male\n",
      "Extracting EDF parameters from /media/a663e-36z/Common/Data/ANNE-data-expanded/22-09-20-20_39_03.C4179.L3780.467-annotated.edf...\n",
      "EDF file detected\n",
      "Setting channel info structure...\n",
      "Creating raw.info structure...\n",
      "22-09-20-20_39_03.C4179.L3780.467\n",
      "age: 48.2108145106092; sex: Male\n",
      "Extracting EDF parameters from /media/a663e-36z/Common/Data/ANNE-data-expanded/22-10-03-21_24_18.C4337.L3766.475-annotated.edf...\n",
      "EDF file detected\n",
      "Setting channel info structure...\n",
      "Creating raw.info structure...\n"
     ]
    },
    {
     "name": "stderr",
     "output_type": "stream",
     "text": [
      "/media/a663e-36z/Common/Projects/Sunnybrook/ANNE_dl/preprocessing/main.py:112: RuntimeWarning: Physical range is not defined in following channels:\n",
      "PLM.events\n",
      "  data = mne.io.read_raw_edf(path)\n"
     ]
    },
    {
     "name": "stdout",
     "output_type": "stream",
     "text": [
      "22-10-03-21_24_18.C4337.L3766.475\n",
      "age: 81.3716632443532; sex: Male\n",
      "Extracting EDF parameters from /media/a663e-36z/Common/Data/ANNE-data-expanded/22-10-05-22_08_13.C4337.L3766.476-annotated.edf...\n",
      "EDF file detected\n",
      "Setting channel info structure...\n",
      "Creating raw.info structure...\n"
     ]
    },
    {
     "name": "stderr",
     "output_type": "stream",
     "text": [
      "/media/a663e-36z/Common/Projects/Sunnybrook/ANNE_dl/preprocessing/main.py:112: RuntimeWarning: Physical range is not defined in following channels:\n",
      "PLM.events\n",
      "  data = mne.io.read_raw_edf(path)\n"
     ]
    },
    {
     "name": "stdout",
     "output_type": "stream",
     "text": [
      "22-10-05-22_08_13.C4337.L3766.476\n",
      "age: 61.700205338809; sex: Female\n",
      "Extracting EDF parameters from /media/a663e-36z/Common/Data/ANNE-data-expanded/22-10-13-21_38_54.C4337.L3766.479-annotated.edf...\n",
      "EDF file detected\n",
      "Setting channel info structure...\n",
      "Creating raw.info structure...\n",
      "22-10-13-21_38_54.C4337.L3766.479\n",
      "age: 54.5325119780972; sex: Female\n",
      "Extracting EDF parameters from /media/a663e-36z/Common/Data/ANNE-data-expanded/22-10-17-21_44_54.C4337.L3766.481-annotated.edf...\n",
      "EDF file detected\n",
      "Setting channel info structure...\n",
      "Creating raw.info structure...\n",
      "22-10-17-21_44_54.C4337.L3766.481\n",
      "age: 82.0287474332649; sex: Female\n",
      "Extracting EDF parameters from /media/a663e-36z/Common/Data/ANNE-data-expanded/22-10-18-21_05_40.C4337.L3766.482-annotated.edf...\n",
      "EDF file detected\n",
      "Setting channel info structure...\n",
      "Creating raw.info structure...\n",
      "22-10-18-21_05_40.C4337.L3766.482\n",
      "age: 79.1895961670089; sex: Female\n",
      "Extracting EDF parameters from /media/a663e-36z/Common/Data/ANNE-data-expanded/22-10-19-21_55_39.C4337.L3766.483-annotated.edf...\n",
      "EDF file detected\n",
      "Setting channel info structure...\n",
      "Creating raw.info structure...\n",
      "22-10-19-21_55_39.C4337.L3766.483\n",
      "age: 59.0609171800137; sex: Male\n",
      "Extracting EDF parameters from /media/a663e-36z/Common/Data/ANNE-data-expanded/22-10-20-21_52_26.C4337.L3766.484-annotated.edf...\n",
      "EDF file detected\n",
      "Setting channel info structure...\n",
      "Creating raw.info structure...\n"
     ]
    },
    {
     "name": "stderr",
     "output_type": "stream",
     "text": [
      "/media/a663e-36z/Common/Projects/Sunnybrook/ANNE_dl/preprocessing/main.py:112: RuntimeWarning: Physical range is not defined in following channels:\n",
      "PLM.events\n",
      "  data = mne.io.read_raw_edf(path)\n"
     ]
    },
    {
     "name": "stdout",
     "output_type": "stream",
     "text": [
      "22-10-20-21_52_26.C4337.L3766.484\n",
      "age: 53.3442847364819; sex: Female\n",
      "Extracting EDF parameters from /media/a663e-36z/Common/Data/ANNE-data-expanded/22-10-24-21_48_53.C4337.L3766.486-annotated.edf...\n",
      "EDF file detected\n",
      "Setting channel info structure...\n",
      "Creating raw.info structure...\n",
      "22-10-24-21_48_53.C4337.L3766.486\n",
      "age: 72.1232032854209; sex: Male\n",
      "Extracting EDF parameters from /media/a663e-36z/Common/Data/ANNE-data-expanded/22-10-25-21_44_33.C4181.L3786.487-annotated.edf...\n",
      "EDF file detected\n",
      "Setting channel info structure...\n",
      "Creating raw.info structure...\n",
      "22-10-25-21_44_33.C4181.L3786.487\n",
      "age: 81.2292950034223; sex: Female\n",
      "Extracting EDF parameters from /media/a663e-36z/Common/Data/ANNE-data-expanded/22-10-27-22_14_02.C4337.L3766.489-annotated.edf...\n",
      "EDF file detected\n",
      "Setting channel info structure...\n",
      "Creating raw.info structure...\n",
      "22-10-27-22_14_02.C4337.L3766.489\n",
      "age: 71.0143737166324; sex: Female\n",
      "Extracting EDF parameters from /media/a663e-36z/Common/Data/ANNE-data-expanded/22-11-01-21_35_34.C4337.L3766.492-annotated.edf...\n",
      "EDF file detected\n",
      "Setting channel info structure...\n",
      "Creating raw.info structure...\n",
      "22-11-01-21_35_34.C4337.L3766.492\n",
      "age: 64.580424366872; sex: Female\n",
      "Extracting EDF parameters from /media/a663e-36z/Common/Data/ANNE-data-expanded/22-11-02-21_31_34.C4337.L3766.493-annotated.edf...\n",
      "EDF file detected\n",
      "Setting channel info structure...\n",
      "Creating raw.info structure...\n"
     ]
    },
    {
     "name": "stderr",
     "output_type": "stream",
     "text": [
      "/media/a663e-36z/Common/Projects/Sunnybrook/ANNE_dl/preprocessing/main.py:112: RuntimeWarning: Physical range is not defined in following channels:\n",
      "PLM.events\n",
      "  data = mne.io.read_raw_edf(path)\n"
     ]
    },
    {
     "name": "stdout",
     "output_type": "stream",
     "text": [
      "22-11-02-21_31_34.C4337.L3766.493\n",
      "age: 46.1218343600274; sex: Female\n",
      "Extracting EDF parameters from /media/a663e-36z/Common/Data/ANNE-data-expanded/22-11-03-21_44_41.C4337.L3766.494-annotated.edf...\n",
      "EDF file detected\n",
      "Setting channel info structure...\n",
      "Creating raw.info structure...\n",
      "22-11-03-21_44_41.C4337.L3766.494\n",
      "age: 68.1259411362081; sex: Female\n",
      "Extracting EDF parameters from /media/a663e-36z/Common/Data/ANNE-data-expanded/22-11-10-21_43_33.C4337.L3766.500-annotated.edf...\n",
      "EDF file detected\n",
      "Setting channel info structure...\n",
      "Creating raw.info structure...\n",
      "22-11-10-21_43_33.C4337.L3766.500\n",
      "age: 36.186173853525; sex: Male\n",
      "Extracting EDF parameters from /media/a663e-36z/Common/Data/ANNE-data-expanded/22-11-14-21_33_25.C4337.L3766.502-annotated.edf...\n",
      "EDF file detected\n",
      "Setting channel info structure...\n",
      "Creating raw.info structure...\n",
      "22-11-14-21_33_25.C4337.L3766.502\n",
      "age: 66.0479123887748; sex: Male\n",
      "Extracting EDF parameters from /media/a663e-36z/Common/Data/ANNE-data-expanded/22-11-16-21_43_29.C4337.L3766.503-annotated.edf...\n",
      "EDF file detected\n",
      "Setting channel info structure...\n",
      "Creating raw.info structure...\n",
      "22-11-16-21_43_29.C4337.L3766.503\n",
      "age: 19.6495550992471; sex: Female\n",
      "Extracting EDF parameters from /media/a663e-36z/Common/Data/ANNE-data-expanded/22-11-30-22_35_10.C4359.L3766.512-annotated.edf...\n",
      "EDF file detected\n",
      "Setting channel info structure...\n",
      "Creating raw.info structure...\n",
      "22-11-30-22_35_10.C4359.L3766.512\n",
      "age: 65.388090349076; sex: Male\n",
      "Extracting EDF parameters from /media/a663e-36z/Common/Data/ANNE-data-expanded/22-12-01-22_11_15.C4181.L3786.513-annotated.edf...\n",
      "EDF file detected\n",
      "Setting channel info structure...\n",
      "Creating raw.info structure...\n",
      "22-12-01-22_11_15.C4181.L3786.513\n",
      "age: 47.2689938398357; sex: Male\n",
      "Extracting EDF parameters from /media/a663e-36z/Common/Data/ANNE-data-expanded/22-12-07-22_29_59.C4359.L3786.515-annotated.edf...\n",
      "EDF file detected\n",
      "Setting channel info structure...\n",
      "Creating raw.info structure...\n",
      "22-12-07-22_29_59.C4359.L3786.515\n",
      "age: nan; sex: nan\n",
      "Extracting EDF parameters from /media/a663e-36z/Common/Data/ANNE-data-expanded/22-12-08-21_33_04.C4359.L3786.516-annotated.edf...\n",
      "EDF file detected\n",
      "Setting channel info structure...\n",
      "Creating raw.info structure...\n"
     ]
    },
    {
     "name": "stderr",
     "output_type": "stream",
     "text": [
      "/media/a663e-36z/Common/Projects/Sunnybrook/ANNE_dl/preprocessing/main.py:112: RuntimeWarning: Physical range is not defined in following channels:\n",
      "PLM.events\n",
      "  data = mne.io.read_raw_edf(path)\n"
     ]
    },
    {
     "name": "stdout",
     "output_type": "stream",
     "text": [
      "22-12-08-21_33_04.C4359.L3786.516\n",
      "age: 31.8494182067077; sex: Female\n",
      "Extracting EDF parameters from /media/a663e-36z/Common/Data/ANNE-data-expanded/22-12-12-21_11_58.C4359.L3766.518-annotated.edf...\n",
      "EDF file detected\n",
      "Setting channel info structure...\n",
      "Creating raw.info structure...\n",
      "22-12-12-21_11_58.C4359.L3766.518\n",
      "age: 34.92128678987; sex: Female\n",
      "Extracting EDF parameters from /media/a663e-36z/Common/Data/ANNE-data-expanded/22-12-13-21_43_42.C4359.L3766.519-annotated.edf...\n",
      "EDF file detected\n",
      "Setting channel info structure...\n",
      "Creating raw.info structure...\n"
     ]
    },
    {
     "name": "stderr",
     "output_type": "stream",
     "text": [
      "/media/a663e-36z/Common/Projects/Sunnybrook/ANNE_dl/preprocessing/main.py:112: RuntimeWarning: Physical range is not defined in following channels:\n",
      "SpO2.events\n",
      "  data = mne.io.read_raw_edf(path)\n"
     ]
    },
    {
     "name": "stdout",
     "output_type": "stream",
     "text": [
      "22-12-13-21_43_42.C4359.L3766.519\n",
      "age: 67.1321013004791; sex: Female\n",
      "Extracting EDF parameters from /media/a663e-36z/Common/Data/ANNE-data-expanded/22-12-15-21_13_09.C4181.L3786.521-annotated.edf...\n",
      "EDF file detected\n",
      "Setting channel info structure...\n",
      "Creating raw.info structure...\n",
      "22-12-15-21_13_09.C4181.L3786.521\n",
      "age: 51.8932238193018; sex: Male\n",
      "Extracting EDF parameters from /media/a663e-36z/Common/Data/ANNE-data-expanded/22-12-20-21_40_54.C4181.L3786.522-annotated.edf...\n",
      "EDF file detected\n",
      "Setting channel info structure...\n",
      "Creating raw.info structure...\n"
     ]
    },
    {
     "name": "stderr",
     "output_type": "stream",
     "text": [
      "/media/a663e-36z/Common/Projects/Sunnybrook/ANNE_dl/preprocessing/main.py:112: RuntimeWarning: Physical range is not defined in following channels:\n",
      "PLM.events\n",
      "  data = mne.io.read_raw_edf(path)\n"
     ]
    },
    {
     "name": "stdout",
     "output_type": "stream",
     "text": [
      "22-12-20-21_40_54.C4181.L3786.522\n",
      "age: 26.031485284052; sex: Female\n",
      "Extracting EDF parameters from /media/a663e-36z/Common/Data/ANNE-data-expanded/22-12-21-21_08_38.C4181.L3786.523-annotated.edf...\n",
      "EDF file detected\n",
      "Setting channel info structure...\n",
      "Creating raw.info structure...\n"
     ]
    },
    {
     "name": "stderr",
     "output_type": "stream",
     "text": [
      "/media/a663e-36z/Common/Projects/Sunnybrook/ANNE_dl/preprocessing/main.py:112: RuntimeWarning: Physical range is not defined in following channels:\n",
      "PLM.events\n",
      "  data = mne.io.read_raw_edf(path)\n"
     ]
    },
    {
     "name": "stdout",
     "output_type": "stream",
     "text": [
      "22-12-21-21_08_38.C4181.L3786.523\n",
      "age: 70.8501026694045; sex: Male\n",
      "Extracting EDF parameters from /media/a663e-36z/Common/Data/ANNE-data-expanded/23-02-15-21_15_11.C4359.L3766.550-annotated.edf...\n",
      "EDF file detected\n",
      "Setting channel info structure...\n",
      "Creating raw.info structure...\n"
     ]
    },
    {
     "name": "stderr",
     "output_type": "stream",
     "text": [
      "/media/a663e-36z/Common/Projects/Sunnybrook/ANNE_dl/preprocessing/main.py:112: RuntimeWarning: Physical range is not defined in following channels:\n",
      "PLM.events\n",
      "  data = mne.io.read_raw_edf(path)\n"
     ]
    },
    {
     "name": "stdout",
     "output_type": "stream",
     "text": [
      "23-02-15-21_15_11.C4359.L3766.550\n",
      "age: 42.4804928131417; sex: Male\n",
      "Extracting EDF parameters from /media/a663e-36z/Common/Data/ANNE-data-expanded/23-02-22-22_02_14.C4359.L3786.553-annotated.edf...\n",
      "EDF file detected\n",
      "Setting channel info structure...\n",
      "Creating raw.info structure...\n",
      "23-02-22-22_02_14.C4359.L3786.553\n",
      "age: 59.0198494182067; sex: Male\n",
      "Extracting EDF parameters from /media/a663e-36z/Common/Data/ANNE-data-expanded/23-02-23-21_17_37.C4359.L3786.554-annotated.edf...\n",
      "EDF file detected\n",
      "Setting channel info structure...\n",
      "Creating raw.info structure...\n"
     ]
    },
    {
     "name": "stderr",
     "output_type": "stream",
     "text": [
      "/media/a663e-36z/Common/Projects/Sunnybrook/ANNE_dl/preprocessing/main.py:112: RuntimeWarning: Physical range is not defined in following channels:\n",
      "PLM.events\n",
      "  data = mne.io.read_raw_edf(path)\n"
     ]
    },
    {
     "name": "stdout",
     "output_type": "stream",
     "text": [
      "23-02-23-21_17_37.C4359.L3786.554\n",
      "age: 42.1902806297057; sex: Female\n",
      "Extracting EDF parameters from /media/a663e-36z/Common/Data/ANNE-data-expanded/22-08-24-21_37_23.C4368.L3805.456-annotated.edf...\n",
      "EDF file detected\n",
      "Setting channel info structure...\n",
      "Creating raw.info structure...\n"
     ]
    },
    {
     "name": "stderr",
     "output_type": "stream",
     "text": [
      "/media/a663e-36z/Common/Projects/Sunnybrook/ANNE_dl/preprocessing/main.py:112: RuntimeWarning: Physical range is not defined in following channels:\n",
      "PLM.events, SpO2.events\n",
      "  data = mne.io.read_raw_edf(path)\n"
     ]
    },
    {
     "name": "stdout",
     "output_type": "stream",
     "text": [
      "22-08-24-21_37_23.C4368.L3805.456\n",
      "age: 39.9233401779603; sex: Male\n",
      "Extracting EDF parameters from /media/a663e-36z/Common/Data/ANNE-data-expanded/22-09-13-21_49_20.C4368.L3805.462-annotated.edf...\n",
      "EDF file detected\n",
      "Setting channel info structure...\n",
      "Creating raw.info structure...\n"
     ]
    },
    {
     "name": "stderr",
     "output_type": "stream",
     "text": [
      "/media/a663e-36z/Common/Projects/Sunnybrook/ANNE_dl/preprocessing/main.py:112: RuntimeWarning: Physical range is not defined in following channels:\n",
      "PLM.events\n",
      "  data = mne.io.read_raw_edf(path)\n"
     ]
    },
    {
     "name": "stdout",
     "output_type": "stream",
     "text": [
      "22-09-13-21_49_20.C4368.L3805.462\n",
      "age: 57.6454483230664; sex: Male\n",
      "Extracting EDF parameters from /media/a663e-36z/Common/Data/ANNE-data-expanded/23-02-27-21_31_05.C4359.L3786.556-annotated.edf...\n",
      "EDF file detected\n",
      "Setting channel info structure...\n",
      "Creating raw.info structure...\n"
     ]
    },
    {
     "name": "stderr",
     "output_type": "stream",
     "text": [
      "/media/a663e-36z/Common/Projects/Sunnybrook/ANNE_dl/preprocessing/main.py:112: RuntimeWarning: Physical range is not defined in following channels:\n",
      "PLM.events, SpO2.events\n",
      "  data = mne.io.read_raw_edf(path)\n"
     ]
    },
    {
     "name": "stdout",
     "output_type": "stream",
     "text": [
      "23-02-27-21_31_05.C4359.L3786.556\n",
      "age: 28.186173853525; sex: Male\n",
      "Extracting EDF parameters from /media/a663e-36z/Common/Data/ANNE-data-expanded/23-03-06-20_53_14.C4359.L3786.559-annotated.edf...\n",
      "EDF file detected\n",
      "Setting channel info structure...\n",
      "Creating raw.info structure...\n",
      "23-03-06-20_53_14.C4359.L3786.559\n",
      "age: 67.8877481177276; sex: Male\n",
      "Extracting EDF parameters from /media/a663e-36z/Common/Data/ANNE-data-expanded/23-03-07-21_46_15.C4181.L3766.560-annotated.edf...\n",
      "EDF file detected\n",
      "Setting channel info structure...\n",
      "Creating raw.info structure...\n"
     ]
    },
    {
     "name": "stderr",
     "output_type": "stream",
     "text": [
      "/media/a663e-36z/Common/Projects/Sunnybrook/ANNE_dl/preprocessing/main.py:112: RuntimeWarning: Physical range is not defined in following channels:\n",
      "PLM.events\n",
      "  data = mne.io.read_raw_edf(path)\n"
     ]
    },
    {
     "name": "stdout",
     "output_type": "stream",
     "text": [
      "23-03-07-21_46_15.C4181.L3766.560\n",
      "age: 64.2518822724162; sex: Female\n",
      "Extracting EDF parameters from /media/a663e-36z/Common/Data/ANNE-data-expanded/23-03-08-21_32_13.C4181.L3766.561-annotated.edf...\n",
      "EDF file detected\n",
      "Setting channel info structure...\n",
      "Creating raw.info structure...\n",
      "23-03-08-21_32_13.C4181.L3766.561\n",
      "age: 69.1772758384668; sex: Female\n",
      "Extracting EDF parameters from /media/a663e-36z/Common/Data/ANNE-data-expanded/23-03-09-21_34_36.C4181.L3766.562-annotated.edf...\n",
      "EDF file detected\n",
      "Setting channel info structure...\n",
      "Creating raw.info structure...\n",
      "23-03-09-21_34_36.C4181.L3766.562\n",
      "age: 65.5030800821355; sex: Male\n",
      "Extracting EDF parameters from /media/a663e-36z/Common/Data/ANNE-data-expanded/23-03-13-22_04_12.C4359.L3786.564-annotated.edf...\n",
      "EDF file detected\n",
      "Setting channel info structure...\n",
      "Creating raw.info structure...\n",
      "23-03-13-22_04_12.C4359.L3786.564\n",
      "age: 72.5968514715948; sex: Female\n",
      "Extracting EDF parameters from /media/a663e-36z/Common/Data/ANNE-data-expanded/23-03-14-20_49_29.C4359.L3786.565-annotated.edf...\n",
      "EDF file detected\n",
      "Setting channel info structure...\n",
      "Creating raw.info structure...\n",
      "23-03-14-20_49_29.C4359.L3786.565\n",
      "age: 67.7782340862423; sex: Female\n",
      "Extracting EDF parameters from /media/a663e-36z/Common/Data/ANNE-data-expanded/23-03-21-21_06_20.C4359.L3786.569-annotated.edf...\n",
      "EDF file detected\n",
      "Setting channel info structure...\n",
      "Creating raw.info structure...\n",
      "23-03-21-21_06_20.C4359.L3786.569\n",
      "age: 64.0547570157426; sex: Male\n",
      "Extracting EDF parameters from /media/a663e-36z/Common/Data/ANNE-data-expanded/23-03-22-21_41_47.C4359.L3786.570-annotated.edf...\n",
      "EDF file detected\n",
      "Setting channel info structure...\n",
      "Creating raw.info structure...\n",
      "23-03-22-21_41_47.C4359.L3786.570\n",
      "age: 63.6495550992471; sex: Male\n",
      "Extracting EDF parameters from /media/a663e-36z/Common/Data/ANNE-data-expanded/23-03-27-21_10_19.C4359.L3786.572-annotated.edf...\n",
      "EDF file detected\n",
      "Setting channel info structure...\n",
      "Creating raw.info structure...\n",
      "23-03-27-21_10_19.C4359.L3786.572\n",
      "age: 59.1238877481177; sex: Male\n",
      "Extracting EDF parameters from /media/a663e-36z/Common/Data/ANNE-data-expanded/23-04-03-20_33_43.C4359.L3786.574-annotated.edf...\n",
      "EDF file detected\n",
      "Setting channel info structure...\n",
      "Creating raw.info structure...\n"
     ]
    },
    {
     "name": "stderr",
     "output_type": "stream",
     "text": [
      "/media/a663e-36z/Common/Projects/Sunnybrook/ANNE_dl/preprocessing/main.py:112: RuntimeWarning: Physical range is not defined in following channels:\n",
      "PLM.events, SpO2.events\n",
      "  data = mne.io.read_raw_edf(path)\n"
     ]
    },
    {
     "name": "stdout",
     "output_type": "stream",
     "text": [
      "23-04-03-20_33_43.C4359.L3786.574\n",
      "age: 54.1437371663244; sex: Male\n",
      "Extracting EDF parameters from /media/a663e-36z/Common/Data/ANNE-data-expanded/23-04-05-21_10_25.C4359.L3786.575-annotated.edf...\n",
      "EDF file detected\n",
      "Setting channel info structure...\n",
      "Creating raw.info structure...\n",
      "23-04-05-21_10_25.C4359.L3786.575\n",
      "age: 69.9876796714579; sex: Female\n",
      "Extracting EDF parameters from /media/a663e-36z/Common/Data/ANNE-data-expanded/23-04-10-21_38_42.C4359.L3786.576-annotated.edf...\n",
      "EDF file detected\n",
      "Setting channel info structure...\n",
      "Creating raw.info structure...\n",
      "23-04-10-21_38_42.C4359.L3786.576\n",
      "age: 75.3073237508556; sex: Female\n",
      "Extracting EDF parameters from /media/a663e-36z/Common/Data/ANNE-data-expanded/23-04-12-21_47_09.C4181.L3766.577-annotated.edf...\n",
      "EDF file detected\n",
      "Setting channel info structure...\n",
      "Creating raw.info structure...\n",
      "23-04-12-21_47_09.C4181.L3766.577\n",
      "age: 77.6399726214921; sex: Female\n",
      "Extracting EDF parameters from /media/a663e-36z/Common/Data/ANNE-data-expanded/23-04-17-20_24_51.C4181.L3766.578-annotated.edf...\n",
      "EDF file detected\n",
      "Setting channel info structure...\n",
      "Creating raw.info structure...\n"
     ]
    },
    {
     "name": "stderr",
     "output_type": "stream",
     "text": [
      "/media/a663e-36z/Common/Projects/Sunnybrook/ANNE_dl/preprocessing/main.py:112: RuntimeWarning: Physical range is not defined in following channels:\n",
      "SpO2.events\n",
      "  data = mne.io.read_raw_edf(path)\n"
     ]
    },
    {
     "name": "stdout",
     "output_type": "stream",
     "text": [
      "23-04-17-20_24_51.C4181.L3766.578\n",
      "age: 29.927446954141; sex: Male\n",
      "Extracting EDF parameters from /media/a663e-36z/Common/Data/ANNE-data-expanded/23-04-20-21_40_29.C4359.L3786.580-annotated.edf...\n",
      "EDF file detected\n",
      "Setting channel info structure...\n",
      "Creating raw.info structure...\n",
      "23-04-20-21_40_29.C4359.L3786.580\n",
      "age: 62.7679671457906; sex: Female\n",
      "Extracting EDF parameters from /media/a663e-36z/Common/Data/ANNE-data-expanded/23-04-24-20_54_48.C4181.L3766.582-annotated.edf...\n",
      "EDF file detected\n",
      "Setting channel info structure...\n",
      "Creating raw.info structure...\n",
      "23-04-24-20_54_48.C4181.L3766.582\n",
      "age: 43.2826830937714; sex: Male\n",
      "Extracting EDF parameters from /media/a663e-36z/Common/Data/ANNE-data-expanded/23-04-25-21_16_45.C4359.L3786.583-annotated.edf...\n",
      "EDF file detected\n",
      "Setting channel info structure...\n",
      "Creating raw.info structure...\n",
      "23-04-25-21_16_45.C4359.L3786.583\n",
      "age: 60.870636550308; sex: Male\n",
      "Extracting EDF parameters from /media/a663e-36z/Common/Data/ANNE-data-expanded/23-04-26-20_42_46.C4181.L3766.584-annotated.edf...\n",
      "EDF file detected\n",
      "Setting channel info structure...\n",
      "Creating raw.info structure...\n",
      "23-04-26-20_42_46.C4181.L3766.584\n",
      "age: 61.5441478439425; sex: Male\n",
      "Extracting EDF parameters from /media/a663e-36z/Common/Data/ANNE-data-expanded/23-04-27-22_02_45.C4359.L3786.585-annotated.edf...\n",
      "EDF file detected\n",
      "Setting channel info structure...\n",
      "Creating raw.info structure...\n",
      "23-04-27-22_02_45.C4359.L3786.585\n",
      "age: 46.9650924024641; sex: Female\n",
      "Extracting EDF parameters from /media/a663e-36z/Common/Data/ANNE-data-expanded/23-05-03-21_30_10.C4359.L3786.589-annotated.edf...\n",
      "EDF file detected\n",
      "Setting channel info structure...\n",
      "Creating raw.info structure...\n"
     ]
    },
    {
     "name": "stderr",
     "output_type": "stream",
     "text": [
      "/media/a663e-36z/Common/Projects/Sunnybrook/ANNE_dl/preprocessing/main.py:112: RuntimeWarning: Physical range is not defined in following channels:\n",
      "PLM.events\n",
      "  data = mne.io.read_raw_edf(path)\n"
     ]
    },
    {
     "name": "stdout",
     "output_type": "stream",
     "text": [
      "23-05-03-21_30_10.C4359.L3786.589\n",
      "age: 73.4729637234771; sex: Male\n",
      "Extracting EDF parameters from /media/a663e-36z/Common/Data/ANNE-data-expanded/23-05-08-21_02_28.C4181.L3766.592-annotated.edf...\n",
      "EDF file detected\n",
      "Setting channel info structure...\n",
      "Creating raw.info structure...\n",
      "23-05-08-21_02_28.C4181.L3766.592\n",
      "age: 62.8939082819986; sex: Female\n",
      "Extracting EDF parameters from /media/a663e-36z/Common/Data/ANNE-data-expanded/23-05-11-21_36_42.C4340.L3766.595-annotated.edf...\n",
      "EDF file detected\n",
      "Setting channel info structure...\n",
      "Creating raw.info structure...\n"
     ]
    },
    {
     "name": "stderr",
     "output_type": "stream",
     "text": [
      "/media/a663e-36z/Common/Projects/Sunnybrook/ANNE_dl/preprocessing/main.py:112: RuntimeWarning: Physical range is not defined in following channels:\n",
      "PLM.events\n",
      "  data = mne.io.read_raw_edf(path)\n"
     ]
    },
    {
     "name": "stdout",
     "output_type": "stream",
     "text": [
      "23-05-11-21_36_42.C4340.L3766.595\n",
      "age: 21.6153319644079; sex: Female\n",
      "Extracting EDF parameters from /media/a663e-36z/Common/Data/ANNE-data-expanded/23-05-15-20_32_11.C4340.L3766.597-annotated.edf...\n",
      "EDF file detected\n",
      "Setting channel info structure...\n",
      "Creating raw.info structure...\n",
      "23-05-15-20_32_11.C4340.L3766.597\n",
      "age: 59.3839835728953; sex: Male\n",
      "Extracting EDF parameters from /media/a663e-36z/Common/Data/ANNE-data-expanded/23-05-17-20_45_47.C4181.L3786.599-annotated.edf...\n",
      "EDF file detected\n",
      "Setting channel info structure...\n",
      "Creating raw.info structure...\n",
      "23-05-17-20_45_47.C4181.L3786.599\n",
      "age: 82.1984941820671; sex: Male\n",
      "Extracting EDF parameters from /media/a663e-36z/Common/Data/ANNE-data-expanded/23-05-29-20_34_17.C4181.L3766.606-annotated.edf...\n",
      "EDF file detected\n",
      "Setting channel info structure...\n",
      "Creating raw.info structure...\n"
     ]
    },
    {
     "name": "stderr",
     "output_type": "stream",
     "text": [
      "/media/a663e-36z/Common/Projects/Sunnybrook/ANNE_dl/preprocessing/main.py:112: RuntimeWarning: Physical range is not defined in following channels:\n",
      "PLM.events\n",
      "  data = mne.io.read_raw_edf(path)\n"
     ]
    },
    {
     "name": "stdout",
     "output_type": "stream",
     "text": [
      "23-05-29-20_34_17.C4181.L3766.606\n",
      "age: 68.4873374401095; sex: Female\n",
      "Extracting EDF parameters from /media/a663e-36z/Common/Data/ANNE-data-expanded/23-06-06-20_41_51.C4181.L3766.611-annotated.edf...\n",
      "EDF file detected\n",
      "Setting channel info structure...\n",
      "Creating raw.info structure...\n",
      "23-06-06-20_41_51.C4181.L3766.611\n",
      "age: 61.0376454483231; sex: Male\n",
      "Extracting EDF parameters from /media/a663e-36z/Common/Data/ANNE-data-expanded/23-06-07-21_10_20.C4181.L3766.612-annotated.edf...\n",
      "EDF file detected\n",
      "Setting channel info structure...\n",
      "Creating raw.info structure...\n"
     ]
    },
    {
     "name": "stderr",
     "output_type": "stream",
     "text": [
      "/media/a663e-36z/Common/Projects/Sunnybrook/ANNE_dl/preprocessing/main.py:112: RuntimeWarning: Physical range is not defined in following channels:\n",
      "SpO2.events\n",
      "  data = mne.io.read_raw_edf(path)\n"
     ]
    },
    {
     "name": "stdout",
     "output_type": "stream",
     "text": [
      "23-06-07-21_10_20.C4181.L3766.612\n",
      "age: 32.8843258042437; sex: Female\n",
      "Extracting EDF parameters from /media/a663e-36z/Common/Data/ANNE-data-expanded/23-06-20-21_18_51.C4384.L4041.618-annotated.edf...\n",
      "EDF file detected\n",
      "Setting channel info structure...\n",
      "Creating raw.info structure...\n",
      "23-06-20-21_18_51.C4384.L4041.618\n",
      "age: 68.7145790554415; sex: Male\n",
      "Extracting EDF parameters from /media/a663e-36z/Common/Data/ANNE-data-expanded/23-06-26-20_36_54.C4181.L3766.621-annotated.edf...\n",
      "EDF file detected\n",
      "Setting channel info structure...\n",
      "Creating raw.info structure...\n"
     ]
    },
    {
     "name": "stderr",
     "output_type": "stream",
     "text": [
      "/media/a663e-36z/Common/Projects/Sunnybrook/ANNE_dl/preprocessing/main.py:112: RuntimeWarning: Physical range is not defined in following channels:\n",
      "PLM.events, SpO2.events\n",
      "  data = mne.io.read_raw_edf(path)\n"
     ]
    },
    {
     "name": "stdout",
     "output_type": "stream",
     "text": [
      "23-06-26-20_36_54.C4181.L3766.621\n",
      "age: nan; sex: nan\n",
      "Extracting EDF parameters from /media/a663e-36z/Common/Data/ANNE-data-expanded/23-06-29-21_08_27.C4181.L3766.623-annotated.edf...\n",
      "EDF file detected\n",
      "Setting channel info structure...\n",
      "Creating raw.info structure...\n"
     ]
    },
    {
     "name": "stderr",
     "output_type": "stream",
     "text": [
      "/media/a663e-36z/Common/Projects/Sunnybrook/ANNE_dl/preprocessing/main.py:112: RuntimeWarning: Physical range is not defined in following channels:\n",
      "PLM.events\n",
      "  data = mne.io.read_raw_edf(path)\n"
     ]
    },
    {
     "name": "stdout",
     "output_type": "stream",
     "text": [
      "23-06-29-21_08_27.C4181.L3766.623\n",
      "age: 36.2409308692676; sex: Male\n",
      "Extracting EDF parameters from /media/a663e-36z/Common/Data/ANNE-data-expanded/23-07-05-21_06_58.C4384.L4041.625-annotated.edf...\n",
      "EDF file detected\n",
      "Setting channel info structure...\n",
      "Creating raw.info structure...\n"
     ]
    },
    {
     "name": "stderr",
     "output_type": "stream",
     "text": [
      "/media/a663e-36z/Common/Projects/Sunnybrook/ANNE_dl/preprocessing/main.py:112: RuntimeWarning: Physical range is not defined in following channels:\n",
      "resp.events\n",
      "  data = mne.io.read_raw_edf(path)\n"
     ]
    },
    {
     "name": "stdout",
     "output_type": "stream",
     "text": [
      "23-07-05-21_06_58.C4384.L4041.625\n",
      "age: 75.5318275154004; sex: Male\n",
      "Extracting EDF parameters from /media/a663e-36z/Common/Data/ANNE-data-expanded/23-07-06-21_13_41.C4181.L3766.624-annotated.edf...\n",
      "EDF file detected\n",
      "Setting channel info structure...\n",
      "Creating raw.info structure...\n",
      "23-07-06-21_13_41.C4181.L3766.624\n",
      "age: 66.6447638603696; sex: Female\n",
      "Extracting EDF parameters from /media/a663e-36z/Common/Data/ANNE-data-expanded/23-07-17-20_38_17.C4384.L4041.632-annotated.edf...\n",
      "EDF file detected\n",
      "Setting channel info structure...\n",
      "Creating raw.info structure...\n"
     ]
    },
    {
     "name": "stderr",
     "output_type": "stream",
     "text": [
      "/media/a663e-36z/Common/Projects/Sunnybrook/ANNE_dl/preprocessing/main.py:112: RuntimeWarning: Physical range is not defined in following channels:\n",
      "PLM.events\n",
      "  data = mne.io.read_raw_edf(path)\n"
     ]
    },
    {
     "name": "stdout",
     "output_type": "stream",
     "text": [
      "23-07-17-20_38_17.C4384.L4041.632\n",
      "age: 88.2655715263518; sex: Male\n",
      "Extracting EDF parameters from /media/a663e-36z/Common/Data/ANNE-data-expanded/23-07-27-21_24_27.C4408.L4087.640-annotated.edf...\n",
      "EDF file detected\n",
      "Setting channel info structure...\n",
      "Creating raw.info structure...\n",
      "23-07-27-21_24_27.C4408.L4087.640\n",
      "age: nan; sex: nan\n",
      "Extracting EDF parameters from /media/a663e-36z/Common/Data/ANNE-data-expanded/23-08-01-20_54_29.C4408.L4087.643-annotated.edf...\n",
      "EDF file detected\n",
      "Setting channel info structure...\n",
      "Creating raw.info structure...\n",
      "23-08-01-20_54_29.C4408.L4087.643\n",
      "age: 47.2936344969199; sex: Male\n",
      "Extracting EDF parameters from /media/a663e-36z/Common/Data/ANNE-data-expanded/23-08-03-22_23_43.C4408.L4087.644-annotated.edf...\n",
      "EDF file detected\n",
      "Setting channel info structure...\n",
      "Creating raw.info structure...\n",
      "23-08-03-22_23_43.C4408.L4087.644\n",
      "age: 41.1471594798084; sex: Male\n",
      "Extracting EDF parameters from /media/a663e-36z/Common/Data/ANNE-data-expanded/23-05-10-21_27_11.C4181.L3766.594-annotated.edf...\n",
      "EDF file detected\n",
      "Setting channel info structure...\n",
      "Creating raw.info structure...\n"
     ]
    },
    {
     "name": "stderr",
     "output_type": "stream",
     "text": [
      "/media/a663e-36z/Common/Projects/Sunnybrook/ANNE_dl/preprocessing/main.py:112: RuntimeWarning: Physical range is not defined in following channels:\n",
      "PLM.events\n",
      "  data = mne.io.read_raw_edf(path)\n"
     ]
    },
    {
     "name": "stdout",
     "output_type": "stream",
     "text": [
      "23-05-10-21_27_11.C4181.L3766.594\n",
      "age: 48.9500342231348; sex: Male\n",
      "Extracting EDF parameters from /media/a663e-36z/Common/Data/ANNE-data-expanded/23-05-25-21_40_12.C4181.L3766.604-annotated.edf...\n",
      "EDF file detected\n",
      "Setting channel info structure...\n",
      "Creating raw.info structure...\n",
      "23-05-25-21_40_12.C4181.L3766.604\n",
      "age: 75.2799452429843; sex: Female\n",
      "Extracting EDF parameters from /media/a663e-36z/Common/Data/ANNE-data-expanded/23-06-13-20_52_17.C4181.L3766.615-annotated.edf...\n",
      "EDF file detected\n",
      "Setting channel info structure...\n",
      "Creating raw.info structure...\n"
     ]
    },
    {
     "name": "stderr",
     "output_type": "stream",
     "text": [
      "/media/a663e-36z/Common/Projects/Sunnybrook/ANNE_dl/preprocessing/main.py:112: RuntimeWarning: Physical range is not defined in following channels:\n",
      "PLM.events\n",
      "  data = mne.io.read_raw_edf(path)\n"
     ]
    },
    {
     "name": "stdout",
     "output_type": "stream",
     "text": [
      "23-06-13-20_52_17.C4181.L3766.615\n",
      "age: 47.5592060232717; sex: Male\n",
      "Extracting EDF parameters from /media/a663e-36z/Common/Data/ANNE-data-expanded/23-07-04-20_48_04.C4181.L3766.624-annotated.edf...\n",
      "EDF file detected\n",
      "Setting channel info structure...\n",
      "Creating raw.info structure...\n",
      "23-07-04-20_48_04.C4181.L3766.624\n",
      "age: 70.3600273785079; sex: Male\n",
      "Extracting EDF parameters from /media/a663e-36z/Common/Data/ANNE-data-expanded/23-07-19-21_34_20.C4384.L4041.634-annotated.edf...\n",
      "EDF file detected\n",
      "Setting channel info structure...\n",
      "Creating raw.info structure...\n"
     ]
    },
    {
     "name": "stderr",
     "output_type": "stream",
     "text": [
      "/media/a663e-36z/Common/Projects/Sunnybrook/ANNE_dl/preprocessing/main.py:112: RuntimeWarning: Physical range is not defined in following channels:\n",
      "SpO2.events\n",
      "  data = mne.io.read_raw_edf(path)\n"
     ]
    },
    {
     "name": "stdout",
     "output_type": "stream",
     "text": [
      "23-07-19-21_34_20.C4384.L4041.634\n",
      "age: 77.9110198494182; sex: Female\n",
      "Extracting EDF parameters from /media/a663e-36z/Common/Data/ANNE-data-expanded/23-08-10-21_29_02.C4413.L4038.648-annotated.edf...\n",
      "EDF file detected\n",
      "Setting channel info structure...\n",
      "Creating raw.info structure...\n",
      "23-08-10-21_29_02.C4413.L4038.648\n",
      "age: 55.7262149212868; sex: Male\n",
      "Extracting EDF parameters from /media/a663e-36z/Common/Data/ANNE-data-expanded/23-08-14-21_18_35.C4408.L4087.650-annotated.edf...\n",
      "EDF file detected\n",
      "Setting channel info structure...\n",
      "Creating raw.info structure...\n",
      "23-08-14-21_18_35.C4408.L4087.650\n",
      "age: nan; sex: nan\n",
      "Extracting EDF parameters from /media/a663e-36z/Common/Data/ANNE-data-expanded/23-08-15-21_45_59.C4408.L4087.651-annotated.edf...\n",
      "EDF file detected\n",
      "Setting channel info structure...\n",
      "Creating raw.info structure...\n",
      "23-08-15-21_45_59.C4408.L4087.651\n",
      "age: 28.0383299110199; sex: Female\n",
      "Extracting EDF parameters from /media/a663e-36z/Common/Data/ANNE-data-expanded/23-08-16-20_59_05.C4408.L4087.652-annotated.edf...\n",
      "EDF file detected\n",
      "Setting channel info structure...\n",
      "Creating raw.info structure...\n",
      "23-08-16-20_59_05.C4408.L4087.652\n",
      "age: 61.3524982888433; sex: Female\n",
      "Extracting EDF parameters from /media/a663e-36z/Common/Data/ANNE-data-expanded/23-08-23-21_00_19.C4408.L4087.656-annotated.edf...\n",
      "EDF file detected\n",
      "Setting channel info structure...\n",
      "Creating raw.info structure...\n",
      "23-08-23-21_00_19.C4408.L4087.656\n",
      "age: 75.854893908282; sex: Male\n",
      "Extracting EDF parameters from /media/a663e-36z/Common/Data/ANNE-data-expanded/23-09-12-19_38_05.C4408.L4087.666-annotated.edf...\n",
      "EDF file detected\n",
      "Setting channel info structure...\n",
      "Creating raw.info structure...\n"
     ]
    },
    {
     "name": "stderr",
     "output_type": "stream",
     "text": [
      "/media/a663e-36z/Common/Projects/Sunnybrook/ANNE_dl/preprocessing/main.py:112: RuntimeWarning: Physical range is not defined in following channels:\n",
      "PLM.events\n",
      "  data = mne.io.read_raw_edf(path)\n"
     ]
    },
    {
     "name": "stdout",
     "output_type": "stream",
     "text": [
      "23-09-12-19_38_05.C4408.L4087.666\n",
      "age: 58.3928815879535; sex: Male\n",
      "Extracting EDF parameters from /media/a663e-36z/Common/Data/ANNE-data-expanded/23-09-13-19_35_12.C4408.L4087.667-annotated.edf...\n",
      "EDF file detected\n",
      "Setting channel info structure...\n",
      "Creating raw.info structure...\n"
     ]
    },
    {
     "name": "stderr",
     "output_type": "stream",
     "text": [
      "/media/a663e-36z/Common/Projects/Sunnybrook/ANNE_dl/preprocessing/main.py:112: RuntimeWarning: Physical range is not defined in following channels:\n",
      "PLM.events\n",
      "  data = mne.io.read_raw_edf(path)\n"
     ]
    },
    {
     "name": "stdout",
     "output_type": "stream",
     "text": [
      "23-09-13-19_35_12.C4408.L4087.667\n",
      "age: 61.8288843258042; sex: Female\n",
      "Extracting EDF parameters from /media/a663e-36z/Common/Data/ANNE-data-expanded/23-09-19-19_28_43.C4390.L4089.669-annotated.edf...\n",
      "EDF file detected\n",
      "Setting channel info structure...\n",
      "Creating raw.info structure...\n"
     ]
    },
    {
     "name": "stderr",
     "output_type": "stream",
     "text": [
      "/media/a663e-36z/Common/Projects/Sunnybrook/ANNE_dl/preprocessing/main.py:112: RuntimeWarning: Physical range is not defined in following channels:\n",
      "PLM.events\n",
      "  data = mne.io.read_raw_edf(path)\n"
     ]
    },
    {
     "name": "stdout",
     "output_type": "stream",
     "text": [
      "23-09-19-19_28_43.C4390.L4089.669\n",
      "age: 80.2984257357974; sex: Female\n",
      "Extracting EDF parameters from /media/a663e-36z/Common/Data/ANNE-data-expanded/23-09-25-19_34_45.C4408.L4087.673-annotated.edf...\n",
      "EDF file detected\n",
      "Setting channel info structure...\n",
      "Creating raw.info structure...\n"
     ]
    },
    {
     "name": "stderr",
     "output_type": "stream",
     "text": [
      "/media/a663e-36z/Common/Projects/Sunnybrook/ANNE_dl/preprocessing/main.py:112: RuntimeWarning: Physical range is not defined in following channels:\n",
      "PLM.events\n",
      "  data = mne.io.read_raw_edf(path)\n"
     ]
    },
    {
     "name": "stdout",
     "output_type": "stream",
     "text": [
      "23-09-25-19_34_45.C4408.L4087.673\n",
      "age: 61.9137577002053; sex: Female\n",
      "Extracting EDF parameters from /media/a663e-36z/Common/Data/ANNE-data-expanded/23-09-26-19_33_55.C4408.L4087.674-annotated.edf...\n",
      "EDF file detected\n",
      "Setting channel info structure...\n",
      "Creating raw.info structure...\n"
     ]
    },
    {
     "name": "stderr",
     "output_type": "stream",
     "text": [
      "/media/a663e-36z/Common/Projects/Sunnybrook/ANNE_dl/preprocessing/main.py:112: RuntimeWarning: Physical range is not defined in following channels:\n",
      "PLM.events\n",
      "  data = mne.io.read_raw_edf(path)\n"
     ]
    },
    {
     "name": "stdout",
     "output_type": "stream",
     "text": [
      "23-09-26-19_33_55.C4408.L4087.674\n",
      "age: 66.0396988364134; sex: Female\n",
      "Extracting EDF parameters from /media/a663e-36z/Common/Data/ANNE-data-expanded/23-09-27-19_42_58.C4408.L4087.675-annotated.edf...\n",
      "EDF file detected\n",
      "Setting channel info structure...\n",
      "Creating raw.info structure...\n"
     ]
    },
    {
     "name": "stderr",
     "output_type": "stream",
     "text": [
      "/media/a663e-36z/Common/Projects/Sunnybrook/ANNE_dl/preprocessing/main.py:112: RuntimeWarning: Physical range is not defined in following channels:\n",
      "PLM.events\n",
      "  data = mne.io.read_raw_edf(path)\n"
     ]
    },
    {
     "name": "stdout",
     "output_type": "stream",
     "text": [
      "23-09-27-19_42_58.C4408.L4087.675\n",
      "age: 47.0718685831622; sex: Male\n",
      "Extracting EDF parameters from /media/a663e-36z/Common/Data/ANNE-data-expanded/23-09-28-19_35_07.C4298.L4033.676-annotated.edf...\n",
      "EDF file detected\n",
      "Setting channel info structure...\n",
      "Creating raw.info structure...\n"
     ]
    },
    {
     "name": "stderr",
     "output_type": "stream",
     "text": [
      "/media/a663e-36z/Common/Projects/Sunnybrook/ANNE_dl/preprocessing/main.py:112: RuntimeWarning: Physical range is not defined in following channels:\n",
      "PLM.events\n",
      "  data = mne.io.read_raw_edf(path)\n"
     ]
    },
    {
     "name": "stdout",
     "output_type": "stream",
     "text": [
      "23-09-28-19_35_07.C4298.L4033.676\n",
      "age: 28.9965776865161; sex: Male\n"
     ]
    }
   ],
   "source": [
    "# Check gpu availability\n",
    "device = torch.device(\"cuda:0\" if torch.cuda.is_available() else \"cpu\")\n",
    "\n",
    "\n",
    "# validation_list = [DATA_DIR + file for file in read_strings_from_json(\"./validation.json\")]\n",
    "# print(validation_list)\n",
    "\n",
    "torch.cuda.empty_cache()\n",
    "# Load data:\n",
    "train_list = get_edf_files(\"/media/a663e-36z/Common/Data/ANNE-data-expanded/\")\n",
    "\n",
    "validation_list = random.sample(train_list, 20)\n",
    "# print(validation_list)\n",
    "save_strings_to_json(validation_list, \"./validation_new.json\")\n",
    "\n",
    "\n",
    "# train_list = train_list_[:2]\n",
    "# print(train_list)\n",
    "# validation_list = [train_list_[1]]\n",
    "\n",
    "train_dataloaders = []\n",
    "valid_dataloaders = []\n",
    "for path in train_list:\n",
    "    # try:\n",
    "        X, X_freq, X_scl, t = main(path)\n",
    "        # for binary classification\n",
    "        if N_CLASSES == 2:\n",
    "            if IS_REM:\n",
    "                t = np.where(t == 1, 0, t)\n",
    "                t = np.where(t == 2, 1, t)\n",
    "            elif IS_NREM:\n",
    "                t = np.where(t == 2, 0, t)\n",
    "            else:\n",
    "                t = np.where(t == 2, 1, t)\n",
    "                    \n",
    "        # print(t)\n",
    "        \n",
    "        dataset = ANNEDataset(X, X_freq, X_scl, t, device)\n",
    "        size = len(X)\n",
    "        if path not in validation_list:\n",
    "            train_dataloaders.append(DataLoader(dataset=dataset, batch_size=size))\n",
    "\n",
    "        else:\n",
    "            valid_dataloaders.append(DataLoader(dataset=dataset, batch_size=size))\n",
    "    # except:\n",
    "    #     print(f\"Something went wrong for file {path}\")\n",
    "# random.shuffle(train_list)"
   ],
   "metadata": {
    "collapsed": false,
    "pycharm": {
     "name": "#%%\n"
    },
    "ExecuteTime": {
     "end_time": "2023-11-26T05:02:01.909062392Z",
     "start_time": "2023-11-26T04:50:58.501166733Z"
    }
   }
  },
  {
   "cell_type": "markdown",
   "source": [
    "Load and Train Model"
   ],
   "metadata": {
    "collapsed": false
   }
  },
  {
   "cell_type": "code",
   "execution_count": 53,
   "outputs": [
    {
     "name": "stdout",
     "output_type": "stream",
     "text": [
      "Using cuda\n",
      "Learning Rate 0.00011\n",
      "Epoch 0, Train acc: 21.11%, Test acc: 7.31%\n",
      "Epoch 0, Train loss: 0.71, Test loss: 0.77\n",
      "saved new model\n",
      "Learning Rate 0.00022\n",
      "Epoch 1, Train acc: 22.42%, Test acc: 7.88%\n",
      "Epoch 1, Train loss: 0.70, Test loss: 0.72\n",
      "saved new model\n",
      "Learning Rate 0.00033\n",
      "Epoch 2, Train acc: 17.61%, Test acc: 6.37%\n",
      "Epoch 2, Train loss: 0.68, Test loss: 0.71\n",
      "saved new model\n",
      "Learning Rate 0.00044\n",
      "Epoch 3, Train acc: 14.45%, Test acc: 5.20%\n",
      "Epoch 3, Train loss: 0.68, Test loss: 0.71\n",
      "saved new model\n",
      "Learning Rate 0.0005499999999999999\n",
      "Epoch 4, Train acc: 16.25%, Test acc: 4.89%\n",
      "Epoch 4, Train loss: 0.67, Test loss: 0.71\n",
      "Learning Rate 0.00066\n",
      "Epoch 5, Train acc: 20.13%, Test acc: 4.78%\n",
      "Epoch 5, Train loss: 0.66, Test loss: 0.72\n",
      "Learning Rate 0.00077\n",
      "Epoch 6, Train acc: 25.03%, Test acc: 5.03%\n",
      "Epoch 6, Train loss: 0.66, Test loss: 0.71\n",
      "saved new model\n",
      "Learning Rate 0.00088\n",
      "Epoch 7, Train acc: 33.98%, Test acc: 9.22%\n",
      "Epoch 7, Train loss: 0.65, Test loss: 0.72\n",
      "Learning Rate 0.00099\n",
      "Epoch 8, Train acc: 40.51%, Test acc: 14.63%\n",
      "Epoch 8, Train loss: 0.64, Test loss: 0.72\n",
      "Learning Rate 0.0010999999999999998\n",
      "Epoch 9, Train acc: 47.80%, Test acc: 40.60%\n",
      "Epoch 9, Train loss: 0.63, Test loss: 0.69\n",
      "saved new model\n",
      "Learning Rate 0.00121\n",
      "Epoch 10, Train acc: 52.25%, Test acc: 61.96%\n",
      "Epoch 10, Train loss: 0.63, Test loss: 0.66\n",
      "saved new model\n",
      "Learning Rate 0.00132\n",
      "Epoch 11, Train acc: 57.10%, Test acc: 75.80%\n",
      "Epoch 11, Train loss: 0.61, Test loss: 0.63\n",
      "saved new model\n",
      "Learning Rate 0.00143\n",
      "Epoch 12, Train acc: 60.35%, Test acc: 74.37%\n",
      "Epoch 12, Train loss: 0.58, Test loss: 0.58\n",
      "saved new model\n",
      "Learning Rate 0.00154\n",
      "Epoch 13, Train acc: 59.68%, Test acc: 74.49%\n",
      "Epoch 13, Train loss: 0.56, Test loss: 0.56\n",
      "saved new model\n",
      "Learning Rate 0.00165\n",
      "Epoch 14, Train acc: 62.16%, Test acc: 70.31%\n",
      "Epoch 14, Train loss: 0.53, Test loss: 0.54\n",
      "saved new model\n",
      "Learning Rate 0.0016494974322907542\n",
      "Epoch 15, Train acc: 60.70%, Test acc: 71.46%\n",
      "Epoch 15, Train loss: 0.52, Test loss: 0.48\n",
      "saved new model\n",
      "Learning Rate 0.001647990341464355\n",
      "Epoch 16, Train acc: 64.50%, Test acc: 68.43%\n",
      "Epoch 16, Train loss: 0.49, Test loss: 0.50\n",
      "Learning Rate 0.0016454805636788254\n",
      "Epoch 17, Train acc: 64.96%, Test acc: 76.22%\n",
      "Epoch 17, Train loss: 0.46, Test loss: 0.48\n",
      "Learning Rate 0.0016419711567117955\n",
      "Epoch 18, Train acc: 66.40%, Test acc: 72.79%\n",
      "Epoch 18, Train loss: 0.45, Test loss: 0.46\n",
      "saved new model\n",
      "Learning Rate 0.0016374663962350716\n",
      "Epoch 19, Train acc: 65.83%, Test acc: 68.64%\n",
      "Epoch 19, Train loss: 0.44, Test loss: 0.48\n",
      "Learning Rate 0.0016319717706053897\n",
      "Epoch 20, Train acc: 65.81%, Test acc: 70.31%\n",
      "Epoch 20, Train loss: 0.43, Test loss: 0.45\n",
      "saved new model\n",
      "Learning Rate 0.001625493974177697\n",
      "Epoch 21, Train acc: 67.14%, Test acc: 76.89%\n",
      "Epoch 21, Train loss: 0.42, Test loss: 0.45\n",
      "saved new model\n",
      "Learning Rate 0.001618040899149113\n",
      "Epoch 22, Train acc: 68.09%, Test acc: 75.73%\n",
      "Epoch 22, Train loss: 0.40, Test loss: 0.44\n",
      "saved new model\n",
      "Learning Rate 0.0016096216259435018\n",
      "Epoch 23, Train acc: 66.57%, Test acc: 73.78%\n",
      "Epoch 23, Train loss: 0.40, Test loss: 0.48\n",
      "Learning Rate 0.0016002464121483745\n",
      "Epoch 24, Train acc: 66.96%, Test acc: 74.30%\n",
      "Epoch 24, Train loss: 0.38, Test loss: 0.50\n",
      "Learning Rate 0.0015899266800175997\n",
      "Epoch 25, Train acc: 67.97%, Test acc: 72.62%\n",
      "Epoch 25, Train loss: 0.38, Test loss: 0.54\n",
      "Learning Rate 0.0015786750025551456\n",
      "Epoch 26, Train acc: 67.13%, Test acc: 80.67%\n",
      "Epoch 26, Train loss: 0.38, Test loss: 0.50\n",
      "Learning Rate 0.0015665050881968129\n",
      "Epoch 27, Train acc: 68.48%, Test acc: 85.46%\n",
      "Epoch 27, Train loss: 0.36, Test loss: 0.61\n"
     ]
    },
    {
     "ename": "KeyboardInterrupt",
     "evalue": "",
     "output_type": "error",
     "traceback": [
      "\u001B[0;31m---------------------------------------------------------------------------\u001B[0m",
      "\u001B[0;31mKeyboardInterrupt\u001B[0m                         Traceback (most recent call last)",
      "Cell \u001B[0;32mIn[53], line 38\u001B[0m\n\u001B[1;32m     35\u001B[0m scheduler \u001B[38;5;241m=\u001B[39m CosineWithWarmupLR(optimizer, warmup_epochs\u001B[38;5;241m=\u001B[39m\u001B[38;5;241m15\u001B[39m, max_epochs\u001B[38;5;241m=\u001B[39m\u001B[38;5;241m105\u001B[39m, max_lr\u001B[38;5;241m=\u001B[39mlearning_rate, min_lr\u001B[38;5;241m=\u001B[39m\u001B[38;5;241m0.000002\u001B[39m)\n\u001B[1;32m     36\u001B[0m \u001B[38;5;66;03m# scheduler = CyclicLR(optimizer, max_lr = 0.01, base_lr =0.0000001, step_size_up=15, step_size_down=20,\u001B[39;00m\n\u001B[1;32m     37\u001B[0m \u001B[38;5;66;03m# gamma=0.85, cycle_momentum=False, mode=\"triangular2\") Run the training loop\u001B[39;00m\n\u001B[0;32m---> 38\u001B[0m train_accs, test_accs, train_losses, test_losses, learning_rates \u001B[38;5;241m=\u001B[39m \u001B[43mtrain_model\u001B[49m\u001B[43m(\u001B[49m\u001B[43mmodel\u001B[49m\u001B[43m,\u001B[49m\u001B[43m \u001B[49m\u001B[43moptimizer\u001B[49m\u001B[43m,\u001B[49m\u001B[43m \u001B[49m\u001B[43mtrain_dataloaders\u001B[49m\u001B[43m,\u001B[49m\n\u001B[1;32m     39\u001B[0m \u001B[43m                                                                               \u001B[49m\u001B[43mvalid_dataloaders\u001B[49m\u001B[43m,\u001B[49m\n\u001B[1;32m     40\u001B[0m \u001B[43m                                                                               \u001B[49m\u001B[43mscheduler\u001B[49m\u001B[43m,\u001B[49m\n\u001B[1;32m     41\u001B[0m \u001B[43m                                                                               \u001B[49m\u001B[43mepochs\u001B[49m\u001B[38;5;241;43m=\u001B[39;49m\u001B[43mepochs\u001B[49m\u001B[43m,\u001B[49m\n\u001B[1;32m     42\u001B[0m \u001B[43m                                                                               \u001B[49m\u001B[43mprint_every\u001B[49m\u001B[38;5;241;43m=\u001B[39;49m\u001B[38;5;241;43m1\u001B[39;49m\u001B[43m)\u001B[49m\n\u001B[1;32m     43\u001B[0m model_scripted \u001B[38;5;241m=\u001B[39m torch\u001B[38;5;241m.\u001B[39mjit\u001B[38;5;241m.\u001B[39mscript(model)\n\u001B[1;32m     44\u001B[0m model_scripted\u001B[38;5;241m.\u001B[39msave(\u001B[38;5;124mf\u001B[39m\u001B[38;5;124m\"\u001B[39m\u001B[38;5;124mcheckpoints/model_\u001B[39m\u001B[38;5;132;01m{\u001B[39;00mtimestr\u001B[38;5;132;01m}\u001B[39;00m\u001B[38;5;124m.pt\u001B[39m\u001B[38;5;124m\"\u001B[39m)\n",
      "Cell \u001B[0;32mIn[52], line 87\u001B[0m, in \u001B[0;36mtrain_model\u001B[0;34m(model, optimizer, train_loaders, test_loaders, lr_scheduler, epochs, print_every)\u001B[0m\n\u001B[1;32m     85\u001B[0m total_trainer_len \u001B[38;5;241m=\u001B[39m \u001B[38;5;241m0\u001B[39m\n\u001B[1;32m     86\u001B[0m \u001B[38;5;28;01mfor\u001B[39;00m train_loader \u001B[38;5;129;01min\u001B[39;00m train_loaders:\n\u001B[0;32m---> 87\u001B[0m     \u001B[38;5;28;01mfor\u001B[39;00m i, (inputs, inputs_freq, inputs_scl, labels, lengths) \u001B[38;5;129;01min\u001B[39;00m \u001B[38;5;28menumerate\u001B[39m(train_loader):\n\u001B[1;32m     88\u001B[0m         model\u001B[38;5;241m.\u001B[39mzero_grad()\n\u001B[1;32m     89\u001B[0m         inputs \u001B[38;5;241m=\u001B[39m inputs\u001B[38;5;241m.\u001B[39mto(device)\n",
      "File \u001B[0;32m/media/a663e-36z/Common/Projects/Sunnybrook/ANNE_dl/venv/lib/python3.10/site-packages/torch/utils/data/dataloader.py:628\u001B[0m, in \u001B[0;36m_BaseDataLoaderIter.__next__\u001B[0;34m(self)\u001B[0m\n\u001B[1;32m    625\u001B[0m \u001B[38;5;28;01mif\u001B[39;00m \u001B[38;5;28mself\u001B[39m\u001B[38;5;241m.\u001B[39m_sampler_iter \u001B[38;5;129;01mis\u001B[39;00m \u001B[38;5;28;01mNone\u001B[39;00m:\n\u001B[1;32m    626\u001B[0m     \u001B[38;5;66;03m# TODO(https://github.com/pytorch/pytorch/issues/76750)\u001B[39;00m\n\u001B[1;32m    627\u001B[0m     \u001B[38;5;28mself\u001B[39m\u001B[38;5;241m.\u001B[39m_reset()  \u001B[38;5;66;03m# type: ignore[call-arg]\u001B[39;00m\n\u001B[0;32m--> 628\u001B[0m data \u001B[38;5;241m=\u001B[39m \u001B[38;5;28;43mself\u001B[39;49m\u001B[38;5;241;43m.\u001B[39;49m\u001B[43m_next_data\u001B[49m\u001B[43m(\u001B[49m\u001B[43m)\u001B[49m\n\u001B[1;32m    629\u001B[0m \u001B[38;5;28mself\u001B[39m\u001B[38;5;241m.\u001B[39m_num_yielded \u001B[38;5;241m+\u001B[39m\u001B[38;5;241m=\u001B[39m \u001B[38;5;241m1\u001B[39m\n\u001B[1;32m    630\u001B[0m \u001B[38;5;28;01mif\u001B[39;00m \u001B[38;5;28mself\u001B[39m\u001B[38;5;241m.\u001B[39m_dataset_kind \u001B[38;5;241m==\u001B[39m _DatasetKind\u001B[38;5;241m.\u001B[39mIterable \u001B[38;5;129;01mand\u001B[39;00m \\\n\u001B[1;32m    631\u001B[0m         \u001B[38;5;28mself\u001B[39m\u001B[38;5;241m.\u001B[39m_IterableDataset_len_called \u001B[38;5;129;01mis\u001B[39;00m \u001B[38;5;129;01mnot\u001B[39;00m \u001B[38;5;28;01mNone\u001B[39;00m \u001B[38;5;129;01mand\u001B[39;00m \\\n\u001B[1;32m    632\u001B[0m         \u001B[38;5;28mself\u001B[39m\u001B[38;5;241m.\u001B[39m_num_yielded \u001B[38;5;241m>\u001B[39m \u001B[38;5;28mself\u001B[39m\u001B[38;5;241m.\u001B[39m_IterableDataset_len_called:\n",
      "File \u001B[0;32m/media/a663e-36z/Common/Projects/Sunnybrook/ANNE_dl/venv/lib/python3.10/site-packages/torch/utils/data/dataloader.py:671\u001B[0m, in \u001B[0;36m_SingleProcessDataLoaderIter._next_data\u001B[0;34m(self)\u001B[0m\n\u001B[1;32m    669\u001B[0m \u001B[38;5;28;01mdef\u001B[39;00m \u001B[38;5;21m_next_data\u001B[39m(\u001B[38;5;28mself\u001B[39m):\n\u001B[1;32m    670\u001B[0m     index \u001B[38;5;241m=\u001B[39m \u001B[38;5;28mself\u001B[39m\u001B[38;5;241m.\u001B[39m_next_index()  \u001B[38;5;66;03m# may raise StopIteration\u001B[39;00m\n\u001B[0;32m--> 671\u001B[0m     data \u001B[38;5;241m=\u001B[39m \u001B[38;5;28;43mself\u001B[39;49m\u001B[38;5;241;43m.\u001B[39;49m\u001B[43m_dataset_fetcher\u001B[49m\u001B[38;5;241;43m.\u001B[39;49m\u001B[43mfetch\u001B[49m\u001B[43m(\u001B[49m\u001B[43mindex\u001B[49m\u001B[43m)\u001B[49m  \u001B[38;5;66;03m# may raise StopIteration\u001B[39;00m\n\u001B[1;32m    672\u001B[0m     \u001B[38;5;28;01mif\u001B[39;00m \u001B[38;5;28mself\u001B[39m\u001B[38;5;241m.\u001B[39m_pin_memory:\n\u001B[1;32m    673\u001B[0m         data \u001B[38;5;241m=\u001B[39m _utils\u001B[38;5;241m.\u001B[39mpin_memory\u001B[38;5;241m.\u001B[39mpin_memory(data, \u001B[38;5;28mself\u001B[39m\u001B[38;5;241m.\u001B[39m_pin_memory_device)\n",
      "File \u001B[0;32m/media/a663e-36z/Common/Projects/Sunnybrook/ANNE_dl/venv/lib/python3.10/site-packages/torch/utils/data/_utils/fetch.py:58\u001B[0m, in \u001B[0;36m_MapDatasetFetcher.fetch\u001B[0;34m(self, possibly_batched_index)\u001B[0m\n\u001B[1;32m     56\u001B[0m         data \u001B[38;5;241m=\u001B[39m \u001B[38;5;28mself\u001B[39m\u001B[38;5;241m.\u001B[39mdataset\u001B[38;5;241m.\u001B[39m__getitems__(possibly_batched_index)\n\u001B[1;32m     57\u001B[0m     \u001B[38;5;28;01melse\u001B[39;00m:\n\u001B[0;32m---> 58\u001B[0m         data \u001B[38;5;241m=\u001B[39m [\u001B[38;5;28mself\u001B[39m\u001B[38;5;241m.\u001B[39mdataset[idx] \u001B[38;5;28;01mfor\u001B[39;00m idx \u001B[38;5;129;01min\u001B[39;00m possibly_batched_index]\n\u001B[1;32m     59\u001B[0m \u001B[38;5;28;01melse\u001B[39;00m:\n\u001B[1;32m     60\u001B[0m     data \u001B[38;5;241m=\u001B[39m \u001B[38;5;28mself\u001B[39m\u001B[38;5;241m.\u001B[39mdataset[possibly_batched_index]\n",
      "File \u001B[0;32m/media/a663e-36z/Common/Projects/Sunnybrook/ANNE_dl/venv/lib/python3.10/site-packages/torch/utils/data/_utils/fetch.py:58\u001B[0m, in \u001B[0;36m<listcomp>\u001B[0;34m(.0)\u001B[0m\n\u001B[1;32m     56\u001B[0m         data \u001B[38;5;241m=\u001B[39m \u001B[38;5;28mself\u001B[39m\u001B[38;5;241m.\u001B[39mdataset\u001B[38;5;241m.\u001B[39m__getitems__(possibly_batched_index)\n\u001B[1;32m     57\u001B[0m     \u001B[38;5;28;01melse\u001B[39;00m:\n\u001B[0;32m---> 58\u001B[0m         data \u001B[38;5;241m=\u001B[39m [\u001B[38;5;28mself\u001B[39m\u001B[38;5;241m.\u001B[39mdataset[idx] \u001B[38;5;28;01mfor\u001B[39;00m idx \u001B[38;5;129;01min\u001B[39;00m possibly_batched_index]\n\u001B[1;32m     59\u001B[0m \u001B[38;5;28;01melse\u001B[39;00m:\n\u001B[1;32m     60\u001B[0m     data \u001B[38;5;241m=\u001B[39m \u001B[38;5;28mself\u001B[39m\u001B[38;5;241m.\u001B[39mdataset[possibly_batched_index]\n",
      "\u001B[0;31mKeyboardInterrupt\u001B[0m: "
     ]
    }
   ],
   "source": [
    "import crnn_tfs\n",
    "import importlib\n",
    "importlib.reload(crnn_tfs)\n",
    "\n",
    "CRNN =  crnn_tfs.CRNN\n",
    "\n",
    "# Build model\n",
    "model = CRNN(num_classes=N_CLASSES, in_channels=X.shape[1], in_channels_f=X_freq.shape[1], in_channels_s=X_scl.shape[1], model='gru')\n",
    "#\n",
    "# MODEL_PATH = \"\"\n",
    "# model = torch.load(MODEL_PATH)\n",
    "# Initialize dataloaders\n",
    "# train_dataset = ANNEDataset(X1, X1f, X1s, t1, device)\n",
    "# train_dataloader = DataLoader(dataset=train_dataset, batch_size=4096)\n",
    "# val_dataset = ANNEDataset(X2, X2f, X2s, t2, device)\n",
    "# val_dataloader = DataLoader(dataset=val_dataset)\n",
    "\n",
    "# Visualize model\n",
    "# dummy_input = torch.randn(1024, 6, 25 * 30)\n",
    "# torch.onnx.export(model, dummy_input, \"./model.onnx\")\n",
    "\n",
    "# Train model:\n",
    "# learning_rate = 0.00095\n",
    "learning_rate = 0.00165\n",
    "epochs = 400\n",
    "# dummy_input = torch.randn(4096, X.shape[1], 25*30)\n",
    "# dummy_input_freq = torch.randn(4096, X_freq.shape[1], X_freq.shape[2])\n",
    "# dummy_input_scl = torch.randn(4096, X_scl.shape[1], X_scl.shape[2])\n",
    "# torch.onnx.export(model, dummy_input, \"./model.onnx\")\n",
    "\n",
    "# Train model:\n",
    "optimizer = torch.optim.AdamW(model.parameters(), lr=learning_rate)\n",
    "# Create the learning rate scheduler\n",
    "# scheduler = CosineWithWarmupLR(optimizer, warmup_epochs=15, max_epochs=150, max_lr=learning_rate, min_lr=0.000001)\n",
    "scheduler = CosineWithWarmupLR(optimizer, warmup_epochs=15, max_epochs=105, max_lr=learning_rate, min_lr=0.000002)\n",
    "# scheduler = CyclicLR(optimizer, max_lr = 0.01, base_lr =0.0000001, step_size_up=15, step_size_down=20,\n",
    "# gamma=0.85, cycle_momentum=False, mode=\"triangular2\") Run the training loop\n",
    "train_accs, test_accs, train_losses, test_losses, learning_rates = train_model(model, optimizer, train_dataloaders,\n",
    "                                                                               valid_dataloaders,\n",
    "                                                                               scheduler,\n",
    "                                                                               epochs=epochs,\n",
    "                                                                               print_every=1)\n",
    "model_scripted = torch.jit.script(model)\n",
    "model_scripted.save(f\"checkpoints/model_{timestr}.pt\")\n",
    "print(\"Model Saved\")\n",
    "\n",
    "plt.plot(train_losses)\n",
    "plt.plot(test_losses)\n",
    "plt.title(\"loss\")\n",
    "plt.show()\n",
    "\n",
    "plt.plot(train_accs)\n",
    "plt.plot(test_accs)\n",
    "plt.title(\"accuracy\")\n",
    "plt.show()\n",
    "\n",
    "plt.plot(learning_rates)\n",
    "plt.plot(learning_rates)\n",
    "plt.title(\"learning_rates\")\n",
    "plt.show()"
   ],
   "metadata": {
    "collapsed": false,
    "ExecuteTime": {
     "end_time": "2023-11-26T05:19:08.056920087Z",
     "start_time": "2023-11-26T05:16:22.921265736Z"
    }
   }
  },
  {
   "cell_type": "code",
   "execution_count": null,
   "outputs": [],
   "source": [],
   "metadata": {
    "collapsed": false,
    "ExecuteTime": {
     "start_time": "2023-11-26T04:49:03.950642363Z"
    }
   }
  },
  {
   "cell_type": "code",
   "execution_count": null,
   "outputs": [],
   "source": [],
   "metadata": {
    "collapsed": false,
    "ExecuteTime": {
     "start_time": "2023-11-26T04:49:03.950667641Z"
    }
   }
  }
 ],
 "metadata": {
  "kernelspec": {
   "display_name": "Python 3",
   "language": "python",
   "name": "python3"
  },
  "language_info": {
   "codemirror_mode": {
    "name": "ipython",
    "version": 2
   },
   "file_extension": ".py",
   "mimetype": "text/x-python",
   "name": "python",
   "nbconvert_exporter": "python",
   "pygments_lexer": "ipython2",
   "version": "2.7.6"
  }
 },
 "nbformat": 4,
 "nbformat_minor": 0
}
