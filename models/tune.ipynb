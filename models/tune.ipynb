{
 "cells": [
  {
   "cell_type": "code",
   "execution_count": 2,
   "metadata": {
    "collapsed": true
   },
   "outputs": [],
   "source": [
    "# essentially the jupyter notebook version of train.py; created to make model tuning faster.\n",
    "# data loading is decoupled from training\n",
    "\n",
    "import torch\n",
    "import torch.nn as nn\n",
    "from torch.optim.lr_scheduler import LambdaLR\n",
    "from torch.utils.data import DataLoader\n",
    "\n",
    "import matplotlib.pyplot as plt\n",
    "import numpy as np\n",
    "\n",
    "from preprocessing.main import main, get_edf_files\n",
    "from crnn_tf_v3 import CRNN\n",
    "from dataloader import ANNEDataset\n",
    "\n",
    "import json\n",
    "import math\n",
    "import time\n",
    "import random\n",
    "\n",
    "random.seed(42)\n",
    "torch.manual_seed(42)\n",
    "timestr = time.strftime(\"%Y%m%d-%H%M%S\")\n",
    "\n",
    "\n",
    "class CosineWithWarmupLR(LambdaLR):\n",
    "    def __init__(self, optimizer, warmup_epochs, max_epochs, max_lr=0.001, min_lr=0.0001):\n",
    "        self.warmup_epochs = warmup_epochs\n",
    "        self.max_epochs = max_epochs\n",
    "        # self.base_lr = base_lr\n",
    "        warmup_scheduler = lambda epoch: epoch / warmup_epochs if epoch < warmup_epochs else \\\n",
    "            (0.5 * (1.0 + math.cos(math.pi * (epoch - warmup_epochs) / (max_epochs - warmup_epochs))) if epoch < max_epochs else min_lr/max_lr)\n",
    "\n",
    "        super(CosineWithWarmupLR, self).__init__(optimizer, lr_lambda=warmup_scheduler)\n",
    "\n",
    "\n",
    "def save_strings_to_json(strings_list, filename):\n",
    "    data = {\"strings\": strings_list}\n",
    "\n",
    "    with open(filename, \"w\") as json_file:\n",
    "        json.dump(data, json_file, indent=4)\n",
    "\n",
    "def train_model(model, optimizer, train_loaders, test_loaders, lr_scheduler, epochs=100, print_every=10):\n",
    "\n",
    "    # Using GPUs in PyTorch is pretty straightforward\n",
    "    if torch.cuda.is_available():\n",
    "        print(\"Using cuda\")\n",
    "        use_cuda = True\n",
    "        device = torch.device(\"cuda\")\n",
    "    else:\n",
    "        device = \"cpu\"\n",
    "\n",
    "    xentropy_weight = torch.tensor([1 / 27 ** 1.5, 1 / 62 ** 1.5, 1 / 11 ** 1.5]).to(device)\n",
    "    # xentropy_weight = torch.tensor([1 / 27 ** 1.75, 1 / 73 ** 1.75]).to(device)\n",
    "\n",
    "    criterion = nn.CrossEntropyLoss(weight=xentropy_weight)\n",
    "    train_accs = []\n",
    "    test_accs = []\n",
    "    train_losses = []\n",
    "    test_losses = []\n",
    "    learning_rates = []\n",
    "    # Early return parameters\n",
    "    patience = 1000       # we early return if there is no improvement after patience number of epochs\n",
    "    counter = 0\n",
    "    # min_delta = 0.01    # at least 1% accuracy increase is needed to count it as an improvement\n",
    "    min_delta = 0\n",
    "    best_test_loss = float(\"inf\")\n",
    "\n",
    "    # Move the model to GPU, if available\n",
    "    model.to(device)\n",
    "    model.train()\n",
    "\n",
    "    for epoch in range(epochs):\n",
    "        xentropy_loss_total = 0.\n",
    "        correct = 0.\n",
    "        total = 0.\n",
    "        total_trainer_len = 0\n",
    "        for train_loader in train_loaders:\n",
    "            for i, (inputs, inputs_freq, inputs_scl, labels, lengths) in enumerate(train_loader):\n",
    "                model.zero_grad()\n",
    "                inputs = inputs.to(device)\n",
    "                inputs_freq = inputs_freq.to(device)\n",
    "                inputs_scl = inputs_scl.to(device)\n",
    "                labels = labels.to(device)\n",
    "                # inputs = inputs.view(inputs.size(0), -1)  # Flatten input from [batch_size, 1, 28, 28] to [batch_size, 784]\n",
    "                pred = model(inputs, inputs_freq, inputs_scl)\n",
    "                xentropy_loss = criterion(pred, labels)\n",
    "                xentropy_loss.backward()\n",
    "\n",
    "                xentropy_loss_total += xentropy_loss.item()\n",
    "\n",
    "                # Calculate running average of accuracy\n",
    "                pred = torch.max(pred.data, 1)[1]\n",
    "                total += labels.size(0)\n",
    "                correct += (pred == labels.data).sum().item()\n",
    "\n",
    "            optimizer.step()\n",
    "            total_trainer_len += len(train_loader)\n",
    "\n",
    "        # lr_scheduler.step(epoch + i / len(train_loader))    # Important: use this for CosineAnnealingWarmRestarts\n",
    "        lr_scheduler.step()  # use this for CyclicLR\n",
    "        current_lr = lr_scheduler.get_last_lr()[0]\n",
    "        learning_rates.append(current_lr)\n",
    "        print(f\"Learning Rate {current_lr}\")\n",
    "\n",
    "        accuracy = correct / total\n",
    "        avg_xentropy_loss = xentropy_loss_total / total_trainer_len\n",
    "\n",
    "        test_acc_sum = 0\n",
    "        test_loss_sum = 0\n",
    "\n",
    "        for test_loader in test_loaders:\n",
    "            test_acc, test_loss = evaluate(model, test_loader, criterion, device)\n",
    "            test_acc_sum += test_acc\n",
    "            test_loss_sum += test_loss\n",
    "\n",
    "        test_acc = test_acc_sum / len(test_loaders)\n",
    "        test_loss = test_loss_sum / len(test_loaders)\n",
    "\n",
    "        if epoch % print_every == 0:\n",
    "            print(\"Epoch {}, Train acc: {:.2f}%, Test acc: {:.2f}%\".format(epoch, accuracy * 100, test_acc * 100))\n",
    "            print(\"Epoch {}, Train loss: {:.2f}, Test loss: {:.2f}\".format(epoch, avg_xentropy_loss, test_loss))\n",
    "\n",
    "        train_accs.append(accuracy)\n",
    "        test_accs.append(test_acc)\n",
    "        train_losses.append(avg_xentropy_loss)\n",
    "        test_losses.append(test_loss)\n",
    "\n",
    "        # Check for early stopping\n",
    "        if test_loss < best_test_loss - min_delta:\n",
    "            best_test_loss = test_loss\n",
    "            model_scripted = torch.jit.script(model)\n",
    "            model_scripted.save(f\"checkpoints/es_{timestr}.pt\")\n",
    "            print(\"saved new model\")\n",
    "            counter = 0\n",
    "        else:\n",
    "            counter += 1\n",
    "            if counter >= patience:\n",
    "                print(\"Early stopping triggered.\")\n",
    "                break\n",
    "\n",
    "    return train_accs, test_accs, train_losses, test_losses, learning_rates\n",
    "\n",
    "\n",
    "def evaluate(model, loader, criterion, device):\n",
    "    model.eval()  # Change model to 'eval' mode (BN uses moving mean/var).\n",
    "    correct = 0.\n",
    "    total = 0.\n",
    "    val_loss = 0.\n",
    "    for i, (inputs, inputs_freq, inputs_scl, labels, lengths) in enumerate(loader):\n",
    "        with torch.no_grad():\n",
    "            inputs = inputs.to(device)\n",
    "            inputs_freq = inputs_freq.to(device)\n",
    "            labels = labels.to(device)\n",
    "            # inputs = inputs.view(inputs.size(0), -1)\n",
    "            pred = model(inputs, inputs_freq, inputs_scl)\n",
    "            xentropy_loss = criterion(pred, labels)\n",
    "            val_loss += xentropy_loss.item()\n",
    "\n",
    "        pred = torch.max(pred.data, 1)[1]\n",
    "        total += labels.size(0)\n",
    "        correct += (pred == labels).sum().item()\n",
    "\n",
    "    val_acc = correct / total\n",
    "    val_loss = val_loss / len(loader)\n",
    "    model.train()\n",
    "    return val_acc, val_loss\n",
    "\n",
    "\n",
    "def plot_grad_histograms(grad_list, epoch, init=False):\n",
    "    fig, ax = plt.subplots(nrows=1, ncols=len(grad_list), figsize=(5 * len(grad_list), 5))\n",
    "    for i, grad in enumerate(grad_list):\n",
    "        plt.subplot(1, len(grad_list), i + 1)\n",
    "        plt.hist(grad)\n",
    "        if init:\n",
    "            plt.title(\"Grads for Weights (Layer {}-{}) Init\".format(i, i + 1))\n",
    "        else:\n",
    "            plt.title(\"Grads for Weights (Layer {}-{}) Epoch {}\".format(i, i + 1, epoch))\n",
    "    plt.show()\n",
    "\n",
    "\n",
    "def plot_act_histograms(act_list, epoch, init=False):\n",
    "    fig, ax = plt.subplots(nrows=1, ncols=len(act_list), figsize=(5 * len(act_list), 5))\n",
    "    for i, act in enumerate(act_list):\n",
    "        plt.subplot(1, len(act_list), i + 1)\n",
    "        plt.hist(act)\n",
    "        if init:\n",
    "            plt.title(\"Activations for Layer {} Init\".format(i + 1))\n",
    "        else:\n",
    "            plt.title(\"Activations for Layer {} Epoch {}\".format(i + 1, epoch))\n",
    "    plt.show()"
   ]
  },
  {
   "cell_type": "code",
   "execution_count": null,
   "outputs": [
    {
     "name": "stdout",
     "output_type": "stream",
     "text": [
      "['/mnt/Common/data/20-10-02-21_48_39.C1390.L1217.205-annotated.edf', '/mnt/Common/data/20-02-10-20_07_16.C823.L931.7-annotated.edf', '/mnt/Common/data/21-03-22-22_36_53.C1442.L1215.261-annotated.edf', '/mnt/Common/data/21-02-18-21_07_23.C1442.L1215.250-annotated.edf', '/mnt/Common/data/21-01-12-21_30_33.C1442.L1215.238-annotated.edf', '/mnt/Common/data/20-10-23-21_08_59.C1442.L1215.213-annotated.edf', '/mnt/Common/data/20-09-10-23_48_07.C1425.L1205.194-annotated.edf', '/mnt/Common/data/20-08-24-21_44_04.C1419.L1362.186-annotated.edf', '/mnt/Common/data/21-09-15-22_59_43.C1390.L3562.316-annotated.edf', '/mnt/Common/data/20-02-19-19_54_00.C823.L931.10-annotated.edf', '/mnt/Common/data/20-02-18-20_05_51.C823.L931.9-annotated.edf', '/mnt/Common/data/20-08-26-22_34_39.C1390.L1217.188-annotated.edf', '/mnt/Common/data/21-01-06-22_45_53.C1425.L1205.236-annotated.edf', '/mnt/Common/data/21-02-01-21_36_56.C1425.L1205.244-annotated.edf', '/mnt/Common/data/23-05-03-21_29_35.C4359.L3786.589-annotated.edf', '/mnt/Common/data/20-12-15-22_02_08.C1425.L1205.231-annotated.edf', '/mnt/Common/data/21-09-14-21_30_45.C1390.L3562.315-annotated.edf', '/mnt/Common/data/21-01-11-21_39_04.C1425.L1205.237-annotated.edf', '/mnt/Common/data/21-12-14-22_27_58.C3882.L3562.342-annotated.edf', '/mnt/Common/data/21-03-23-21_25_37.C1425.L1205.262-annotated.edf']\n",
      "Extracting EDF parameters from /mnt/Common/data/19-12-17-20_37_24.C823.L775.1-annotated.edf...\n",
      "EDF file detected\n",
      "Setting channel info structure...\n",
      "Creating raw.info structure...\n",
      "Extracting EDF parameters from /mnt/Common/data/19-12-18-20_07_58.C823.L775.2-annotated.edf...\n",
      "EDF file detected\n",
      "Setting channel info structure...\n",
      "Creating raw.info structure...\n",
      "Extracting EDF parameters from /mnt/Common/data/19-12-19-20_11_12.C823.L775.3-annotated.edf...\n",
      "EDF file detected\n",
      "Setting channel info structure...\n",
      "Creating raw.info structure...\n"
     ]
    },
    {
     "name": "stderr",
     "output_type": "stream",
     "text": [
      "/mnt/Common/Projects/ANNE_dl/preprocessing/main.py:70: RuntimeWarning: Physical range is not defined in following channels:\n",
      "PLM.events\n",
      "  data = mne.io.read_raw_edf(path)\n"
     ]
    },
    {
     "name": "stdout",
     "output_type": "stream",
     "text": [
      "Extracting EDF parameters from /mnt/Common/data/20-01-14-20_23_27.C823.L775.4-annotated.edf...\n",
      "EDF file detected\n",
      "Setting channel info structure...\n",
      "Creating raw.info structure...\n",
      "Extracting EDF parameters from /mnt/Common/data/20-01-15-20_13_00.C823.L775.5-annotated.edf...\n",
      "EDF file detected\n",
      "Setting channel info structure...\n",
      "Creating raw.info structure...\n"
     ]
    },
    {
     "name": "stderr",
     "output_type": "stream",
     "text": [
      "/mnt/Common/Projects/ANNE_dl/preprocessing/main.py:70: RuntimeWarning: Physical range is not defined in following channels:\n",
      "PLM.events\n",
      "  data = mne.io.read_raw_edf(path)\n"
     ]
    },
    {
     "name": "stdout",
     "output_type": "stream",
     "text": [
      "Extracting EDF parameters from /mnt/Common/data/20-02-04-20_34_29.C823.L931.6-annotated.edf...\n",
      "EDF file detected\n",
      "Setting channel info structure...\n",
      "Creating raw.info structure...\n",
      "Extracting EDF parameters from /mnt/Common/data/20-02-10-20_07_16.C823.L931.7-annotated.edf...\n",
      "EDF file detected\n",
      "Setting channel info structure...\n",
      "Creating raw.info structure...\n"
     ]
    },
    {
     "name": "stderr",
     "output_type": "stream",
     "text": [
      "/mnt/Common/Projects/ANNE_dl/preprocessing/main.py:70: RuntimeWarning: Physical range is not defined in following channels:\n",
      "PLM.events\n",
      "  data = mne.io.read_raw_edf(path)\n"
     ]
    },
    {
     "name": "stdout",
     "output_type": "stream",
     "text": [
      "Extracting EDF parameters from /mnt/Common/data/20-02-18-20_05_51.C823.L931.9-annotated.edf...\n",
      "EDF file detected\n",
      "Setting channel info structure...\n",
      "Creating raw.info structure...\n"
     ]
    },
    {
     "name": "stderr",
     "output_type": "stream",
     "text": [
      "/mnt/Common/Projects/ANNE_dl/preprocessing/main.py:70: RuntimeWarning: Physical range is not defined in following channels:\n",
      "PLM.events\n",
      "  data = mne.io.read_raw_edf(path)\n"
     ]
    },
    {
     "name": "stdout",
     "output_type": "stream",
     "text": [
      "Extracting EDF parameters from /mnt/Common/data/20-02-19-19_54_00.C823.L931.10-annotated.edf...\n",
      "EDF file detected\n",
      "Setting channel info structure...\n",
      "Creating raw.info structure...\n",
      "Extracting EDF parameters from /mnt/Common/data/20-03-09-21_22_39.C823.L931.11-annotated.edf...\n",
      "EDF file detected\n",
      "Setting channel info structure...\n",
      "Creating raw.info structure...\n",
      "Extracting EDF parameters from /mnt/Common/data/20-03-11-21_23_00.C823.L931.13-annotated.edf...\n",
      "EDF file detected\n",
      "Setting channel info structure...\n",
      "Creating raw.info structure...\n",
      "Extracting EDF parameters from /mnt/Common/data/20-07-21-21_07_11.C1442.L1198.170-annotated.edf...\n",
      "EDF file detected\n",
      "Setting channel info structure...\n",
      "Creating raw.info structure...\n"
     ]
    },
    {
     "name": "stderr",
     "output_type": "stream",
     "text": [
      "/mnt/Common/Projects/ANNE_dl/preprocessing/main.py:70: RuntimeWarning: Physical range is not defined in following channels:\n",
      "PLM.events\n",
      "  data = mne.io.read_raw_edf(path)\n"
     ]
    },
    {
     "name": "stdout",
     "output_type": "stream",
     "text": [
      "Extracting EDF parameters from /mnt/Common/data/20-07-28-21_50_47.C1459.L1198.174-annotated.edf...\n",
      "EDF file detected\n",
      "Setting channel info structure...\n",
      "Creating raw.info structure...\n",
      "Extracting EDF parameters from /mnt/Common/data/20-07-30-21_10_14.C1390.L1217.176-annotated.edf...\n",
      "EDF file detected\n",
      "Setting channel info structure...\n",
      "Creating raw.info structure...\n",
      "Extracting EDF parameters from /mnt/Common/data/20-08-08-21_59_12.C1459.L1198.178-annotated.edf...\n",
      "EDF file detected\n",
      "Setting channel info structure...\n",
      "Creating raw.info structure...\n",
      "Extracting EDF parameters from /mnt/Common/data/20-08-10-21_18_52.C1459.L1198.179-annotated.edf...\n",
      "EDF file detected\n",
      "Setting channel info structure...\n",
      "Creating raw.info structure...\n",
      "Extracting EDF parameters from /mnt/Common/data/20-08-13-22_15_43.C1425.L1205.181-annotated.edf...\n",
      "EDF file detected\n",
      "Setting channel info structure...\n",
      "Creating raw.info structure...\n",
      "Extracting EDF parameters from /mnt/Common/data/20-08-17-21_22_44.C1442.L1215.183-annotated.edf...\n",
      "EDF file detected\n",
      "Setting channel info structure...\n",
      "Creating raw.info structure...\n",
      "Extracting EDF parameters from /mnt/Common/data/21-02-16-21_19_22.C1425.L1205.249-annotated.edf...\n",
      "EDF file detected\n",
      "Setting channel info structure...\n",
      "Creating raw.info structure...\n",
      "Extracting EDF parameters from /mnt/Common/data/21-03-08-21_23_15.C1425.L1205.255-annotated.edf...\n",
      "EDF file detected\n",
      "Setting channel info structure...\n",
      "Creating raw.info structure...\n",
      "Extracting EDF parameters from /mnt/Common/data/21-03-29-21_24_04.C1425.L1205.263-annotated.edf...\n",
      "EDF file detected\n",
      "Setting channel info structure...\n",
      "Creating raw.info structure...\n",
      "Extracting EDF parameters from /mnt/Common/data/20-08-20-21_33_30.C1442.L1215.185-annotated.edf...\n",
      "EDF file detected\n",
      "Setting channel info structure...\n",
      "Creating raw.info structure...\n"
     ]
    },
    {
     "name": "stderr",
     "output_type": "stream",
     "text": [
      "/mnt/Common/Projects/ANNE_dl/preprocessing/main.py:70: RuntimeWarning: Physical range is not defined in following channels:\n",
      "PLM.events\n",
      "  data = mne.io.read_raw_edf(path)\n"
     ]
    },
    {
     "name": "stdout",
     "output_type": "stream",
     "text": [
      "Extracting EDF parameters from /mnt/Common/data/20-08-24-21_44_04.C1419.L1362.186-annotated.edf...\n",
      "EDF file detected\n",
      "Setting channel info structure...\n",
      "Creating raw.info structure...\n",
      "Extracting EDF parameters from /mnt/Common/data/20-08-26-22_34_39.C1390.L1217.188-annotated.edf...\n",
      "EDF file detected\n",
      "Setting channel info structure...\n",
      "Creating raw.info structure...\n",
      "Extracting EDF parameters from /mnt/Common/data/20-09-02-21_00_21.C1390.L1217.189-annotated.edf...\n",
      "EDF file detected\n",
      "Setting channel info structure...\n",
      "Creating raw.info structure...\n",
      "Extracting EDF parameters from /mnt/Common/data/20-09-09-20_52_35.C1390.L1217.193-annotated.edf...\n",
      "EDF file detected\n",
      "Setting channel info structure...\n",
      "Creating raw.info structure...\n",
      "Extracting EDF parameters from /mnt/Common/data/20-09-10-23_48_07.C1425.L1205.194-annotated.edf...\n",
      "EDF file detected\n",
      "Setting channel info structure...\n",
      "Creating raw.info structure...\n",
      "Extracting EDF parameters from /mnt/Common/data/20-09-30-21_56_35.C1419.L1362.203-annotated.edf...\n",
      "EDF file detected\n",
      "Setting channel info structure...\n",
      "Creating raw.info structure...\n",
      "Extracting EDF parameters from /mnt/Common/data/20-10-02-21_48_39.C1390.L1217.205-annotated.edf...\n",
      "EDF file detected\n",
      "Setting channel info structure...\n",
      "Creating raw.info structure...\n"
     ]
    },
    {
     "name": "stderr",
     "output_type": "stream",
     "text": [
      "/mnt/Common/Projects/ANNE_dl/preprocessing/main.py:70: RuntimeWarning: Physical range is not defined in following channels:\n",
      "PLM.events, SpO2.events\n",
      "  data = mne.io.read_raw_edf(path)\n"
     ]
    },
    {
     "name": "stdout",
     "output_type": "stream",
     "text": [
      "Extracting EDF parameters from /mnt/Common/data/20-10-05-21_31_56.C1459.L1198.206-annotated.edf...\n",
      "EDF file detected\n",
      "Setting channel info structure...\n",
      "Creating raw.info structure...\n"
     ]
    },
    {
     "name": "stderr",
     "output_type": "stream",
     "text": [
      "/mnt/Common/Projects/ANNE_dl/preprocessing/main.py:70: RuntimeWarning: Physical range is not defined in following channels:\n",
      "resp.events\n",
      "  data = mne.io.read_raw_edf(path)\n"
     ]
    },
    {
     "name": "stdout",
     "output_type": "stream",
     "text": [
      "Extracting EDF parameters from /mnt/Common/data/20-10-07-22_00_34.C1425.L1205.207-annotated.edf...\n",
      "EDF file detected\n",
      "Setting channel info structure...\n",
      "Creating raw.info structure...\n"
     ]
    },
    {
     "name": "stderr",
     "output_type": "stream",
     "text": [
      "/mnt/Common/Projects/ANNE_dl/preprocessing/main.py:70: RuntimeWarning: Physical range is not defined in following channels:\n",
      "PLM.events\n",
      "  data = mne.io.read_raw_edf(path)\n"
     ]
    },
    {
     "name": "stdout",
     "output_type": "stream",
     "text": [
      "Extracting EDF parameters from /mnt/Common/data/20-10-08-22_12_23.C1419.L1362.208-annotated.edf...\n",
      "EDF file detected\n",
      "Setting channel info structure...\n",
      "Creating raw.info structure...\n"
     ]
    },
    {
     "name": "stderr",
     "output_type": "stream",
     "text": [
      "/mnt/Common/Projects/ANNE_dl/preprocessing/main.py:70: RuntimeWarning: Physical range is not defined in following channels:\n",
      "PLM.events\n",
      "  data = mne.io.read_raw_edf(path)\n"
     ]
    },
    {
     "name": "stdout",
     "output_type": "stream",
     "text": [
      "Extracting EDF parameters from /mnt/Common/data/20-10-13-21_31_56.C1442.L1215.209-annotated.edf...\n",
      "EDF file detected\n",
      "Setting channel info structure...\n",
      "Creating raw.info structure...\n",
      "Extracting EDF parameters from /mnt/Common/data/20-10-14-21_31_33.C1459.L1198.210-annotated.edf...\n",
      "EDF file detected\n",
      "Setting channel info structure...\n",
      "Creating raw.info structure...\n"
     ]
    },
    {
     "name": "stderr",
     "output_type": "stream",
     "text": [
      "/mnt/Common/Projects/ANNE_dl/preprocessing/main.py:70: RuntimeWarning: Physical range is not defined in following channels:\n",
      "PLM.events\n",
      "  data = mne.io.read_raw_edf(path)\n"
     ]
    },
    {
     "name": "stdout",
     "output_type": "stream",
     "text": [
      "Extracting EDF parameters from /mnt/Common/data/20-10-15-21_57_07.C1425.L1205.211-annotated.edf...\n",
      "EDF file detected\n",
      "Setting channel info structure...\n",
      "Creating raw.info structure...\n",
      "Extracting EDF parameters from /mnt/Common/data/20-10-23-21_08_59.C1442.L1215.213-annotated.edf...\n",
      "EDF file detected\n",
      "Setting channel info structure...\n",
      "Creating raw.info structure...\n",
      "Extracting EDF parameters from /mnt/Common/data/20-10-28-21_32_43.C1459.L1198.214-annotated.edf...\n",
      "EDF file detected\n",
      "Setting channel info structure...\n",
      "Creating raw.info structure...\n",
      "Extracting EDF parameters from /mnt/Common/data/20-11-03-22_20_46.C1442.L1215.216-annotated.edf...\n",
      "EDF file detected\n",
      "Setting channel info structure...\n",
      "Creating raw.info structure...\n",
      "Extracting EDF parameters from /mnt/Common/data/20-11-04-22_03_00.C1459.L1198.217-annotated.edf...\n",
      "EDF file detected\n",
      "Setting channel info structure...\n",
      "Creating raw.info structure...\n"
     ]
    },
    {
     "name": "stderr",
     "output_type": "stream",
     "text": [
      "/mnt/Common/Projects/ANNE_dl/preprocessing/main.py:70: RuntimeWarning: Physical range is not defined in following channels:\n",
      "PLM.events\n",
      "  data = mne.io.read_raw_edf(path)\n"
     ]
    },
    {
     "name": "stdout",
     "output_type": "stream",
     "text": [
      "Extracting EDF parameters from /mnt/Common/data/20-11-09-21_34_42.C1425.L1205.218-annotated.edf...\n",
      "EDF file detected\n",
      "Setting channel info structure...\n",
      "Creating raw.info structure...\n",
      "Extracting EDF parameters from /mnt/Common/data/20-11-11-22_10_54.C1442.L1215.220-annotated.edf...\n",
      "EDF file detected\n",
      "Setting channel info structure...\n",
      "Creating raw.info structure...\n"
     ]
    },
    {
     "name": "stderr",
     "output_type": "stream",
     "text": [
      "/mnt/Common/Projects/ANNE_dl/preprocessing/main.py:70: RuntimeWarning: Physical range is not defined in following channels:\n",
      "PLM.events, SpO2.events\n",
      "  data = mne.io.read_raw_edf(path)\n"
     ]
    },
    {
     "name": "stdout",
     "output_type": "stream",
     "text": [
      "Extracting EDF parameters from /mnt/Common/data/20-11-17-22_12_58.C1459.L1198.221-annotated.edf...\n",
      "EDF file detected\n",
      "Setting channel info structure...\n",
      "Creating raw.info structure...\n",
      "Extracting EDF parameters from /mnt/Common/data/20-11-19-22_30_28.C1425.L1205.222-annotated.edf...\n",
      "EDF file detected\n",
      "Setting channel info structure...\n",
      "Creating raw.info structure...\n"
     ]
    },
    {
     "name": "stderr",
     "output_type": "stream",
     "text": [
      "/mnt/Common/Projects/ANNE_dl/preprocessing/main.py:70: RuntimeWarning: Physical range is not defined in following channels:\n",
      "PLM.events\n",
      "  data = mne.io.read_raw_edf(path)\n"
     ]
    },
    {
     "name": "stdout",
     "output_type": "stream",
     "text": [
      "Extracting EDF parameters from /mnt/Common/data/20-11-24-21_39_36.C1459.L1198.223-annotated.edf...\n",
      "EDF file detected\n",
      "Setting channel info structure...\n",
      "Creating raw.info structure...\n"
     ]
    },
    {
     "name": "stderr",
     "output_type": "stream",
     "text": [
      "/mnt/Common/Projects/ANNE_dl/preprocessing/main.py:70: RuntimeWarning: Physical range is not defined in following channels:\n",
      "PLM.events\n",
      "  data = mne.io.read_raw_edf(path)\n"
     ]
    },
    {
     "name": "stdout",
     "output_type": "stream",
     "text": [
      "Extracting EDF parameters from /mnt/Common/data/20-11-26-22_10_11.C1442.L1215.224-annotated.edf...\n",
      "EDF file detected\n",
      "Setting channel info structure...\n",
      "Creating raw.info structure...\n",
      "Extracting EDF parameters from /mnt/Common/data/20-12-01-22_20_13.C1425.L1205.225-annotated.edf...\n",
      "EDF file detected\n",
      "Setting channel info structure...\n",
      "Creating raw.info structure...\n",
      "Extracting EDF parameters from /mnt/Common/data/20-12-02-22_32_08.C1459.L1198.226-annotated.edf...\n",
      "EDF file detected\n",
      "Setting channel info structure...\n",
      "Creating raw.info structure...\n",
      "Extracting EDF parameters from /mnt/Common/data/20-12-08-21_39_09.C1425.L1205.228-annotated.edf...\n",
      "EDF file detected\n",
      "Setting channel info structure...\n",
      "Creating raw.info structure...\n",
      "Extracting EDF parameters from /mnt/Common/data/20-12-09-22_34_06.C1442.L1215.229-annotated.edf...\n",
      "EDF file detected\n",
      "Setting channel info structure...\n",
      "Creating raw.info structure...\n"
     ]
    },
    {
     "name": "stderr",
     "output_type": "stream",
     "text": [
      "/mnt/Common/Projects/ANNE_dl/preprocessing/main.py:70: RuntimeWarning: Physical range is not defined in following channels:\n",
      "PLM.events\n",
      "  data = mne.io.read_raw_edf(path)\n"
     ]
    },
    {
     "name": "stdout",
     "output_type": "stream",
     "text": [
      "Extracting EDF parameters from /mnt/Common/data/20-12-10-22_33_54.C1459.L1198.230-annotated.edf...\n",
      "EDF file detected\n",
      "Setting channel info structure...\n",
      "Creating raw.info structure...\n"
     ]
    },
    {
     "name": "stderr",
     "output_type": "stream",
     "text": [
      "/mnt/Common/Projects/ANNE_dl/preprocessing/main.py:70: RuntimeWarning: Physical range is not defined in following channels:\n",
      "PLM.events, SpO2.events\n",
      "  data = mne.io.read_raw_edf(path)\n"
     ]
    },
    {
     "name": "stdout",
     "output_type": "stream",
     "text": [
      "Extracting EDF parameters from /mnt/Common/data/20-12-15-22_02_08.C1425.L1205.231-annotated.edf...\n",
      "EDF file detected\n",
      "Setting channel info structure...\n",
      "Creating raw.info structure...\n",
      "Extracting EDF parameters from /mnt/Common/data/20-12-16-21_57_22.C1442.L1215.232-annotated.edf...\n",
      "EDF file detected\n",
      "Setting channel info structure...\n",
      "Creating raw.info structure...\n"
     ]
    },
    {
     "name": "stderr",
     "output_type": "stream",
     "text": [
      "/mnt/Common/Projects/ANNE_dl/preprocessing/main.py:70: RuntimeWarning: Physical range is not defined in following channels:\n",
      "PLM.events, SpO2.events\n",
      "  data = mne.io.read_raw_edf(path)\n"
     ]
    },
    {
     "name": "stdout",
     "output_type": "stream",
     "text": [
      "Extracting EDF parameters from /mnt/Common/data/20-12-17-22_24_00.C1459.L1198.233-annotated.edf...\n",
      "EDF file detected\n",
      "Setting channel info structure...\n",
      "Creating raw.info structure...\n",
      "Extracting EDF parameters from /mnt/Common/data/21-01-04-21_42_22.C1459.L1198.234-annotated.edf...\n",
      "EDF file detected\n",
      "Setting channel info structure...\n",
      "Creating raw.info structure...\n"
     ]
    },
    {
     "name": "stderr",
     "output_type": "stream",
     "text": [
      "/mnt/Common/Projects/ANNE_dl/preprocessing/main.py:70: RuntimeWarning: Physical range is not defined in following channels:\n",
      "PLM.events\n",
      "  data = mne.io.read_raw_edf(path)\n"
     ]
    },
    {
     "name": "stdout",
     "output_type": "stream",
     "text": [
      "Extracting EDF parameters from /mnt/Common/data/21-01-06-22_17_14.C1442.L1215.235-annotated.edf...\n",
      "EDF file detected\n",
      "Setting channel info structure...\n",
      "Creating raw.info structure...\n",
      "Extracting EDF parameters from /mnt/Common/data/21-01-06-22_45_53.C1425.L1205.236-annotated.edf...\n",
      "EDF file detected\n",
      "Setting channel info structure...\n",
      "Creating raw.info structure...\n",
      "Extracting EDF parameters from /mnt/Common/data/21-01-11-21_39_04.C1425.L1205.237-annotated.edf...\n",
      "EDF file detected\n",
      "Setting channel info structure...\n",
      "Creating raw.info structure...\n",
      "Extracting EDF parameters from /mnt/Common/data/21-01-12-21_30_33.C1442.L1215.238-annotated.edf...\n",
      "EDF file detected\n",
      "Setting channel info structure...\n",
      "Creating raw.info structure...\n",
      "Extracting EDF parameters from /mnt/Common/data/21-01-25-21_33_14.C1425.L1205.242-annotated.edf...\n",
      "EDF file detected\n",
      "Setting channel info structure...\n",
      "Creating raw.info structure...\n",
      "Extracting EDF parameters from /mnt/Common/data/21-02-01-21_36_56.C1425.L1205.244-annotated.edf...\n",
      "EDF file detected\n",
      "Setting channel info structure...\n",
      "Creating raw.info structure...\n",
      "Extracting EDF parameters from /mnt/Common/data/21-02-02-21_48_54.C1425.L1205.246-annotated.edf...\n",
      "EDF file detected\n",
      "Setting channel info structure...\n",
      "Creating raw.info structure...\n",
      "Extracting EDF parameters from /mnt/Common/data/21-02-08-21_42_48.C1425.L1205.247-annotated.edf...\n",
      "EDF file detected\n",
      "Setting channel info structure...\n",
      "Creating raw.info structure...\n",
      "Extracting EDF parameters from /mnt/Common/data/21-02-18-21_07_23.C1442.L1215.250-annotated.edf...\n",
      "EDF file detected\n",
      "Setting channel info structure...\n",
      "Creating raw.info structure...\n"
     ]
    },
    {
     "name": "stderr",
     "output_type": "stream",
     "text": [
      "/mnt/Common/Projects/ANNE_dl/preprocessing/main.py:70: RuntimeWarning: Physical range is not defined in following channels:\n",
      "PLM.events\n",
      "  data = mne.io.read_raw_edf(path)\n"
     ]
    },
    {
     "name": "stdout",
     "output_type": "stream",
     "text": [
      "Extracting EDF parameters from /mnt/Common/data/21-02-18-21_48_01.C1425.L1205.251-annotated.edf...\n",
      "EDF file detected\n",
      "Setting channel info structure...\n",
      "Creating raw.info structure...\n",
      "Extracting EDF parameters from /mnt/Common/data/21-02-23-21_30_23.C1425.L1205.252-annotated.edf...\n",
      "EDF file detected\n",
      "Setting channel info structure...\n",
      "Creating raw.info structure...\n",
      "Extracting EDF parameters from /mnt/Common/data/21-03-01-21_32_46.C1425.L1205.253-annotated.edf...\n",
      "EDF file detected\n",
      "Setting channel info structure...\n",
      "Creating raw.info structure...\n",
      "Extracting EDF parameters from /mnt/Common/data/21-03-03-21_54_30.C1425.L1205.254-annotated.edf...\n",
      "EDF file detected\n",
      "Setting channel info structure...\n",
      "Creating raw.info structure...\n",
      "Extracting EDF parameters from /mnt/Common/data/21-03-09-21_20_56.C1442.L1215.256-annotated.edf...\n",
      "EDF file detected\n",
      "Setting channel info structure...\n",
      "Creating raw.info structure...\n",
      "Extracting EDF parameters from /mnt/Common/data/21-03-15-21_16_58.C1442.L1215.258-annotated.edf...\n",
      "EDF file detected\n",
      "Setting channel info structure...\n",
      "Creating raw.info structure...\n",
      "Extracting EDF parameters from /mnt/Common/data/21-03-15-21_46_08.C1425.L1205.259-annotated.edf...\n",
      "EDF file detected\n",
      "Setting channel info structure...\n",
      "Creating raw.info structure...\n",
      "Extracting EDF parameters from /mnt/Common/data/21-03-22-22_36_53.C1442.L1215.261-annotated.edf...\n",
      "EDF file detected\n",
      "Setting channel info structure...\n",
      "Creating raw.info structure...\n",
      "Extracting EDF parameters from /mnt/Common/data/21-03-23-21_25_37.C1425.L1205.262-annotated.edf...\n",
      "EDF file detected\n",
      "Setting channel info structure...\n",
      "Creating raw.info structure...\n",
      "Extracting EDF parameters from /mnt/Common/data/21-03-31-21_30_29.C1442.L1215.264-annotated.edf...\n",
      "EDF file detected\n",
      "Setting channel info structure...\n",
      "Creating raw.info structure...\n",
      "Extracting EDF parameters from /mnt/Common/data/21-04-05-20_58_49.C1442.L1215.265-annotated.edf...\n",
      "EDF file detected\n",
      "Setting channel info structure...\n",
      "Creating raw.info structure...\n",
      "Extracting EDF parameters from /mnt/Common/data/21-04-27-21_37_47.C1442.L1215.269-annotated.edf...\n",
      "EDF file detected\n",
      "Setting channel info structure...\n",
      "Creating raw.info structure...\n",
      "Extracting EDF parameters from /mnt/Common/data/21-05-03-21_34_52.C1442.L1215.271-annotated.edf...\n",
      "EDF file detected\n",
      "Setting channel info structure...\n",
      "Creating raw.info structure...\n",
      "Extracting EDF parameters from /mnt/Common/data/21-05-04-21_44_15.C1442.L1215.272-annotated.edf...\n",
      "EDF file detected\n",
      "Setting channel info structure...\n",
      "Creating raw.info structure...\n",
      "Extracting EDF parameters from /mnt/Common/data/21-05-10-21_33_11.C1442.L1215.274-annotated.edf...\n",
      "EDF file detected\n",
      "Setting channel info structure...\n",
      "Creating raw.info structure...\n",
      "Extracting EDF parameters from /mnt/Common/data/21-05-11-21_27_17.C1442.L1215.275-annotated.edf...\n",
      "EDF file detected\n",
      "Setting channel info structure...\n",
      "Creating raw.info structure...\n",
      "Extracting EDF parameters from /mnt/Common/data/21-05-17-21_15_06.C1442.L1215.277-annotated.edf...\n",
      "EDF file detected\n",
      "Setting channel info structure...\n",
      "Creating raw.info structure...\n",
      "Extracting EDF parameters from /mnt/Common/data/21-05-26-21_34_07.C1390.L1215.281-annotated.edf...\n",
      "EDF file detected\n",
      "Setting channel info structure...\n",
      "Creating raw.info structure...\n",
      "Extracting EDF parameters from /mnt/Common/data/21-05-31-22_11_50.C1390.L1215.282-annotated.edf...\n",
      "EDF file detected\n",
      "Setting channel info structure...\n",
      "Creating raw.info structure...\n"
     ]
    },
    {
     "name": "stderr",
     "output_type": "stream",
     "text": [
      "/mnt/Common/Projects/ANNE_dl/preprocessing/main.py:70: RuntimeWarning: Physical range is not defined in following channels:\n",
      "PLM.events\n",
      "  data = mne.io.read_raw_edf(path)\n"
     ]
    }
   ],
   "source": [
    "\n",
    "# Check gpu availability\n",
    "device = torch.device(\"cuda:0\" if torch.cuda.is_available() else \"cpu\")\n",
    "\n",
    "torch.cuda.empty_cache()\n",
    "# Load data:\n",
    "train_list = get_edf_files(\"/mnt/Common/data\")\n",
    "\n",
    "validation_list = random.sample(train_list, 20)\n",
    "print(validation_list)\n",
    "save_strings_to_json(validation_list, \"./validation.json\")\n",
    "\n",
    "\n",
    "train_dataloaders = []\n",
    "valid_dataloaders = []\n",
    "for path in train_list:\n",
    "    # try:\n",
    "        X, X_freq, X_scl, t = main(path)\n",
    "        # for binary classification\n",
    "        # t = np.where(t == 2, 1, t)\n",
    "        # print(t)\n",
    "        dataset = ANNEDataset(X, X_freq, np.zeros(shape = (len(X), 1)), t, device)\n",
    "        size = len(X)\n",
    "        if path not in validation_list:\n",
    "            train_dataloaders.append(DataLoader(dataset=dataset, batch_size=size))\n",
    "\n",
    "        else:\n",
    "            valid_dataloaders.append(DataLoader(dataset=dataset, batch_size=size))\n",
    "    # except:\n",
    "    #     print(f\"Something went wrong for file {path}\")\n",
    "# random.shuffle(train_list)\n",
    "\n"
   ],
   "metadata": {
    "collapsed": false,
    "pycharm": {
     "name": "#%%\n",
     "is_executing": true
    }
   }
  },
  {
   "cell_type": "code",
   "execution_count": 1,
   "outputs": [
    {
     "ename": "NameError",
     "evalue": "name 'CRNN' is not defined",
     "output_type": "error",
     "traceback": [
      "\u001B[0;31m---------------------------------------------------------------------------\u001B[0m",
      "\u001B[0;31mNameError\u001B[0m                                 Traceback (most recent call last)",
      "\u001B[0;32m/tmp/ipykernel_8251/874749551.py\u001B[0m in \u001B[0;36m<module>\u001B[0;34m\u001B[0m\n\u001B[1;32m      1\u001B[0m \u001B[0;31m# Build model\u001B[0m\u001B[0;34m\u001B[0m\u001B[0;34m\u001B[0m\u001B[0m\n\u001B[0;32m----> 2\u001B[0;31m \u001B[0mmodel\u001B[0m \u001B[0;34m=\u001B[0m \u001B[0mCRNN\u001B[0m\u001B[0;34m(\u001B[0m\u001B[0mnum_classes\u001B[0m\u001B[0;34m=\u001B[0m\u001B[0;36m3\u001B[0m\u001B[0;34m,\u001B[0m \u001B[0min_channels\u001B[0m\u001B[0;34m=\u001B[0m\u001B[0mX\u001B[0m\u001B[0;34m.\u001B[0m\u001B[0mshape\u001B[0m\u001B[0;34m[\u001B[0m\u001B[0;36m1\u001B[0m\u001B[0;34m]\u001B[0m\u001B[0;34m,\u001B[0m \u001B[0min_channels_f\u001B[0m\u001B[0;34m=\u001B[0m\u001B[0mX_freq\u001B[0m\u001B[0;34m.\u001B[0m\u001B[0mshape\u001B[0m\u001B[0;34m[\u001B[0m\u001B[0;36m1\u001B[0m\u001B[0;34m]\u001B[0m\u001B[0;34m,\u001B[0m \u001B[0min_channels_s\u001B[0m\u001B[0;34m=\u001B[0m\u001B[0;36m0\u001B[0m\u001B[0;34m,\u001B[0m \u001B[0mmodel\u001B[0m\u001B[0;34m=\u001B[0m\u001B[0;34m'gru'\u001B[0m\u001B[0;34m)\u001B[0m\u001B[0;34m\u001B[0m\u001B[0;34m\u001B[0m\u001B[0m\n\u001B[0m\u001B[1;32m      3\u001B[0m \u001B[0;31m#\u001B[0m\u001B[0;34m\u001B[0m\u001B[0;34m\u001B[0m\u001B[0m\n\u001B[1;32m      4\u001B[0m \u001B[0;31m# MODEL_PATH = \"\"\u001B[0m\u001B[0;34m\u001B[0m\u001B[0;34m\u001B[0m\u001B[0m\n\u001B[1;32m      5\u001B[0m \u001B[0;31m# model = torch.load(MODEL_PATH)\u001B[0m\u001B[0;34m\u001B[0m\u001B[0;34m\u001B[0m\u001B[0m\n",
      "\u001B[0;31mNameError\u001B[0m: name 'CRNN' is not defined"
     ]
    }
   ],
   "source": [
    "# Build model\n",
    "model = CRNN(num_classes=3, in_channels=X.shape[1], in_channels_f=X_freq.shape[1], in_channels_s=0, model='gru')\n",
    "#\n",
    "# MODEL_PATH = \"\"\n",
    "# model = torch.load(MODEL_PATH)\n",
    "# Initialize dataloaders\n",
    "# train_dataset = ANNEDataset(X1, X1f, X1s, t1, device)\n",
    "# train_dataloader = DataLoader(dataset=train_dataset, batch_size=4096)\n",
    "# val_dataset = ANNEDataset(X2, X2f, X2s, t2, device)\n",
    "# val_dataloader = DataLoader(dataset=val_dataset)\n",
    "\n",
    "# Visualize model\n",
    "# dummy_input = torch.randn(1024, 6, 25 * 30)\n",
    "# torch.onnx.export(model, dummy_input, \"./model.onnx\")\n",
    "\n",
    "# Train model:\n",
    "learning_rate = 0.0001\n",
    "epochs = 400\n",
    "# dummy_input = torch.randn(4096, X.shape[1], 25*30)\n",
    "# dummy_input_freq = torch.randn(4096, X_freq.shape[1], X_freq.shape[2])\n",
    "# dummy_input_scl = torch.randn(4096, X_scl.shape[1], X_scl.shape[2])\n",
    "# torch.onnx.export(model, dummy_input, \"./model.onnx\")\n",
    "\n",
    "# Train model:\n",
    "optimizer = torch.optim.AdamW(model.parameters(), lr=learning_rate, betas=(0.9, 0.95), weight_decay=0.1)\n",
    "# Create the learning rate scheduler\n",
    "scheduler = CosineWithWarmupLR(optimizer, warmup_epochs=15, max_epochs=150, max_lr=learning_rate, min_lr=0.000001)\n",
    "# scheduler = CyclicLR(optimizer, max_lr = 0.01, base_lr =0.0000001, step_size_up=15, step_size_down=20, gamma=0.85, cycle_momentum=False, mode=\"triangular2\")\n",
    "# Run the training loop\n",
    "train_accs, test_accs, train_losses, test_losses, learning_rates = train_model(model, optimizer, train_dataloaders,\n",
    "                                                                               valid_dataloaders,\n",
    "                                                                               scheduler,\n",
    "                                                                               epochs=epochs,\n",
    "                                                                               print_every=1)\n",
    "model_scripted = torch.jit.script(model)\n",
    "model_scripted.save(f\"checkpoints/model_{timestr}.pt\")\n",
    "print(\"Model Saved\")\n",
    "\n",
    "plt.plot(train_losses)\n",
    "plt.plot(test_losses)\n",
    "plt.title(\"loss\")\n",
    "plt.show()\n",
    "\n",
    "plt.plot(train_accs)\n",
    "plt.plot(test_accs)\n",
    "plt.title(\"accuracy\")\n",
    "plt.show()\n",
    "\n",
    "plt.plot(learning_rates)\n",
    "plt.plot(learning_rates)\n",
    "plt.title(\"learning_rates\")\n",
    "plt.show()"
   ],
   "metadata": {
    "collapsed": false,
    "pycharm": {
     "name": "#%%\n"
    }
   }
  }
 ],
 "metadata": {
  "kernelspec": {
   "display_name": "Python 3",
   "language": "python",
   "name": "python3"
  },
  "language_info": {
   "codemirror_mode": {
    "name": "ipython",
    "version": 2
   },
   "file_extension": ".py",
   "mimetype": "text/x-python",
   "name": "python",
   "nbconvert_exporter": "python",
   "pygments_lexer": "ipython2",
   "version": "2.7.6"
  }
 },
 "nbformat": 4,
 "nbformat_minor": 0
}